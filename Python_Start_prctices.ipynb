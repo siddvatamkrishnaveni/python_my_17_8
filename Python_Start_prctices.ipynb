{
 "cells": [
  {
   "cell_type": "markdown",
   "id": "fe46862b-ee02-49c1-b30a-2b65e88867f6",
   "metadata": {},
   "source": [
    "# formulas\n",
    "- area of circle=pi*r**2\n",
    "- area of triangle=0.5*breadth*height\n",
    "- perimeter of rectangle=2*(l+b)\n",
    "- area of rectangle=l*b\n",
    "- volume of the cylinder=pi*r*r*h"
   ]
  },
  {
   "cell_type": "code",
   "execution_count": 35,
   "id": "83016e9a-efe1-4b9d-8dce-9c702e2e9c2d",
   "metadata": {},
   "outputs": [
    {
     "data": {
      "text/plain": [
       "5"
      ]
     },
     "execution_count": 35,
     "metadata": {},
     "output_type": "execute_result"
    }
   ],
   "source": [
    "0b101"
   ]
  },
  {
   "cell_type": "code",
   "execution_count": 3,
   "id": "ab80316a-8322-48ac-861f-2a56c3bf1755",
   "metadata": {},
   "outputs": [
    {
     "data": {
      "text/plain": [
       "5"
      ]
     },
     "execution_count": 3,
     "metadata": {},
     "output_type": "execute_result"
    }
   ],
   "source": [
    "0B101"
   ]
  },
  {
   "cell_type": "code",
   "execution_count": 4,
   "id": "c80f880c-91ae-4208-a276-94eed9dc3a60",
   "metadata": {},
   "outputs": [
    {
     "data": {
      "text/plain": [
       "83"
      ]
     },
     "execution_count": 4,
     "metadata": {},
     "output_type": "execute_result"
    }
   ],
   "source": [
    "0O123"
   ]
  },
  {
   "cell_type": "code",
   "execution_count": 5,
   "id": "0449bb00-48dc-4622-8754-fbcd54b99067",
   "metadata": {},
   "outputs": [
    {
     "data": {
      "text/plain": [
       "83"
      ]
     },
     "execution_count": 5,
     "metadata": {},
     "output_type": "execute_result"
    }
   ],
   "source": [
    "0o123"
   ]
  },
  {
   "cell_type": "code",
   "execution_count": 6,
   "id": "29830557-5ac4-4978-80ae-8329a97c7d46",
   "metadata": {},
   "outputs": [
    {
     "data": {
      "text/plain": [
       "2588"
      ]
     },
     "execution_count": 6,
     "metadata": {},
     "output_type": "execute_result"
    }
   ],
   "source": [
    "0xa1c"
   ]
  },
  {
   "cell_type": "code",
   "execution_count": 7,
   "id": "d6c0a983-bf25-4757-9153-5585e606846f",
   "metadata": {},
   "outputs": [
    {
     "data": {
      "text/plain": [
       "2588"
      ]
     },
     "execution_count": 7,
     "metadata": {},
     "output_type": "execute_result"
    }
   ],
   "source": [
    "0XA1c"
   ]
  },
  {
   "cell_type": "code",
   "execution_count": 8,
   "id": "23d3ff8b-b321-4190-8212-71496f88b995",
   "metadata": {},
   "outputs": [
    {
     "data": {
      "text/plain": [
       "1000.0"
      ]
     },
     "execution_count": 8,
     "metadata": {},
     "output_type": "execute_result"
    }
   ],
   "source": [
    "1e+3"
   ]
  },
  {
   "cell_type": "code",
   "execution_count": 9,
   "id": "2bddae68-dfb6-49ee-bc08-f16533454fc7",
   "metadata": {},
   "outputs": [
    {
     "data": {
      "text/plain": [
       "(10.0, 100.0, 1000.0)"
      ]
     },
     "execution_count": 9,
     "metadata": {},
     "output_type": "execute_result"
    }
   ],
   "source": [
    "1e+1,1e+2,1e+3"
   ]
  },
  {
   "cell_type": "code",
   "execution_count": 10,
   "id": "6942f2dc-7b7f-4fa0-afd0-6015c3321e9c",
   "metadata": {},
   "outputs": [
    {
     "data": {
      "text/plain": [
       "(0.1, 0.01, 0.001, 0.0001)"
      ]
     },
     "execution_count": 10,
     "metadata": {},
     "output_type": "execute_result"
    }
   ],
   "source": [
    "1e-1,1e-2,1e-3,1e-4"
   ]
  },
  {
   "cell_type": "markdown",
   "id": "83b13bcb-ab8c-453d-a0f0-2a463da99911",
   "metadata": {},
   "source": [
    "# type casting-type converstion means type casting"
   ]
  },
  {
   "cell_type": "markdown",
   "id": "cd608002-2ebc-4967-a069-fa8f284bf384",
   "metadata": {},
   "source": [
    "## int to all datatypes"
   ]
  },
  {
   "cell_type": "code",
   "execution_count": 16,
   "id": "5660d931-29f3-4162-bc5e-672b2e9c7507",
   "metadata": {},
   "outputs": [
    {
     "data": {
      "text/plain": [
       "(True, True, False)"
      ]
     },
     "execution_count": 16,
     "metadata": {},
     "output_type": "execute_result"
    }
   ],
   "source": [
    "bool(100),bool(-100),bool(0)"
   ]
  },
  {
   "cell_type": "markdown",
   "id": "248e1b13-4da8-468c-8369-bf70c1ee613e",
   "metadata": {},
   "source": [
    "## float to all datatypes"
   ]
  },
  {
   "cell_type": "code",
   "execution_count": 12,
   "id": "feb3c9b3-b523-465a-9661-ee39b8d6bfd2",
   "metadata": {},
   "outputs": [
    {
     "data": {
      "text/plain": [
       "False"
      ]
     },
     "execution_count": 12,
     "metadata": {},
     "output_type": "execute_result"
    }
   ],
   "source": [
    "bool(0.0)"
   ]
  },
  {
   "cell_type": "markdown",
   "id": "7266a53c-fbca-43ac-b6ca-fdc20484007c",
   "metadata": {},
   "source": [
    "## string to all datatypes\n",
    "## three cases"
   ]
  },
  {
   "cell_type": "code",
   "execution_count": 14,
   "id": "dc08833e-3e1c-4ae6-845f-60a28048505c",
   "metadata": {},
   "outputs": [
    {
     "data": {
      "text/plain": [
       "'100.23'"
      ]
     },
     "execution_count": 14,
     "metadata": {},
     "output_type": "execute_result"
    }
   ],
   "source": [
    "str('100.23')"
   ]
  },
  {
   "cell_type": "markdown",
   "id": "e86bb546-9900-4e1f-9b29-5e043086716b",
   "metadata": {},
   "source": [
    "- case_1"
   ]
  },
  {
   "cell_type": "code",
   "execution_count": 19,
   "id": "e8a24ca0-7ef9-4980-b685-bed46e394bf1",
   "metadata": {},
   "outputs": [
    {
     "name": "stdout",
     "output_type": "stream",
     "text": [
      "100\n",
      "100.0\n",
      "True\n"
     ]
    }
   ],
   "source": [
    "print(int('100')) #true\n",
    "print(float('100'))#true\n",
    "print(bool('100'))#true"
   ]
  },
  {
   "cell_type": "markdown",
   "id": "0e406b55-e35c-4319-9835-44318929f8e0",
   "metadata": {},
   "source": [
    "- case_2"
   ]
  },
  {
   "cell_type": "code",
   "execution_count": 20,
   "id": "3ac1ce4c-2e36-4901-b16f-3e81695478df",
   "metadata": {},
   "outputs": [
    {
     "ename": "ValueError",
     "evalue": "invalid literal for int() with base 10: '100.23'",
     "output_type": "error",
     "traceback": [
      "\u001b[1;31m---------------------------------------------------------------------------\u001b[0m",
      "\u001b[1;31mValueError\u001b[0m                                Traceback (most recent call last)",
      "Cell \u001b[1;32mIn[20], line 2\u001b[0m\n\u001b[0;32m      1\u001b[0m \u001b[38;5;66;03m#case_2\u001b[39;00m\n\u001b[1;32m----> 2\u001b[0m \u001b[38;5;28;43mint\u001b[39;49m\u001b[43m(\u001b[49m\u001b[38;5;124;43m'\u001b[39;49m\u001b[38;5;124;43m100.23\u001b[39;49m\u001b[38;5;124;43m'\u001b[39;49m\u001b[43m)\u001b[49m\n\u001b[0;32m      3\u001b[0m \u001b[38;5;66;03m#float is boss\u001b[39;00m\n\u001b[0;32m      4\u001b[0m \u001b[38;5;66;03m#integer converstion float value in string format will fail\u001b[39;00m\n",
      "\u001b[1;31mValueError\u001b[0m: invalid literal for int() with base 10: '100.23'"
     ]
    }
   ],
   "source": [
    "int('100.23')\n",
    "#float is boss\n",
    "#integer converstion float value in string format will fail\n",
    "#integer will accept the float value   ex: int(100.25)  works\n",
    "#integer will not accept the float value in strings format  ex: int('100.25') fail"
   ]
  },
  {
   "cell_type": "markdown",
   "id": "03f21e80-94f7-44de-b473-70ad6d703f34",
   "metadata": {},
   "source": [
    "- case-3"
   ]
  },
  {
   "cell_type": "code",
   "execution_count": 22,
   "id": "3090af2c-ead1-4d80-863b-c701b12f3fb8",
   "metadata": {},
   "outputs": [
    {
     "ename": "ValueError",
     "evalue": "invalid literal for int() with base 10: 'python'",
     "output_type": "error",
     "traceback": [
      "\u001b[1;31m---------------------------------------------------------------------------\u001b[0m",
      "\u001b[1;31mValueError\u001b[0m                                Traceback (most recent call last)",
      "Cell \u001b[1;32mIn[22], line 2\u001b[0m\n\u001b[0;32m      1\u001b[0m \u001b[38;5;66;03m#case-3\u001b[39;00m\n\u001b[1;32m----> 2\u001b[0m \u001b[38;5;28;43mint\u001b[39;49m\u001b[43m(\u001b[49m\u001b[38;5;124;43m'\u001b[39;49m\u001b[38;5;124;43mpython\u001b[39;49m\u001b[38;5;124;43m'\u001b[39;49m\u001b[43m)\u001b[49m   \u001b[38;5;66;03m# Fail\u001b[39;00m\n\u001b[0;32m      3\u001b[0m \u001b[38;5;28mfloat\u001b[39m(\u001b[38;5;124m'\u001b[39m\u001b[38;5;124mpython\u001b[39m\u001b[38;5;124m'\u001b[39m) \u001b[38;5;66;03m# Fail\u001b[39;00m\n\u001b[0;32m      4\u001b[0m \u001b[38;5;28mbool\u001b[39m(\u001b[38;5;124m'\u001b[39m\u001b[38;5;124mpython\u001b[39m\u001b[38;5;124m'\u001b[39m)  \u001b[38;5;66;03m# True\u001b[39;00m\n",
      "\u001b[1;31mValueError\u001b[0m: invalid literal for int() with base 10: 'python'"
     ]
    }
   ],
   "source": [
    "int('python')   # Fail\n",
    "float('python') # Fail\n",
    "bool('python')  # True"
   ]
  },
  {
   "cell_type": "markdown",
   "id": "8362ab12-74f5-497c-9f9a-f5b2a4cb5100",
   "metadata": {},
   "source": [
    "## boolean to all other datatypes"
   ]
  },
  {
   "cell_type": "code",
   "execution_count": 27,
   "id": "189c3597-5f75-4636-b89c-a7c7f04aae68",
   "metadata": {},
   "outputs": [
    {
     "data": {
      "text/plain": [
       "False"
      ]
     },
     "execution_count": 27,
     "metadata": {},
     "output_type": "execute_result"
    }
   ],
   "source": [
    "bool('100')  # True\n",
    "bool('100.25') # True\n",
    "bool('0')    # True\n",
    "bool('0.0')  # True\n",
    "bool('python') # True\n",
    "bool(100)  # T\n",
    "bool(-100) # T\n",
    "bool(100.25) # T\n",
    "bool(0)  # F   (Off )\n",
    "bool(0.0) # F  (off)\n",
    "bool('')  # F   (off)"
   ]
  },
  {
   "cell_type": "markdown",
   "id": "12942734-7753-4e1e-9bff-2baac74a574a",
   "metadata": {},
   "source": [
    "# print statement"
   ]
  },
  {
   "cell_type": "code",
   "execution_count": 28,
   "id": "799d0387-a606-4988-85f7-c289edf76739",
   "metadata": {},
   "outputs": [
    {
     "ename": "TypeError",
     "evalue": "'add' is an invalid keyword argument for print()",
     "output_type": "error",
     "traceback": [
      "\u001b[1;31m---------------------------------------------------------------------------\u001b[0m",
      "\u001b[1;31mTypeError\u001b[0m                                 Traceback (most recent call last)",
      "Cell \u001b[1;32mIn[28], line 3\u001b[0m\n\u001b[0;32m      1\u001b[0m a\u001b[38;5;241m=\u001b[39m\u001b[38;5;241m10\u001b[39m\n\u001b[0;32m      2\u001b[0m b\u001b[38;5;241m=\u001b[39m\u001b[38;5;241m20\u001b[39m\n\u001b[1;32m----> 3\u001b[0m \u001b[38;5;28;43mprint\u001b[39;49m\u001b[43m(\u001b[49m\u001b[43madd\u001b[49m\u001b[38;5;241;43m=\u001b[39;49m\u001b[43ma\u001b[49m\u001b[38;5;241;43m+\u001b[39;49m\u001b[43mb\u001b[49m\u001b[43m)\u001b[49m\n",
      "\u001b[1;31mTypeError\u001b[0m: 'add' is an invalid keyword argument for print()"
     ]
    }
   ],
   "source": [
    "a=10\n",
    "b=20\n",
    "print(add=a+b)"
   ]
  },
  {
   "cell_type": "code",
   "execution_count": 29,
   "id": "3eadfa0b-e761-4138-a5e4-97e9ef8f63a1",
   "metadata": {},
   "outputs": [
    {
     "name": "stdout",
     "output_type": "stream",
     "text": [
      "the addition of 200 and 30 is 230\n"
     ]
    }
   ],
   "source": [
    "num1=200\n",
    "num2=30\n",
    "add=num1+num2\n",
    "print(\"the addition of\",num1,'and',num2,'is',add)"
   ]
  },
  {
   "cell_type": "markdown",
   "id": "91b44409-49b9-4e69-baab-3b9661c21177",
   "metadata": {},
   "source": [
    "# format"
   ]
  },
  {
   "cell_type": "code",
   "execution_count": 31,
   "id": "fa8b0e45-2700-4aaf-a5cc-b96741241e2f",
   "metadata": {},
   "outputs": [
    {
     "name": "stdout",
     "output_type": "stream",
     "text": [
      "the addition is 10 and 20 is 30\n"
     ]
    }
   ],
   "source": [
    "#method_1\n",
    "a=10\n",
    "b=20\n",
    "add=a+b\n",
    "print(\"the addition is {} and {} is {}\".format(a,b,add))"
   ]
  },
  {
   "cell_type": "markdown",
   "id": "cb6eff5a-0d58-40b0-9cef-5ae077e101e3",
   "metadata": {},
   "source": [
    "## f_string method_2"
   ]
  },
  {
   "cell_type": "code",
   "execution_count": 32,
   "id": "2951b1ed-5926-4aa4-aa00-2eaa673c543a",
   "metadata": {},
   "outputs": [
    {
     "name": "stdout",
     "output_type": "stream",
     "text": [
      "the addition is 10 and 20 is 30\n"
     ]
    }
   ],
   "source": [
    "a=10\n",
    "b=20\n",
    "add=a+b\n",
    "print(f\"the addition is {a} and {b} is {add}\")"
   ]
  },
  {
   "cell_type": "markdown",
   "id": "0e07f5eb-e343-4f21-a619-2c357e85d0d2",
   "metadata": {},
   "source": [
    "## round"
   ]
  },
  {
   "cell_type": "code",
   "execution_count": 34,
   "id": "81fb6919-0eac-4a5b-b1e4-30023c89f047",
   "metadata": {},
   "outputs": [
    {
     "data": {
      "text/plain": [
       "123.457"
      ]
     },
     "execution_count": 34,
     "metadata": {},
     "output_type": "execute_result"
    }
   ],
   "source": [
    "a=123.45678\n",
    "round(a,3)"
   ]
  },
  {
   "cell_type": "markdown",
   "id": "f71df6dc-2af1-4dc8-8db6-e889d1807dfb",
   "metadata": {},
   "source": [
    "## end\n",
    "- this is for if print statement has one value or one statement"
   ]
  },
  {
   "cell_type": "code",
   "execution_count": 36,
   "id": "44f3c2d9-1e30-4e10-8cf3-61e1b333af70",
   "metadata": {},
   "outputs": [
    {
     "name": "stdout",
     "output_type": "stream",
     "text": [
      "hello good morning\n"
     ]
    }
   ],
   "source": [
    "print('hello',end=' ')  # 1\n",
    "print('good morning') # 2  "
   ]
  },
  {
   "cell_type": "code",
   "execution_count": 39,
   "id": "0d46647d-1682-431e-9bb5-5b5ad68edb6b",
   "metadata": {},
   "outputs": [
    {
     "name": "stdout",
     "output_type": "stream",
     "text": [
      "1@2$3#"
     ]
    }
   ],
   "source": [
    "print(1,end='@')\n",
    "print(2,end='$')\n",
    "print(3,end=\"#\")"
   ]
  },
  {
   "cell_type": "markdown",
   "id": "6edbdeb5-3086-4a0c-bb94-b9bcbb75fcdd",
   "metadata": {},
   "source": [
    "## sep\n",
    "- this is for if print statement have more than one value or multiple value"
   ]
  },
  {
   "cell_type": "code",
   "execution_count": 2,
   "id": "ca2d5e67-7212-49a1-b1b3-3f518361d15c",
   "metadata": {},
   "outputs": [
    {
     "name": "stdout",
     "output_type": "stream",
     "text": [
      "28-6-2001\n"
     ]
    }
   ],
   "source": [
    "print(28,6,2001,sep=\"-\")"
   ]
  },
  {
   "cell_type": "code",
   "execution_count": 4,
   "id": "c7e59874-dbd2-4dd8-a6b8-491a7166d6f0",
   "metadata": {},
   "outputs": [
    {
     "name": "stdout",
     "output_type": "stream",
     "text": [
      "a,b,c\n"
     ]
    }
   ],
   "source": [
    "print('a','b','c',sep=\",\")"
   ]
  },
  {
   "cell_type": "markdown",
   "id": "15ed170f-7878-48c5-aa26-0e6fb258f52d",
   "metadata": {},
   "source": [
    "## input"
   ]
  },
  {
   "cell_type": "code",
   "execution_count": 7,
   "id": "28e32a13-510c-459a-accb-2856a7b54d56",
   "metadata": {},
   "outputs": [
    {
     "name": "stdin",
     "output_type": "stream",
     "text": [
      "Enter the string krishna\n",
      "Enter the integer 6\n",
      "Enter the float 7\n"
     ]
    },
    {
     "name": "stdout",
     "output_type": "stream",
     "text": [
      "krishna\n",
      "6\n",
      "7.0\n"
     ]
    }
   ],
   "source": [
    "n=input(\"Enter the string\")\n",
    "k=int(input(\"Enter the integer\"))\n",
    "j=float(input(\"Enter the float\"))\n",
    "print(n)\n",
    "print(k)\n",
    "print(j)"
   ]
  },
  {
   "cell_type": "markdown",
   "id": "7d0e6b3e-84fb-4f3c-b2ce-05817441a967",
   "metadata": {},
   "source": [
    "# three ways to provide the number\n",
    "- hard coded\n",
    "          - a=10\n",
    "- from keyboard\n",
    "          - a=eval(input())\n",
    "- using random package\n",
    "          - a=random.randint(1,100)"
   ]
  },
  {
   "cell_type": "markdown",
   "id": "f2f874be-285f-4589-8321-fdd0184a992a",
   "metadata": {},
   "source": [
    "## eval\n",
    "- eval means evaluate\n",
    "- evalute will use for numbers only, not for english\n",
    "- evaluate will convert integer number to integer\n",
    "- evaluate will convert float numbers to float"
   ]
  },
  {
   "cell_type": "code",
   "execution_count": 11,
   "id": "59d7c3e4-cc4b-43da-a4ea-d36db168e481",
   "metadata": {},
   "outputs": [
    {
     "name": "stdin",
     "output_type": "stream",
     "text": [
      "Enter the number 7\n",
      "Enter the float 8.0\n"
     ]
    },
    {
     "name": "stdout",
     "output_type": "stream",
     "text": [
      "7\n",
      "8.0\n"
     ]
    }
   ],
   "source": [
    "n=eval(input(\"Enter the number\"))\n",
    "j=eval(input(\"Enter the float\"))\n",
    "print(n)\n",
    "print(j)"
   ]
  },
  {
   "cell_type": "code",
   "execution_count": 16,
   "id": "c8143748-052d-402e-a1c3-f7354fa0ee01",
   "metadata": {},
   "outputs": [
    {
     "name": "stdin",
     "output_type": "stream",
     "text": [
      "Enter the first number:  4\n",
      "Enter the second number:  3\n"
     ]
    },
    {
     "name": "stdout",
     "output_type": "stream",
     "text": [
      "addition of 4 and 3 is : 7\n",
      "subtraction of 4 and 3 is : 1\n",
      "multiplication of 4 and 3 is : 12\n",
      "division of 4 and 3 is : 1.3333333333333333\n"
     ]
    }
   ],
   "source": [
    "# Q1) Wap ask the user enter two numbers from keyboard\n",
    "# print addition\n",
    "# print subtraction\n",
    "# print multiplication\n",
    "# print division using f string method\n",
    "\n",
    "a=eval(input(\"Enter the first number: \"))\n",
    "b=eval(input(\"Enter the second number: \"))\n",
    "A=a+b\n",
    "s=a-b\n",
    "m=a*b\n",
    "d=a/b\n",
    "print(f\"addition of {a} and {b} is : {A}\")\n",
    "print(f\"subtraction of {a} and {b} is : {s}\")\n",
    "print(f\"multiplication of {a} and {b} is : {m}\")\n",
    "print(f\"division of {a} and {b} is : {d}\")"
   ]
  },
  {
   "cell_type": "code",
   "execution_count": 17,
   "id": "31273546-4acc-4067-9e6e-916d472b72c9",
   "metadata": {},
   "outputs": [
    {
     "name": "stdin",
     "output_type": "stream",
     "text": [
      " 8\n",
      " 7\n",
      " 6\n"
     ]
    },
    {
     "name": "stdout",
     "output_type": "stream",
     "text": [
      "average of 8 7 6 is: 7\n"
     ]
    }
   ],
   "source": [
    "# Q2) Ask the user enter 3 numbers and find the average of those numbers\n",
    "a=int(input())\n",
    "b=int(input())\n",
    "c=int(input())\n",
    "avg=(a+b+c)//3\n",
    "print(f\"average of {a} {b} {c} is: {avg}\")"
   ]
  },
  {
   "cell_type": "code",
   "execution_count": 18,
   "id": "c77f31d5-6f73-4353-9844-5a3e6489d193",
   "metadata": {},
   "outputs": [
    {
     "name": "stdin",
     "output_type": "stream",
     "text": [
      " 1000\n",
      " 10\n"
     ]
    },
    {
     "name": "stdout",
     "output_type": "stream",
     "text": [
      "1100.0\n"
     ]
    }
   ],
   "source": [
    " #Q3)  Ask the enter the bill\n",
    "      # ask the user ho much tip percentage\n",
    "      # calculate the total bill\n",
    "\n",
    "# 1000 rs\n",
    "# 10% : 100\n",
    "# 1000+100\n",
    "bill=int(input())\n",
    "tip=int(input())\n",
    "tip_amount=(bill*tip)/100\n",
    "total=bill+tip_amount\n",
    "print(total)"
   ]
  },
  {
   "cell_type": "code",
   "execution_count": 22,
   "id": "6909ca1b-db22-4a89-b206-26f5f83c2a68",
   "metadata": {},
   "outputs": [
    {
     "name": "stdin",
     "output_type": "stream",
     "text": [
      " 100\n"
     ]
    },
    {
     "name": "stdout",
     "output_type": "stream",
     "text": [
      "220.0\n"
     ]
    }
   ],
   "source": [
    "#Q4) ask the enter the weight in kgs\n",
    "#    display the answer in pounds\n",
    "#    1kg=2.2 pounds\n",
    "weight=int(input())\n",
    "pound=round(weight*2.2,3)\n",
    "print(pound)"
   ]
  },
  {
   "cell_type": "markdown",
   "id": "8a003de6-5bf8-49f4-a278-f0fb0f4351ae",
   "metadata": {},
   "source": [
    "## random"
   ]
  },
  {
   "cell_type": "code",
   "execution_count": 26,
   "id": "1c6db003-3d99-4458-9c72-3574489976cb",
   "metadata": {},
   "outputs": [
    {
     "name": "stdout",
     "output_type": "stream",
     "text": [
      "addition of random numbers 24 and 77 is: 101\n"
     ]
    }
   ],
   "source": [
    "import random\n",
    "k=random.randint(10,30)\n",
    "j=random.randint(70,90)\n",
    "add=k+j\n",
    "print(f\"addition of random numbers {k} and {j} is: {add}\")"
   ]
  },
  {
   "cell_type": "markdown",
   "id": "05350a32-e9da-4c0c-a541-7ef798a0e833",
   "metadata": {},
   "source": [
    "# Error\n",
    "- syntax error\r\n",
    "\r\n",
    "  - if you miss the ) , \"\", :\r\n",
    "\r\n",
    "- name error\r\n",
    "\r\n",
    "    - if you not defined any name that in black color\r\n",
    "\r\n",
    "- indentation error\r\n",
    "\r\n",
    "    - after : we need some space\r\n",
    "\r\n",
    "- division error\r\n",
    "\r\n",
    "    - some number divided by zero\r\n",
    "\r\n",
    "- value error\r\n",
    "\r\n",
    "    - number type conversion\r\n",
    "\r\n",
    "- type error\r\n",
    "\r\n",
    "    - any math operations on engish letters"
   ]
  },
  {
   "cell_type": "markdown",
   "id": "9755f70d-a1be-4623-9158-5f692130d1d5",
   "metadata": {},
   "source": [
    "## 1.Name Error"
   ]
  },
  {
   "cell_type": "code",
   "execution_count": 33,
   "id": "7573d9f1-9e1f-4c3f-875e-d116592513af",
   "metadata": {},
   "outputs": [
    {
     "name": "stdin",
     "output_type": "stream",
     "text": [
      "Enter the weight in kgs:  5\n",
      "how many pounds for 1 kg: 6\n"
     ]
    },
    {
     "ename": "NameError",
     "evalue": "name 'poundk' is not defined",
     "output_type": "error",
     "traceback": [
      "\u001b[1;31m---------------------------------------------------------------------------\u001b[0m",
      "\u001b[1;31mNameError\u001b[0m                                 Traceback (most recent call last)",
      "Cell \u001b[1;32mIn[33], line 4\u001b[0m\n\u001b[0;32m      2\u001b[0m weight_kg\u001b[38;5;241m=\u001b[39m\u001b[38;5;28meval\u001b[39m(\u001b[38;5;28minput\u001b[39m(\u001b[38;5;124m\"\u001b[39m\u001b[38;5;124mEnter the weight in kgs: \u001b[39m\u001b[38;5;124m\"\u001b[39m))\n\u001b[0;32m      3\u001b[0m pound\u001b[38;5;241m=\u001b[39m\u001b[38;5;28meval\u001b[39m(\u001b[38;5;28minput\u001b[39m(\u001b[38;5;124m\"\u001b[39m\u001b[38;5;124mhow many pounds for 1 kg:\u001b[39m\u001b[38;5;124m\"\u001b[39m))\n\u001b[1;32m----> 4\u001b[0m weight_pound\u001b[38;5;241m=\u001b[39m\u001b[38;5;28mround\u001b[39m(\u001b[43mpoundk\u001b[49m\u001b[38;5;241m*\u001b[39mweight_kg,\u001b[38;5;241m2\u001b[39m)\n\u001b[0;32m      5\u001b[0m \u001b[38;5;28mprint\u001b[39m(\u001b[38;5;124mf\u001b[39m\u001b[38;5;124m\"\u001b[39m\u001b[38;5;124mthe weight in pound is \u001b[39m\u001b[38;5;132;01m{\u001b[39;00mweight_pound\u001b[38;5;132;01m}\u001b[39;00m\u001b[38;5;124m\"\u001b[39m)\n",
      "\u001b[1;31mNameError\u001b[0m: name 'poundk' is not defined"
     ]
    }
   ],
   "source": [
    "weight_kg=eval(input(\"Enter the weight in kgs: \"))\n",
    "pound=eval(input(\"how many pounds for 1 kg:\"))\n",
    "weight_pound=round(poundk*weight_kg,2)\n",
    "print(f\"the weight in pound is {weight_pound}\")"
   ]
  },
  {
   "cell_type": "markdown",
   "id": "a22f6d40-b2c2-4349-bc26-083cf2857a0b",
   "metadata": {},
   "source": [
    "## 2.Value Error"
   ]
  },
  {
   "cell_type": "code",
   "execution_count": 57,
   "id": "0fdf8aa8-2a85-474f-8252-896ab4c42e41",
   "metadata": {},
   "outputs": [
    {
     "ename": "ValueError",
     "evalue": "invalid literal for int() with base 10: '100.23'",
     "output_type": "error",
     "traceback": [
      "\u001b[1;31m---------------------------------------------------------------------------\u001b[0m",
      "\u001b[1;31mValueError\u001b[0m                                Traceback (most recent call last)",
      "Cell \u001b[1;32mIn[57], line 1\u001b[0m\n\u001b[1;32m----> 1\u001b[0m \u001b[38;5;28;43mint\u001b[39;49m\u001b[43m(\u001b[49m\u001b[38;5;124;43m'\u001b[39;49m\u001b[38;5;124;43m100.23\u001b[39;49m\u001b[38;5;124;43m'\u001b[39;49m\u001b[43m)\u001b[49m\n",
      "\u001b[1;31mValueError\u001b[0m: invalid literal for int() with base 10: '100.23'"
     ]
    }
   ],
   "source": [
    "int('100.23')"
   ]
  },
  {
   "cell_type": "markdown",
   "id": "bf533c0d-47d9-4057-a7b3-6961b8f38d78",
   "metadata": {},
   "source": [
    "## 3.Type Error"
   ]
  },
  {
   "cell_type": "code",
   "execution_count": 58,
   "id": "ba13a0de-69a5-4f1f-8a78-591ac1b1dc5b",
   "metadata": {},
   "outputs": [
    {
     "ename": "TypeError",
     "evalue": "'add' is an invalid keyword argument for print()",
     "output_type": "error",
     "traceback": [
      "\u001b[1;31m---------------------------------------------------------------------------\u001b[0m",
      "\u001b[1;31mTypeError\u001b[0m                                 Traceback (most recent call last)",
      "Cell \u001b[1;32mIn[58], line 3\u001b[0m\n\u001b[0;32m      1\u001b[0m a\u001b[38;5;241m=\u001b[39m\u001b[38;5;241m10\u001b[39m\n\u001b[0;32m      2\u001b[0m b\u001b[38;5;241m=\u001b[39m\u001b[38;5;241m20\u001b[39m\n\u001b[1;32m----> 3\u001b[0m \u001b[38;5;28;43mprint\u001b[39;49m\u001b[43m(\u001b[49m\u001b[43madd\u001b[49m\u001b[38;5;241;43m=\u001b[39;49m\u001b[43ma\u001b[49m\u001b[38;5;241;43m+\u001b[39;49m\u001b[43mb\u001b[49m\u001b[43m)\u001b[49m\n",
      "\u001b[1;31mTypeError\u001b[0m: 'add' is an invalid keyword argument for print()"
     ]
    }
   ],
   "source": [
    "a=10\n",
    "b=20\n",
    "print(add=a+b)"
   ]
  },
  {
   "cell_type": "code",
   "execution_count": 8,
   "id": "1e723f23-dd1d-44e4-9dba-9b8892b4b95e",
   "metadata": {},
   "outputs": [
    {
     "name": "stdin",
     "output_type": "stream",
     "text": [
      "enter a num1: krishna\n",
      "enter a num1: veni\n"
     ]
    },
    {
     "ename": "TypeError",
     "evalue": "can't multiply sequence by non-int of type 'str'",
     "output_type": "error",
     "traceback": [
      "\u001b[1;31m---------------------------------------------------------------------------\u001b[0m",
      "\u001b[1;31mTypeError\u001b[0m                                 Traceback (most recent call last)",
      "Cell \u001b[1;32mIn[8], line 3\u001b[0m\n\u001b[0;32m      1\u001b[0m n1\u001b[38;5;241m=\u001b[39m\u001b[38;5;28minput\u001b[39m(\u001b[38;5;124m\"\u001b[39m\u001b[38;5;124menter a num1:\u001b[39m\u001b[38;5;124m\"\u001b[39m)\n\u001b[0;32m      2\u001b[0m n2\u001b[38;5;241m=\u001b[39m\u001b[38;5;28minput\u001b[39m(\u001b[38;5;124m\"\u001b[39m\u001b[38;5;124menter a num1:\u001b[39m\u001b[38;5;124m\"\u001b[39m)\n\u001b[1;32m----> 3\u001b[0m \u001b[43mn1\u001b[49m\u001b[38;5;241;43m*\u001b[39;49m\u001b[43mn2\u001b[49m\n",
      "\u001b[1;31mTypeError\u001b[0m: can't multiply sequence by non-int of type 'str'"
     ]
    }
   ],
   "source": [
    "n1=input(\"enter a num1:\")\n",
    "n2=input(\"enter a num1:\")\n",
    "n1*n2"
   ]
  },
  {
   "cell_type": "markdown",
   "id": "c1fc7daf-f8c2-4279-844b-9748da6c6548",
   "metadata": {},
   "source": [
    "## 4.Indentation Error"
   ]
  },
  {
   "cell_type": "code",
   "execution_count": 60,
   "id": "1f9a41d0-79c0-4897-a834-c302be39c3a5",
   "metadata": {},
   "outputs": [
    {
     "ename": "IndentationError",
     "evalue": "expected an indented block after 'if' statement on line 1 (1658022112.py, line 2)",
     "output_type": "error",
     "traceback": [
      "\u001b[1;36m  Cell \u001b[1;32mIn[60], line 2\u001b[1;36m\u001b[0m\n\u001b[1;33m    print(\"manish\")\u001b[0m\n\u001b[1;37m    ^\u001b[0m\n\u001b[1;31mIndentationError\u001b[0m\u001b[1;31m:\u001b[0m expected an indented block after 'if' statement on line 1\n"
     ]
    }
   ],
   "source": [
    "if 100>10:\n",
    "print(\"manish\")"
   ]
  },
  {
   "cell_type": "markdown",
   "id": "46b10ebd-c8cf-4ffe-82cc-b3f34ce05ecd",
   "metadata": {},
   "source": [
    "## 5.syntax Error"
   ]
  },
  {
   "cell_type": "code",
   "execution_count": 62,
   "id": "ab9151cd-b9a4-4d45-b7f5-40089f6bdc56",
   "metadata": {},
   "outputs": [
    {
     "ename": "SyntaxError",
     "evalue": "expected ':' (4054628281.py, line 1)",
     "output_type": "error",
     "traceback": [
      "\u001b[1;36m  Cell \u001b[1;32mIn[62], line 1\u001b[1;36m\u001b[0m\n\u001b[1;33m    if 100>10\u001b[0m\n\u001b[1;37m             ^\u001b[0m\n\u001b[1;31mSyntaxError\u001b[0m\u001b[1;31m:\u001b[0m expected ':'\n"
     ]
    }
   ],
   "source": [
    "if 100>10\n",
    "    print(\"manish\")"
   ]
  },
  {
   "cell_type": "markdown",
   "id": "a0b6afd0-ab8b-421b-b74c-74325de89089",
   "metadata": {},
   "source": [
    "## 6.ZeroDivisionError"
   ]
  },
  {
   "cell_type": "code",
   "execution_count": 74,
   "id": "4df1d5f9-dca0-4768-b95f-ce2274fc1b0f",
   "metadata": {},
   "outputs": [
    {
     "name": "stdout",
     "output_type": "stream",
     "text": [
      "1\n",
      "good condition is correct\n"
     ]
    },
    {
     "ename": "ZeroDivisionError",
     "evalue": "division by zero",
     "output_type": "error",
     "traceback": [
      "\u001b[1;31m---------------------------------------------------------------------------\u001b[0m",
      "\u001b[1;31mZeroDivisionError\u001b[0m                         Traceback (most recent call last)",
      "Cell \u001b[1;32mIn[74], line 4\u001b[0m\n\u001b[0;32m      2\u001b[0m \u001b[38;5;28;01mif\u001b[39;00m \u001b[38;5;241m100\u001b[39m\u001b[38;5;241m>\u001b[39m\u001b[38;5;241m10\u001b[39m:\n\u001b[0;32m      3\u001b[0m     \u001b[38;5;28mprint\u001b[39m(\u001b[38;5;124m\"\u001b[39m\u001b[38;5;124mgood condition is correct\u001b[39m\u001b[38;5;124m\"\u001b[39m)\n\u001b[1;32m----> 4\u001b[0m     \u001b[38;5;28mprint\u001b[39m(\u001b[38;5;241;43m2\u001b[39;49m\u001b[38;5;241;43m/\u001b[39;49m\u001b[38;5;241;43m0\u001b[39;49m)\n\u001b[0;32m      6\u001b[0m \u001b[38;5;28;01melse\u001b[39;00m :\n\u001b[0;32m      7\u001b[0m     \u001b[38;5;28mprint\u001b[39m(\u001b[38;5;124m\"\u001b[39m\u001b[38;5;124mBad condition is wrong\u001b[39m\u001b[38;5;124m\"\u001b[39m)\n",
      "\u001b[1;31mZeroDivisionError\u001b[0m: division by zero"
     ]
    }
   ],
   "source": [
    "print(1)\n",
    "if 100>10:\n",
    "    print(\"good condition is correct\")\n",
    "    print(2/0)\n",
    "\n",
    "else :\n",
    "    print(\"Bad condition is wrong\")\n",
    "    print(4)\n",
    "print(5)"
   ]
  },
  {
   "cell_type": "markdown",
   "id": "7b601d20-0e48-4e31-af1f-757e2f16e375",
   "metadata": {},
   "source": [
    "# time\n",
    "- time.sleep(2)"
   ]
  },
  {
   "cell_type": "code",
   "execution_count": 34,
   "id": "b60e60ae-d038-4945-81ab-5370adad2430",
   "metadata": {},
   "outputs": [
    {
     "name": "stdin",
     "output_type": "stream",
     "text": [
      "enter the number1: 4\n",
      "enter the number2: 2\n"
     ]
    },
    {
     "name": "stdout",
     "output_type": "stream",
     "text": [
      "the addition of 4 and 2 is 6\n",
      "the subtraction of 4 and 2 is 2\n",
      "the multiplication of 4 and 2 is 8\n",
      "the division of 4 and 2 is 2.0\n"
     ]
    }
   ],
   "source": [
    "# Print all 4 lines 2 seconds gap\n",
    "import time\n",
    "n1=eval(input(\"enter the number1:\"))\n",
    "n2=eval(input(\"enter the number2:\"))\n",
    "add=n1+n2\n",
    "sub=n1-n2\n",
    "mul=n1*n2\n",
    "div=round(n1/n2,2)\n",
    "print(f\"the addition of {n1} and {n2} is {add}\")\n",
    "time.sleep(2)\n",
    "print(f\"the subtraction of {n1} and {n2} is {sub}\")\n",
    "time.sleep(2)\n",
    "print(f\"the multiplication of {n1} and {n2} is {mul}\")\n",
    "time.sleep(2)\n",
    "print(f\"the division of {n1} and {n2} is {div}\")"
   ]
  },
  {
   "cell_type": "markdown",
   "id": "4e37e053-f5ff-4075-8e23-48c0937074a3",
   "metadata": {},
   "source": [
    "# math"
   ]
  },
  {
   "cell_type": "code",
   "execution_count": 75,
   "id": "016791dc-d47f-485f-9e88-26b145453055",
   "metadata": {},
   "outputs": [
    {
     "name": "stdin",
     "output_type": "stream",
     "text": [
      "enter the radius: 20\n"
     ]
    },
    {
     "name": "stdout",
     "output_type": "stream",
     "text": [
      "1256.64\n"
     ]
    }
   ],
   "source": [
    "# area of circle\n",
    "import math\n",
    "pi=math.pi\n",
    "r=eval(input(\"enter the radius:\"))\n",
    "area=round(pi*r*r,2)\n",
    "print(area)"
   ]
  },
  {
   "cell_type": "code",
   "execution_count": 42,
   "id": "37010666-b43f-4c7b-976d-96e99d2405e4",
   "metadata": {},
   "outputs": [
    {
     "name": "stdin",
     "output_type": "stream",
     "text": [
      " 20\n",
      " 10\n"
     ]
    },
    {
     "name": "stdout",
     "output_type": "stream",
     "text": [
      "100.0\n"
     ]
    }
   ],
   "source": [
    "#area of triangle\n",
    "b=int(input())\n",
    "h=int(input())\n",
    "area_of_triangle=0.5*b*h\n",
    "print(area_of_triangle)"
   ]
  },
  {
   "cell_type": "code",
   "execution_count": 47,
   "id": "302f1435-c159-4e8d-8bbc-747b0ef22d96",
   "metadata": {},
   "outputs": [
    {
     "name": "stdout",
     "output_type": "stream",
     "text": [
      "68\n"
     ]
    }
   ],
   "source": [
    "# by three ways\n",
    "#perimeter of rectangle hard coded\n",
    "l=14\n",
    "b=20\n",
    "pr=2*(l+b)\n",
    "print(pr)"
   ]
  },
  {
   "cell_type": "code",
   "execution_count": 48,
   "id": "bc4e8045-6c93-4da7-b9bd-ec8afa9c9646",
   "metadata": {},
   "outputs": [
    {
     "name": "stdin",
     "output_type": "stream",
     "text": [
      " 20\n",
      " 20\n"
     ]
    },
    {
     "name": "stdout",
     "output_type": "stream",
     "text": [
      "400\n"
     ]
    }
   ],
   "source": [
    "#area of rectangle key board\n",
    "l=eval(input())\n",
    "b=eval(input())\n",
    "ar=l*b\n",
    "print(ar)"
   ]
  },
  {
   "cell_type": "code",
   "execution_count": 50,
   "id": "3d263772-95cd-48bf-8449-ac844efda649",
   "metadata": {},
   "outputs": [
    {
     "name": "stdout",
     "output_type": "stream",
     "text": [
      "area of rectangle 30 and 19 is: 570\n",
      "perimeter of rectangle 30 and 19 is: 98\n"
     ]
    }
   ],
   "source": [
    "#perimeter of rectangle\n",
    "#area of rectangle\n",
    "# by random package method\n",
    "import random\n",
    "l=random.randint(10,30)\n",
    "b=random.randint(10,30)\n",
    "area_of_rectangle=l*b\n",
    "perimeter_of_rectangle=2*(l+b)\n",
    "print(f\"area of rectangle {l} and {b} is: {area_of_rectangle}\")\n",
    "print(f\"perimeter of rectangle {l} and {b} is: {perimeter_of_rectangle}\")"
   ]
  },
  {
   "cell_type": "code",
   "execution_count": 56,
   "id": "06fd81a4-6e11-4d3d-8436-f384af37a6c9",
   "metadata": {},
   "outputs": [
    {
     "name": "stdout",
     "output_type": "stream",
     "text": [
      "volume of cylinder 12 and 22 is: 9952.57\n"
     ]
    }
   ],
   "source": [
    "#wap ask the user calculate volume of the cylinder\n",
    "# Formulae: pi*r*r*h\n",
    "import random\n",
    "import math\n",
    "pi=math.pi\n",
    "r=random.randint(10,20)\n",
    "h=random.randint(20,30)\n",
    "volume_of_cylinder=round(pi*r*r*h,2)\n",
    "print(f\"volume of cylinder {r} and {h} is: {volume_of_cylinder}\")"
   ]
  },
  {
   "cell_type": "markdown",
   "id": "e0a4fe7a-b0d7-405d-8355-7704b17fe43f",
   "metadata": {},
   "source": [
    "# conditional statements\n",
    "- if\n",
    "- if-else\n",
    "- if-elif-else"
   ]
  },
  {
   "cell_type": "markdown",
   "id": "2d846501-a419-4e31-aca4-e0414de256a1",
   "metadata": {},
   "source": [
    "## if condition is used to print statement while the condition is true"
   ]
  },
  {
   "cell_type": "code",
   "execution_count": 63,
   "id": "a9a5dd13-b631-482b-9d70-8ab7fa22f7bd",
   "metadata": {},
   "outputs": [
    {
     "name": "stdout",
     "output_type": "stream",
     "text": [
      "python\n"
     ]
    }
   ],
   "source": [
    "if True:\n",
    "    print(\"python\")"
   ]
  },
  {
   "cell_type": "code",
   "execution_count": 64,
   "id": "d8cf7da5-3187-4041-ab21-2a280a1f62e5",
   "metadata": {},
   "outputs": [],
   "source": [
    "if False:\n",
    "    print(\"python\")"
   ]
  },
  {
   "cell_type": "code",
   "execution_count": 65,
   "id": "e4f8e686-15ec-417b-b02b-39539a0bf8d8",
   "metadata": {},
   "outputs": [
    {
     "name": "stdout",
     "output_type": "stream",
     "text": [
      "10 is smallerthan 100\n"
     ]
    }
   ],
   "source": [
    "if 10<100:\n",
    "    print(\"10 is smallerthan 100\")"
   ]
  },
  {
   "cell_type": "code",
   "execution_count": 67,
   "id": "42ece83b-41d6-4500-ae5b-da06ef3b4c37",
   "metadata": {},
   "outputs": [
    {
     "name": "stdout",
     "output_type": "stream",
     "text": [
      "1\n",
      "2\n",
      "hello\n",
      "python\n"
     ]
    }
   ],
   "source": [
    "print(1)    \n",
    "print(2)    \n",
    "if 100<10: #False\n",
    "    print(\"manish\")\n",
    "    print(\"bye\")\n",
    "print(\"hello\") \n",
    "print(\"python\") "
   ]
  },
  {
   "cell_type": "markdown",
   "id": "d020ef95-993a-4946-93ab-3788c04b976e",
   "metadata": {},
   "source": [
    "## if-else condition is used to print statement while the if condition is false then else bolck print the statement\n",
    "- else block does not require condition"
   ]
  },
  {
   "cell_type": "code",
   "execution_count": 71,
   "id": "bd5655f6-f181-45a9-8535-637e6387f9b9",
   "metadata": {},
   "outputs": [
    {
     "name": "stdout",
     "output_type": "stream",
     "text": [
      "Bad condition is wrong\n"
     ]
    }
   ],
   "source": [
    "if 100<10:\n",
    "    print(\"good condition is correct\")\n",
    "else:\n",
    "    print(\"Bad condition is wrong\")"
   ]
  },
  {
   "cell_type": "code",
   "execution_count": 73,
   "id": "d881056a-4c8d-49c5-b30e-919eac7d6d6f",
   "metadata": {},
   "outputs": [
    {
     "name": "stdout",
     "output_type": "stream",
     "text": [
      "1\n",
      "Bad condition is wrong\n",
      "4\n",
      "5\n"
     ]
    }
   ],
   "source": [
    "print(1)\n",
    "if 100<10:\n",
    "    print(\"good condition is correct\")\n",
    "    print(2)\n",
    "\n",
    "else :\n",
    "    print(\"Bad condition is wrong\")\n",
    "    print(4)\n",
    "print(5)"
   ]
  },
  {
   "cell_type": "code",
   "execution_count": 76,
   "id": "a5971582-fdcd-434a-bcf7-a9cf772b020d",
   "metadata": {},
   "outputs": [
    {
     "name": "stdin",
     "output_type": "stream",
     "text": [
      "enter the number: 6\n"
     ]
    },
    {
     "name": "stdout",
     "output_type": "stream",
     "text": [
      "the 6 is even\n"
     ]
    }
   ],
   "source": [
    "#WAP ask the user enter a value from keyboard\n",
    "# Find whether the number is even or odd\n",
    "\n",
    "# hint: num%2==0\n",
    "# step-1: get the number from keyboard\n",
    "# step-2: if <condition>:\n",
    "# step-3:    print(f\"the {num} is even\")\n",
    "# step-4: else:\n",
    "# step-5:    print(f\"the {num} is odd\")\n",
    "\n",
    "# = means assigning a vlaue\n",
    "# == checking the condition\n",
    "num=eval(input(\"enter the number:\"))\n",
    "if num%2==0:\n",
    "    print(f\"the {num} is even\")\n",
    "else:\n",
    "    print(f\"the {num} is odd\")"
   ]
  },
  {
   "cell_type": "code",
   "execution_count": 79,
   "id": "84761c1d-6259-4e3a-a226-957b100e09c6",
   "metadata": {},
   "outputs": [
    {
     "name": "stdout",
     "output_type": "stream",
     "text": [
      "the 71 is odd\n"
     ]
    }
   ],
   "source": [
    "# wap implment above the code \n",
    "# by taking number randomly between 10,100\n",
    "import random\n",
    "num=random.randint(10,100)\n",
    "if num%2==0:\n",
    "    print(f\"the {num} is even\")\n",
    "else:\n",
    "    print(f\"the {num} is odd\")"
   ]
  },
  {
   "cell_type": "code",
   "execution_count": 81,
   "id": "d3648914-3dc4-4d37-a5c4-51f58ab3a59e",
   "metadata": {},
   "outputs": [
    {
     "name": "stdout",
     "output_type": "stream",
     "text": [
      "4\n"
     ]
    },
    {
     "name": "stdin",
     "output_type": "stream",
     "text": [
      "enter the number: 7\n"
     ]
    },
    {
     "name": "stdout",
     "output_type": "stream",
     "text": [
      "loss\n"
     ]
    }
   ],
   "source": [
    "# Game program\n",
    "# there are two numbers\n",
    "# num1 comes from random\n",
    "# num2 is taking from the keyboard\n",
    "# if both numbers are equal \n",
    "#     then print  you won\n",
    "# else \n",
    "#       print you loss\n",
    "import random\n",
    "num1=random.randint(1,10)\n",
    "print(num1)\n",
    "num2=eval(input(\"enter the number:\"))\n",
    "if num1==num2:\n",
    "    print(\"won\")\n",
    "else:\n",
    "    print(\"loss\")"
   ]
  },
  {
   "cell_type": "markdown",
   "id": "b085a56d-1c55-4e47-b973-fe92d43291f7",
   "metadata": {},
   "source": [
    "## if-elif-else condition is used when we have more then one condition\n",
    "- here first condition refer to if block\n",
    "- last condition under else block\n",
    "- remaining all other conditions under elif block"
   ]
  },
  {
   "cell_type": "code",
   "execution_count": 83,
   "id": "31107790-7c69-45ee-b86b-3270c36fc37e",
   "metadata": {},
   "outputs": [
    {
     "name": "stdin",
     "output_type": "stream",
     "text": [
      "enter a number 5\n"
     ]
    },
    {
     "name": "stdout",
     "output_type": "stream",
     "text": [
      "number not mach\n"
     ]
    }
   ],
   "source": [
    "num = eval(input(\"enter a number\"))\n",
    "if num==1:\n",
    "    print(f\"{num} is mach\")\n",
    "elif num==2:\n",
    "    print(f\"{num} is mach\")\n",
    "elif num==3:\n",
    "    print(f\"{num} is mach\")\n",
    "elif num==4:\n",
    "    print(f\"{num} is mach\")\n",
    "else:\n",
    "    print(\"number not mach\")"
   ]
  },
  {
   "cell_type": "code",
   "execution_count": 85,
   "id": "8e406ea5-3e3a-4a7f-8881-e9cf0e637303",
   "metadata": {},
   "outputs": [
    {
     "name": "stdin",
     "output_type": "stream",
     "text": [
      "Enter the percentage:  89\n"
     ]
    },
    {
     "name": "stdout",
     "output_type": "stream",
     "text": [
      "B grade\n"
     ]
    }
   ],
   "source": [
    "# wap ask the user\n",
    "# enter marks percentage\n",
    "# If percentage greater than 90 then print A grade\n",
    "# If percentage between 70 and 90 then print B grade\n",
    "# If percentage between 50 and 70 then print C grade\n",
    "# If percentage between 35 and 50 then print D grade\n",
    "# otherwise print fail\n",
    "percentage=int(input(\"Enter the percentage: \"))\n",
    "if percentage>=90:\n",
    "    print(\"A grade\")\n",
    "elif percentage>=70 and percentage<90:\n",
    "    print(\"B grade\")\n",
    "elif percentage>=50 and percentage<70:\n",
    "    print(\"C grade\")\n",
    "elif percentage>=35 and percentage<50:\n",
    "    print(\"D grade\")\n",
    "else:\n",
    "    print(\"fail\")\n",
    "    "
   ]
  },
  {
   "cell_type": "code",
   "execution_count": 88,
   "id": "d946308c-1321-41c0-8574-76ea5f57383b",
   "metadata": {},
   "outputs": [
    {
     "name": "stdin",
     "output_type": "stream",
     "text": [
      "Enter the number :  4\n",
      "Enter the number :  6\n"
     ]
    },
    {
     "name": "stdout",
     "output_type": "stream",
     "text": [
      "Enter the operation 1 for addition\n",
      "Enter the operation 2 for subtraction\n",
      "Enter the operation 3 for multiplication\n",
      "Enter the operation 4 for division\n"
     ]
    },
    {
     "name": "stdin",
     "output_type": "stream",
     "text": [
      "Enter the number from 1 to 4 :  3\n"
     ]
    },
    {
     "name": "stdout",
     "output_type": "stream",
     "text": [
      "-2\n"
     ]
    }
   ],
   "source": [
    "# add\n",
    "# mul \n",
    "# sub\n",
    "# div based on conditions\n",
    "\n",
    "# take two numbers \n",
    "# num1 from keyboard\n",
    "# num2 from keyboard\n",
    "\n",
    "# enter the operation 1 for addition\n",
    "# enter the operation 2 for mul\n",
    "# enter the operation 3 for sub\n",
    "# enter the operation 4 for div\n",
    "\n",
    "# opertaion=ask the user enter opertaion from keyboard\n",
    "# if operation equal to 1\n",
    "#     perform the addition\n",
    "# if operation equal to 2\n",
    "#     perform the sub\n",
    "# if operation equal to 3\n",
    "#     perform the mul\n",
    "# if operation equal to 4\n",
    "#     perform the div\n",
    "\n",
    "num1=eval(input(\"Enter the number : \"))\n",
    "num2=eval(input(\"Enter the number : \"))\n",
    "\n",
    "print(\"Enter the operation 1 for addition\")\n",
    "print(\"Enter the operation 2 for subtraction\")\n",
    "print(\"Enter the operation 3 for multiplication\")\n",
    "print(\"Enter the operation 4 for division\")\n",
    "\n",
    "operation=int(input(\"Enter the number from 1 to 4 : \"))\n",
    "if operation==1:\n",
    "    print(num1+num2)\n",
    "elif operation==2:\n",
    "    print(num1*num2)\n",
    "elif operation==3:\n",
    "    print(num1-num2)\n",
    "elif operation==4:\n",
    "    print(num1/num2)"
   ]
  },
  {
   "cell_type": "code",
   "execution_count": 90,
   "id": "23cec48d-2627-4fda-9dc7-018ba0dac095",
   "metadata": {},
   "outputs": [
    {
     "name": "stdin",
     "output_type": "stream",
     "text": [
      "Enter the gender :  female\n",
      "Enter the age :  23\n"
     ]
    },
    {
     "name": "stdout",
     "output_type": "stream",
     "text": [
      "girl\n"
     ]
    }
   ],
   "source": [
    "#wap\n",
    "# ask the user enter gender\n",
    "# if gender equal to male\n",
    "#     ask the user enter age\n",
    "#     if age greater tha 30 then print middilaged men\n",
    "#     otherwise print boy\n",
    "# elif gender equal to female\n",
    "#     ask the user enter age\n",
    "#     if age greater tha 30 then print middilaged woman\n",
    "#     otherwise print girl\n",
    "# othrwise\n",
    "#     print enter valid gender\n",
    "\n",
    "gender=input(\"Enter the gender : \")\n",
    "if gender==\"male\":\n",
    "    age=eval(input(\"Enter the age : \"))\n",
    "    if age>30:\n",
    "        print(\"middilaged men\")\n",
    "    else:\n",
    "        print(\"boy\")\n",
    "elif gender==\"female\":\n",
    "    age=eval(input(\"Enter the age : \"))\n",
    "    if age>30:\n",
    "        print(\"middilaged woman\")\n",
    "    else:\n",
    "        print(\"girl\")\n",
    "else:\n",
    "    print(\"Enter valid gender\")"
   ]
  },
  {
   "cell_type": "code",
   "execution_count": 91,
   "id": "65e2adbc-9335-4e40-b98d-ee58851e7435",
   "metadata": {},
   "outputs": [
    {
     "name": "stdin",
     "output_type": "stream",
     "text": [
      "Enter the number:  6\n",
      "Enter the number:  9\n",
      "Enter the number:  5\n"
     ]
    },
    {
     "name": "stdout",
     "output_type": "stream",
     "text": [
      "b is the biggest number\n"
     ]
    }
   ],
   "source": [
    "#wap ask the user enter 3 numbers\n",
    "# find the biggest numbers\n",
    "a=eval(input(\"Enter the number: \"))\n",
    "b=eval(input(\"Enter the number: \"))\n",
    "c=eval(input(\"Enter the number: \"))\n",
    "if a>b and a>c:\n",
    "    print(\"a is the biggest number\")\n",
    "elif b>a and b>c:\n",
    "    print(\"b is the biggest number\")\n",
    "else:\n",
    "    print(\"c is the biggest number\")"
   ]
  },
  {
   "cell_type": "markdown",
   "id": "8fba881f-056d-4f6c-8a9a-c54be2d09926",
   "metadata": {},
   "source": [
    "# try-except"
   ]
  },
  {
   "cell_type": "markdown",
   "id": "d48a7eba-f30b-4808-a9ac-c26292c06734",
   "metadata": {},
   "source": [
    "- Generally python is a sequencital process\n",
    "\n",
    "- which mean if you get error, the compiler will not execute other statements\n",
    "\n",
    "- There is a situations even though if you got error at particular lines\n",
    "\n",
    "- Compiler should execute some part of the code\n",
    "\n",
    "- This is possibile by using try-except method\n",
    "\n",
    "- we have two blocks  \n",
    "\n",
    "    - try block\n",
    "\n",
    "        - original code will run under try block\n",
    "\n",
    "    - except block\n",
    "\n",
    "        - if any error comes it will redirect to except block\n",
    "        - syntax errors will not capture by exception block"
   ]
  },
  {
   "cell_type": "code",
   "execution_count": 1,
   "id": "47c91b96-ba80-4809-ac27-91b358d0471e",
   "metadata": {},
   "outputs": [
    {
     "ename": "ZeroDivisionError",
     "evalue": "division by zero",
     "output_type": "error",
     "traceback": [
      "\u001b[1;31m---------------------------------------------------------------------------\u001b[0m",
      "\u001b[1;31mZeroDivisionError\u001b[0m                         Traceback (most recent call last)",
      "Cell \u001b[1;32mIn[1], line 4\u001b[0m\n\u001b[0;32m      2\u001b[0m a\u001b[38;5;241m=\u001b[39m\u001b[38;5;241m10\u001b[39m\n\u001b[0;32m      3\u001b[0m b\u001b[38;5;241m=\u001b[39m\u001b[38;5;241m0\u001b[39m\n\u001b[1;32m----> 4\u001b[0m \u001b[43ma\u001b[49m\u001b[38;5;241;43m/\u001b[39;49m\u001b[43mb\u001b[49m\n\u001b[0;32m      5\u001b[0m \u001b[38;5;28mprint\u001b[39m(\u001b[38;5;124m\"\u001b[39m\u001b[38;5;124mhello\u001b[39m\u001b[38;5;124m\"\u001b[39m)\n",
      "\u001b[1;31mZeroDivisionError\u001b[0m: division by zero"
     ]
    }
   ],
   "source": [
    "#Example\n",
    "a=10\n",
    "b=0\n",
    "a/b\n",
    "print(\"hello\")"
   ]
  },
  {
   "cell_type": "markdown",
   "id": "9e5bc888-ea9e-48bc-9bc7-79ec740b88a5",
   "metadata": {},
   "source": [
    "**case1**\n",
    "- whenever we got the error in try block\r\n",
    "\r\n",
    "- the comipler will execute statements of except block"
   ]
  },
  {
   "cell_type": "code",
   "execution_count": 4,
   "id": "e190da35-e319-44cf-a962-7274f86e13bd",
   "metadata": {},
   "outputs": [
    {
     "name": "stdout",
     "output_type": "stream",
     "text": [
      "the value a is: 10\n",
      "hello\n"
     ]
    }
   ],
   "source": [
    "try:\n",
    "    a=10\n",
    "    b=0\n",
    "    print(\"the value a is:\",a)\n",
    "    a/b\n",
    "    print(\"you will get error\")\n",
    "except:\n",
    "    print(\"hello\")"
   ]
  },
  {
   "cell_type": "markdown",
   "id": "49ed855f-d913-4dff-aeb5-58c840a08c9d",
   "metadata": {},
   "source": [
    "**case-2**\n",
    "\n",
    "- If there is no error in the try block\n",
    "\n",
    "- the comipler will not execute statements of except block"
   ]
  },
  {
   "cell_type": "code",
   "execution_count": 5,
   "id": "09bc28d2-52cd-4529-a920-f3007dab74e5",
   "metadata": {},
   "outputs": [
    {
     "name": "stdout",
     "output_type": "stream",
     "text": [
      "the value a is: 10\n",
      "the value b is: 10\n",
      "1.0\n",
      "you will not get error\n"
     ]
    }
   ],
   "source": [
    "try:\n",
    "    a=10\n",
    "    b=10\n",
    "    print(\"the value a is:\",a)\n",
    "    print(\"the value b is:\",b)\n",
    "    print(a/b)\n",
    "    print(\"you will not get error\")\n",
    "except:\n",
    "    print(\"hello\")"
   ]
  },
  {
   "cell_type": "markdown",
   "id": "f6dea1c7-8699-4302-97ee-9e42f6a3c540",
   "metadata": {},
   "source": [
    "**Capture the errors**\n",
    "- Mainly try and except is used to capture the errors"
   ]
  },
  {
   "cell_type": "markdown",
   "id": "10d42da4-5668-4a58-9504-636cc181b419",
   "metadata": {},
   "source": [
    "- syntax error\n",
    "\n",
    "  - if you miss the ) , \"\", :\n",
    "\n",
    "- name error\n",
    "\n",
    "    - if you not defined any name that in black color\n",
    "\n",
    "- indentation error\n",
    "\n",
    "    - after : we need some space\n",
    "\n",
    "- division error\n",
    "\n",
    "    - some number divided by zero\n",
    "\n",
    "- value error\n",
    "\n",
    "    - number type conversion\n",
    "\n",
    "- type error\n",
    "\n",
    "    - any math operations on engish letters"
   ]
  },
  {
   "cell_type": "code",
   "execution_count": 16,
   "id": "25d15af8-0677-44d0-9a75-adeaa1167809",
   "metadata": {},
   "outputs": [
    {
     "name": "stdout",
     "output_type": "stream",
     "text": [
      "10 is even\n"
     ]
    }
   ],
   "source": [
    "import random\n",
    "try:\n",
    "    num=random.randint(10,30)\n",
    "    if num%2==0:\n",
    "        print(f\"{num} is even\")\n",
    "    else:\n",
    "        print(odd)\n",
    "except:\n",
    "    print(f\"{num} enter valid string\")\n",
    "    "
   ]
  },
  {
   "cell_type": "markdown",
   "id": "c18102fd-e8a6-434f-9240-971aaf6727f9",
   "metadata": {},
   "source": [
    "# Functions : function also called a method\n",
    "\n",
    "- Reuse of the code\n",
    "\n",
    "- Imagine you want to calculate tax of all tax payers\n",
    "\n",
    "- Suppose there are 100 tax payers are there\n",
    "\n",
    "- In order to calculate tax we required 5 lines of code\n",
    "\n",
    "- for 100 tax payers it will required 500 lines\n",
    "\n",
    "- this is not the good appraoch\n",
    "\n",
    "- because 5lines we are repaeting for 100 members\n",
    "\n",
    "- Here Functions will help us how to use only these 5 lines to all 100 tax payers\n",
    "  \n",
    "**Mistakes**\n",
    "\n",
    "- first mistake you will forget the brackets while define function\r\n",
    "\r\n",
    "  - syntax error\r\n",
    "\r\n",
    "- second mistake you will forget colon\r\n",
    "\r\n",
    "  - syntax error\r\n",
    "\r\n",
    "- third mistake you will not give indetation\r\n",
    "\r\n",
    "    - indetation error\r\n",
    "\r\n",
    "- Fourth mistake, you will copy the code you will forget to make the allignment\r\n",
    "\r\n",
    "    - indetation error\r\n",
    "\r\n",
    "- fifth mistake: variable name and functions name must be different\r\n",
    "\r\n",
    "    - This error you will get in future, when we create apps\r\n",
    "\r\n",
    "- sixt mistake: while calling the function you will\n",
    " \n",
    "**Note**\r\n",
    "\r\n",
    "- when we define function will not give the error\r\n",
    "\r\n",
    "- erros will display after calling the function only forget the brackets"
   ]
  },
  {
   "cell_type": "code",
   "execution_count": 17,
   "id": "174384bf-1544-43ec-abde-967b78a95ffa",
   "metadata": {},
   "outputs": [
    {
     "name": "stdin",
     "output_type": "stream",
     "text": [
      "enter the salary: 60000\n",
      "enter the tax per: 10\n"
     ]
    },
    {
     "name": "stdout",
     "output_type": "stream",
     "text": [
      "the amount of tax pay is 6000.0\n"
     ]
    }
   ],
   "source": [
    "#Example\n",
    "salary=eval(input('enter the salary:'))\n",
    "tax_per=eval(input('enter the tax per:'))\n",
    "tax_amount= salary*tax_per/100\n",
    "print(f\"the amount of tax pay is {tax_amount}\")"
   ]
  },
  {
   "cell_type": "code",
   "execution_count": 25,
   "id": "1c7ce137-321e-4220-911f-23f96785ecf6",
   "metadata": {},
   "outputs": [
    {
     "name": "stdin",
     "output_type": "stream",
     "text": [
      "Enter the salary:  60000\n",
      "Enter the tax_per:  10\n"
     ]
    },
    {
     "name": "stdout",
     "output_type": "stream",
     "text": [
      "6000.0\n"
     ]
    }
   ],
   "source": [
    "def tax(a,b):\n",
    "    tax_amount=salary*tax_per/100\n",
    "    return tax_amount\n",
    "salary=int(input(\"Enter the salary: \"))\n",
    "tax_per=int(input(\"Enter the tax_per: \"))\n",
    "tax_payer=tax(salary,tax_per)\n",
    "print(tax_payer)\n"
   ]
  },
  {
   "cell_type": "markdown",
   "id": "f03c6d8a-573d-4bc5-9ae1-5d42ee128a2f",
   "metadata": {},
   "source": [
    "## Method-1 :function without argument\n",
    "\n",
    "- when we define function we will provide brackets\r\n",
    "\r\n",
    "- inside these brackets we can provide the values also\r\n",
    "\r\n",
    "- these values are called as **arguments** or **parameters**\r\n",
    "\r\n",
    "- if we dont provide argumnets it is known as\r\n",
    "\r\n",
    "  - **function with out arguments**"
   ]
  },
  {
   "cell_type": "code",
   "execution_count": 29,
   "id": "e634ac89-2a11-4bc6-b63d-1782be8026b2",
   "metadata": {},
   "outputs": [
    {
     "name": "stdin",
     "output_type": "stream",
     "text": [
      " 3\n",
      " 4\n",
      " 5\n"
     ]
    },
    {
     "name": "stdout",
     "output_type": "stream",
     "text": [
      "4.0\n"
     ]
    }
   ],
   "source": [
    "def average():\n",
    "    n1=int(input())\n",
    "    n2=int(input())\n",
    "    n3=int(input())\n",
    "    avg=(n1+n2+n3)/3\n",
    "    print(avg)\n",
    "average()"
   ]
  },
  {
   "cell_type": "markdown",
   "id": "a23b8333-f514-4d37-a823-17f219590bc5",
   "metadata": {},
   "source": [
    "## Method-2 : function with arguments\n",
    "\n",
    "- how many variables are there in a given function\n",
    "\n",
    "    - input variables : user will provide\n",
    " \n",
    "    - suppose n1 and n2 are two input variables\n",
    " \n",
    "    - output variables: we are creating a new varible using input variable\n",
    " \n",
    "**concentrate on input variables**"
   ]
  },
  {
   "cell_type": "code",
   "execution_count": 31,
   "id": "7cd3d539-58a9-48bd-9978-ee4f4d5eae22",
   "metadata": {},
   "outputs": [
    {
     "name": "stdout",
     "output_type": "stream",
     "text": [
      "the bill is: 1240\n",
      "the tip per is: 11\n",
      "1376.4\n"
     ]
    }
   ],
   "source": [
    "import random\n",
    "def billing(bill,tip_per):\n",
    "    print(\"the bill is:\",bill)\n",
    "    print(\"the tip per is:\",tip_per)\n",
    "    tip_amount=(bill*tip_per)/100\n",
    "    total=bill+tip_amount\n",
    "    print(total)\n",
    "\n",
    "billing(random.randint(1000,2000),\n",
    "        random.randint(10,20))"
   ]
  },
  {
   "cell_type": "markdown",
   "id": "da6040ad-118f-4078-b5d4-7835a1eb57dd",
   "metadata": {},
   "source": [
    "## Method-2 : Default argument\n",
    "\n",
    "- argument values are fixed"
   ]
  },
  {
   "cell_type": "code",
   "execution_count": 33,
   "id": "7e577605-d6b2-4423-ae38-66af157b230f",
   "metadata": {},
   "outputs": [
    {
     "name": "stdout",
     "output_type": "stream",
     "text": [
      "the bill is: 1000\n",
      "the tip per is: 20\n",
      "1200.0\n"
     ]
    }
   ],
   "source": [
    "def billing(bill,tip_per=20):\n",
    "    print(\"the bill is:\",bill)\n",
    "    print(\"the tip per is:\",tip_per)\n",
    "    tip_amount=(bill*tip_per)/100\n",
    "    total=bill+tip_amount\n",
    "    print(total)\n",
    "\n",
    "billing(1000)"
   ]
  },
  {
   "cell_type": "markdown",
   "id": "5e166625-dfe4-4276-a946-89ad6537da17",
   "metadata": {},
   "source": [
    "**case_1**\n",
    "- all the arguments are default\r\n",
    "\r\n",
    "- so no need to pass the value while calling the function"
   ]
  },
  {
   "cell_type": "code",
   "execution_count": 36,
   "id": "c0ba12b6-6299-486a-b0fc-d9b3eb068b2b",
   "metadata": {},
   "outputs": [
    {
     "name": "stdout",
     "output_type": "stream",
     "text": [
      "even\n"
     ]
    }
   ],
   "source": [
    "def even(num=10):\n",
    "    if num%2==0:\n",
    "        print(\"even\")\n",
    "    else:\n",
    "        print(\"odd\")\n",
    "even()"
   ]
  },
  {
   "cell_type": "markdown",
   "id": "2f9b19d2-df40-499e-9cf4-bb3b0825e6c0",
   "metadata": {},
   "source": [
    "**Case-2**\n",
    "- All default parameters should assign after non default arguments"
   ]
  },
  {
   "cell_type": "code",
   "execution_count": 38,
   "id": "dbc0f1a8-0b78-4a43-8ce9-cedbf02dfda8",
   "metadata": {},
   "outputs": [
    {
     "name": "stdout",
     "output_type": "stream",
     "text": [
      "5.0\n"
     ]
    }
   ],
   "source": [
    "def avg(num1,num2,num3=10):\n",
    "    average=(num1+num2+num3)/3\n",
    "    print(average)\n",
    "avg(2,3)"
   ]
  },
  {
   "cell_type": "markdown",
   "id": "24ac1b4d-985e-4fee-af3e-f5ae3f07559c",
   "metadata": {},
   "source": [
    "**Case-3**\n",
    "- Default argumnents values will be override"
   ]
  },
  {
   "cell_type": "code",
   "execution_count": 39,
   "id": "b5bee4be-6938-4282-bd54-2a1299eaeaba",
   "metadata": {},
   "outputs": [
    {
     "name": "stdout",
     "output_type": "stream",
     "text": [
      "the bill is: 1000\n",
      "the tip per is: 40\n",
      "1400.0\n"
     ]
    }
   ],
   "source": [
    "def billing(bill,tip_per=20):\n",
    "    print(\"the bill is:\",bill)\n",
    "    print(\"the tip per is:\",tip_per)\n",
    "    tip_amount=(bill*tip_per)/100\n",
    "    total=bill+tip_amount\n",
    "    print(total)\n",
    "\n",
    "billing(1000,40)"
   ]
  },
  {
   "cell_type": "code",
   "execution_count": 40,
   "id": "8f6191b3-ae3d-437f-9c70-61fb94aa8b20",
   "metadata": {},
   "outputs": [
    {
     "name": "stdout",
     "output_type": "stream",
     "text": [
      "the bill is: 5000\n",
      "the tip per is: 40\n",
      "7000.0\n"
     ]
    }
   ],
   "source": [
    "def billing(bill=1000,tip_per=20):\n",
    "    bill=5000\n",
    "    print(\"the bill is:\",bill)\n",
    "    print(\"the tip per is:\",tip_per)\n",
    "    tip_amount=(bill*tip_per)/100\n",
    "    total=bill+tip_amount\n",
    "    print(total)\n",
    "\n",
    "billing(2000,40)"
   ]
  },
  {
   "cell_type": "markdown",
   "id": "d1053d99-1011-47a7-b830-7b0f49987d00",
   "metadata": {},
   "source": [
    "# Global variable - Local variable\n",
    "\n",
    "- local variable means the variables define inside the function\n",
    "\n",
    "- local variables can not access outside the function\n",
    "\n",
    "- global variables means the variables define outside the function\n",
    "\n",
    "- global variable can access anywhere anytime\n"
   ]
  },
  {
   "cell_type": "code",
   "execution_count": 2,
   "id": "94458669-d0ea-40f8-8bd8-9795d2184d9c",
   "metadata": {},
   "outputs": [
    {
     "name": "stdout",
     "output_type": "stream",
     "text": [
      "30\n"
     ]
    }
   ],
   "source": [
    "#example for local variales\n",
    "def addition():\n",
    "    NUMBER1=10\n",
    "    NUMBER2=20\n",
    "    print(NUMBER1+NUMBER2)\n",
    "\n",
    "addition()"
   ]
  },
  {
   "cell_type": "code",
   "execution_count": 8,
   "id": "0f89cb6a-c247-44f0-b2e1-e0a36541f397",
   "metadata": {},
   "outputs": [
    {
     "ename": "NameError",
     "evalue": "name 'NUMBER1' is not defined",
     "output_type": "error",
     "traceback": [
      "\u001b[1;31m---------------------------------------------------------------------------\u001b[0m",
      "\u001b[1;31mNameError\u001b[0m                                 Traceback (most recent call last)",
      "Cell \u001b[1;32mIn[8], line 2\u001b[0m\n\u001b[0;32m      1\u001b[0m \u001b[38;5;66;03m#It give error because local variables can not access outside the function\u001b[39;00m\n\u001b[1;32m----> 2\u001b[0m \u001b[43mNUMBER1\u001b[49m\n",
      "\u001b[1;31mNameError\u001b[0m: name 'NUMBER1' is not defined"
     ]
    }
   ],
   "source": [
    "#It will give error because local variables can not access outside the function\n",
    "NUMBER1"
   ]
  },
  {
   "cell_type": "code",
   "execution_count": 5,
   "id": "fd938e0d-b7d8-4ab4-8c42-a8d072ca7dd2",
   "metadata": {},
   "outputs": [],
   "source": [
    "#Example for Global variables"
   ]
  },
  {
   "cell_type": "code",
   "execution_count": 6,
   "id": "ca12e72c-c561-45f8-9de3-23bfd9ba95b0",
   "metadata": {},
   "outputs": [
    {
     "name": "stdout",
     "output_type": "stream",
     "text": [
      "30\n"
     ]
    }
   ],
   "source": [
    "number1=10\n",
    "number2=20\n",
    "def addition(a,b):\n",
    "    add=a+b\n",
    "    print(add)\n",
    "addition(number1,number2)"
   ]
  },
  {
   "cell_type": "code",
   "execution_count": 11,
   "id": "94413dad-86b7-4be8-9c1f-c42d88617d34",
   "metadata": {},
   "outputs": [
    {
     "data": {
      "text/plain": [
       "20"
      ]
     },
     "execution_count": 11,
     "metadata": {},
     "output_type": "execute_result"
    }
   ],
   "source": [
    "#It will not give error and it will giv output as value because global variables can  access outside the function\n",
    "number2"
   ]
  },
  {
   "cell_type": "code",
   "execution_count": 12,
   "id": "1c725543-9b67-400d-b7ad-dbd9f712438b",
   "metadata": {},
   "outputs": [
    {
     "name": "stdout",
     "output_type": "stream",
     "text": [
      "number1: 1000\n",
      "number2: 2000\n",
      "3000\n"
     ]
    }
   ],
   "source": [
    "NUMBER11=100\n",
    "NUMBER22=200\n",
    "def addition():\n",
    "    print(\"number1:\",NUMBER11)\n",
    "    print(\"number2:\",NUMBER22)\n",
    "    add=NUMBER11+NUMBER22\n",
    "    print(add)\n",
    "NUMBER11=1000\n",
    "NUMBER22=2000\n",
    "addition()"
   ]
  },
  {
   "cell_type": "markdown",
   "id": "c0897329-7d2d-4e3c-bdc7-decfcccf1e3f",
   "metadata": {},
   "source": [
    "## spl case\n",
    "- we want to use the local variable outside function also\n",
    "  - i defined variable as global inside function\r",
    "  -  with out call the function als\n",
    "  - i can use that variable anywherere"
   ]
  },
  {
   "cell_type": "code",
   "execution_count": 17,
   "id": "7ce6f7fb-4170-41ce-a290-bc5e9e8ee3f0",
   "metadata": {},
   "outputs": [
    {
     "name": "stdout",
     "output_type": "stream",
     "text": [
      "30\n",
      "10\n"
     ]
    }
   ],
   "source": [
    "def addition():\n",
    "    global number_one1\n",
    "    number_one1=10\n",
    "    number_two=20\n",
    "    print(number_one1+number_two)\n",
    "addition()\n",
    "print(number_one1)"
   ]
  },
  {
   "cell_type": "code",
   "execution_count": 18,
   "id": "6c15974d-d70e-4e8a-9afa-b3087f1a2c00",
   "metadata": {},
   "outputs": [
    {
     "data": {
      "text/plain": [
       "10"
      ]
     },
     "execution_count": 18,
     "metadata": {},
     "output_type": "execute_result"
    }
   ],
   "source": [
    "number_one1"
   ]
  },
  {
   "cell_type": "markdown",
   "id": "8a4a2426-ec21-4338-bcbc-8364a84fd598",
   "metadata": {},
   "source": [
    "## return\n",
    "- We can also use the local variables with out using global keyword\n",
    "\n",
    "- that concept is called **return** "
   ]
  },
  {
   "cell_type": "code",
   "execution_count": 24,
   "id": "547411b5-f0f1-4be1-a8ea-641d8c10e6fa",
   "metadata": {},
   "outputs": [],
   "source": [
    "def add1():\n",
    "    num1=10\n",
    "    num2=20\n",
    "    summ=num1+num2\n",
    "    return(summ)\n",
    "\n",
    "var1=add1()"
   ]
  },
  {
   "cell_type": "code",
   "execution_count": 25,
   "id": "247e4437-ad3d-4e48-bf83-8a7558213997",
   "metadata": {},
   "outputs": [
    {
     "data": {
      "text/plain": [
       "30"
      ]
     },
     "execution_count": 25,
     "metadata": {},
     "output_type": "execute_result"
    }
   ],
   "source": [
    "var1"
   ]
  },
  {
   "cell_type": "code",
   "execution_count": 26,
   "id": "7d5586b9-34ea-4417-9cc3-8a9e8725b7f1",
   "metadata": {},
   "outputs": [
    {
     "name": "stdout",
     "output_type": "stream",
     "text": [
      "30\n",
      "10\n",
      "20\n"
     ]
    }
   ],
   "source": [
    "def add1():\n",
    "    num1=10\n",
    "    num2=20\n",
    "    s11=num1+num2\n",
    "    return(s11,num1,num2)\n",
    "\n",
    "s11,num1,num2=add1()\n",
    "print(s11)\n",
    "print(num1)\n",
    "print(num2)"
   ]
  },
  {
   "cell_type": "markdown",
   "id": "248cba77-df71-4494-b946-44c3fd7022d5",
   "metadata": {},
   "source": [
    "# Function in Function"
   ]
  },
  {
   "cell_type": "code",
   "execution_count": 1,
   "id": "1548a63b-03cf-40be-9042-f55b9b086846",
   "metadata": {},
   "outputs": [
    {
     "name": "stdin",
     "output_type": "stream",
     "text": [
      " yes\n"
     ]
    },
    {
     "name": "stdout",
     "output_type": "stream",
     "text": [
      "Enter operation=1 then perform addition operation\n",
      "Enter operation=2 then perform sub operation\n",
      "Enter operation=3 then perform mul operation\n",
      "Enter operation=4 then perform div operation\n"
     ]
    },
    {
     "name": "stdin",
     "output_type": "stream",
     "text": [
      "Enter the operation : 1\n"
     ]
    },
    {
     "name": "stdout",
     "output_type": "stream",
     "text": [
      "5\n"
     ]
    }
   ],
   "source": [
    "try:\n",
    "    def krishna():\n",
    "        def addition(a,b):\n",
    "            add=a+b\n",
    "            print(add)\n",
    "        def subtraction(a,b):\n",
    "            sub=a-b\n",
    "            print(sub)\n",
    "        def multiplication(a,b):\n",
    "            mul=a*b\n",
    "            print(mul)\n",
    "        def division(a,b):\n",
    "            div=a/b\n",
    "            print(div)\n",
    "        print(\"Enter operation=1 then perform addition operation\")\n",
    "        print(\"Enter operation=2 then perform sub operation\")\n",
    "        print(\"Enter operation=3 then perform mul operation\")\n",
    "        print(\"Enter operation=4 then perform div operation\")\n",
    "        operation=int(input(\"Enter the operation :\"))\n",
    "        if operation==1:\n",
    "            addition(2,3)\n",
    "        elif operation==2:\n",
    "            subtraction(4,2)\n",
    "        elif operation==3:\n",
    "            multiplication(2,3)\n",
    "        elif operation==4:\n",
    "            division(10,5)\n",
    "    repetion=input()\n",
    "    if repetion==\"yes\":\n",
    "        krishna()\n",
    "    else:\n",
    "        print(\"No repetion\")\n",
    "        \n",
    "except:\n",
    "    if repetion !=\"yes\" :\n",
    "        print(\"Give repetion as yes\")"
   ]
  },
  {
   "cell_type": "markdown",
   "id": "29c60426-f4d3-45d9-99e3-59a480a2694b",
   "metadata": {},
   "source": [
    "# Loops\n",
    "- Loop:  Reuse the code for multiple times unless the given conditions satiesfies\r\n",
    "\r\n",
    "  - For\r\n",
    " \r\n",
    "  - While\r\n",
    " \r\n",
    "- Any loop requires 3 things\r\n",
    "\r\n",
    "  - start point\r\n",
    " \r\n",
    "  - what is the condition to stop\r\n",
    " \r\n",
    "  - Increment or decrement\r\n",
    " \r\n",
    "- in for loop we will apply all above 3 in a single line\r\n",
    "\r\n",
    "- in while loop we will apply all above 3 in 3 different lines"
   ]
  },
  {
   "cell_type": "markdown",
   "id": "7cb45ee4-351c-4402-9205-9b31ef575d1d",
   "metadata": {},
   "source": [
    "## For loop\n",
    "**method-1**"
   ]
  },
  {
   "cell_type": "code",
   "execution_count": 4,
   "id": "ca582714-03a1-45f9-9c2a-3c7f5faece46",
   "metadata": {},
   "outputs": [
    {
     "name": "stdout",
     "output_type": "stream",
     "text": [
      "0\n",
      "1\n",
      "2\n",
      "3\n",
      "4\n"
     ]
    }
   ],
   "source": [
    "for i in range(5):\n",
    "    print(i)"
   ]
  },
  {
   "cell_type": "markdown",
   "id": "4b27cbae-3f24-409a-894a-2d999f0c278f",
   "metadata": {},
   "source": [
    "**method-2**"
   ]
  },
  {
   "cell_type": "code",
   "execution_count": 6,
   "id": "8e476889-dd18-4bea-9002-c2beb04e12b7",
   "metadata": {},
   "outputs": [
    {
     "name": "stdout",
     "output_type": "stream",
     "text": [
      "2\n",
      "3\n",
      "4\n",
      "5\n"
     ]
    }
   ],
   "source": [
    "for i in range(2,6):\n",
    "    print(i)"
   ]
  },
  {
   "cell_type": "code",
   "execution_count": 9,
   "id": "b336643d-c7b2-4950-9cdc-1f5177f96ca7",
   "metadata": {},
   "outputs": [
    {
     "name": "stdout",
     "output_type": "stream",
     "text": [
      "11 is 121\n",
      "97 is 9409\n",
      "14 is 196\n",
      "88 is 7744\n",
      "60 is 3600\n"
     ]
    }
   ],
   "source": [
    "import random\n",
    "for i in range(5):\n",
    "    user=random.randint(10,100)\n",
    "    print(f\"{user} is {user**2}\")"
   ]
  },
  {
   "cell_type": "code",
   "execution_count": 12,
   "id": "5c2d1302-bfdc-4316-aebc-f89e1c14ab4e",
   "metadata": {},
   "outputs": [
    {
     "name": "stdout",
     "output_type": "stream",
     "text": [
      "64 is 4096\n",
      "86 is 7396\n",
      "48 is 2304\n",
      "59 is 3481\n",
      "82 is 6724\n"
     ]
    }
   ],
   "source": [
    "def square():\n",
    "    user=random.randint(10,100)\n",
    "    return(f\"{user} is {user**2}\")\n",
    "for i in range(5):\n",
    "    a=square()\n",
    "    print(a)"
   ]
  },
  {
   "cell_type": "markdown",
   "id": "db810d70-917d-42b1-a377-9dda5db37977",
   "metadata": {},
   "source": [
    "**method-3**"
   ]
  },
  {
   "cell_type": "code",
   "execution_count": 17,
   "id": "d60e708e-8787-43c9-9d96-58b1aef30385",
   "metadata": {},
   "outputs": [
    {
     "name": "stdout",
     "output_type": "stream",
     "text": [
      "2 4 6 8 10 12 14 16 18 "
     ]
    }
   ],
   "source": [
    "#case-1\n",
    "for i in range(2,20,2):\n",
    "    print(i, end=\" \")"
   ]
  },
  {
   "cell_type": "code",
   "execution_count": 18,
   "id": "b22e2a65-ba8f-416b-9f62-11a0ec5011bd",
   "metadata": {},
   "outputs": [],
   "source": [
    "#case-2\n",
    "for i in range(2,20,-2):\n",
    "    print(i)"
   ]
  },
  {
   "cell_type": "code",
   "execution_count": 19,
   "id": "a6f85162-8ff6-482b-8281-4c7dc26327b5",
   "metadata": {},
   "outputs": [
    {
     "name": "stdout",
     "output_type": "stream",
     "text": [
      "2 0 -2 -4 -6 -8 -10 -12 -14 -16 -18 "
     ]
    }
   ],
   "source": [
    "#case-3\n",
    "for i in range(2,-20,-2):\n",
    "    print(i,end=\" \")"
   ]
  },
  {
   "cell_type": "code",
   "execution_count": 20,
   "id": "cc23eb3d-4bd0-4057-9d53-fd7533665701",
   "metadata": {},
   "outputs": [
    {
     "name": "stdout",
     "output_type": "stream",
     "text": [
      "-2 -4 -6 -8 -10 -12 -14 -16 -18 "
     ]
    }
   ],
   "source": [
    "#case-4\n",
    "for i in range(-2,-20,-2):\n",
    "    print(i,end=\" \")"
   ]
  },
  {
   "cell_type": "code",
   "execution_count": 21,
   "id": "963dcaa4-1df6-428e-aaec-21827ab460e5",
   "metadata": {},
   "outputs": [],
   "source": [
    "#case-5\n",
    "for i in range(-2,20,-2):\n",
    "    print(i)"
   ]
  },
  {
   "cell_type": "code",
   "execution_count": 23,
   "id": "b6a357b0-c0dc-4ecf-b0d4-4de3d655fc3c",
   "metadata": {},
   "outputs": [
    {
     "name": "stdout",
     "output_type": "stream",
     "text": [
      "19 16 13 10 7 4 "
     ]
    }
   ],
   "source": [
    " for i in range(19,3,-3):\n",
    "     print(i,end=\" \")"
   ]
  },
  {
   "cell_type": "markdown",
   "id": "5095577c-033a-4e72-a1fa-968c1d20c6b8",
   "metadata": {},
   "source": [
    "**wrapper**\n",
    "- Counter wrapper"
   ]
  },
  {
   "cell_type": "code",
   "execution_count": 25,
   "id": "ee68be08-05f7-41d3-b14c-806554baf404",
   "metadata": {},
   "outputs": [
    {
     "name": "stdout",
     "output_type": "stream",
     "text": [
      "45\n"
     ]
    }
   ],
   "source": [
    "summ=0\n",
    "for i in range(1,10):\n",
    "    summ=summ+i\n",
    "print(summ)"
   ]
  },
  {
   "cell_type": "markdown",
   "id": "cc1499d6-cddb-4f69-8ce8-449999cee749",
   "metadata": {},
   "source": [
    "# keywords"
   ]
  },
  {
   "cell_type": "code",
   "execution_count": 26,
   "id": "d1cf5b2d-2d78-4afd-9b92-af86b51dc841",
   "metadata": {},
   "outputs": [
    {
     "data": {
      "text/plain": [
       "['False',\n",
       " 'None',\n",
       " 'True',\n",
       " 'and',\n",
       " 'as',\n",
       " 'assert',\n",
       " 'async',\n",
       " 'await',\n",
       " 'break',\n",
       " 'class',\n",
       " 'continue',\n",
       " 'def',\n",
       " 'del',\n",
       " 'elif',\n",
       " 'else',\n",
       " 'except',\n",
       " 'finally',\n",
       " 'for',\n",
       " 'from',\n",
       " 'global',\n",
       " 'if',\n",
       " 'import',\n",
       " 'in',\n",
       " 'is',\n",
       " 'lambda',\n",
       " 'nonlocal',\n",
       " 'not',\n",
       " 'or',\n",
       " 'pass',\n",
       " 'raise',\n",
       " 'return',\n",
       " 'try',\n",
       " 'while',\n",
       " 'with',\n",
       " 'yield']"
      ]
     },
     "execution_count": 26,
     "metadata": {},
     "output_type": "execute_result"
    }
   ],
   "source": [
    "import keyword\n",
    "keyword.kwlist"
   ]
  },
  {
   "cell_type": "markdown",
   "id": "8faf5495-2d1d-4aef-b3b7-fdb02e602abe",
   "metadata": {},
   "source": [
    "# operator in for loop\n",
    "- in operator -charcters\n",
    "- range operator -numbers"
   ]
  },
  {
   "cell_type": "code",
   "execution_count": 27,
   "id": "00708a42-b719-4b60-ba07-20a4048e31b6",
   "metadata": {},
   "outputs": [
    {
     "name": "stdout",
     "output_type": "stream",
     "text": [
      "P\n",
      "y\n",
      "t\n",
      "h\n",
      "o\n",
      "n\n"
     ]
    }
   ],
   "source": [
    "name=\"Python\"\n",
    "for i in name:\n",
    "    print(i)"
   ]
  },
  {
   "cell_type": "markdown",
   "id": "02561a39-d32e-4b98-a99e-3fd77a7025ea",
   "metadata": {},
   "source": [
    "# ASCII - American standard Code for information interchange\n",
    "- space -32\n",
    "- special characters -33 to 47\n",
    "- digits(0-9) -48 to 57\n",
    "- arthemativc symbols-58 to 64\n",
    "- (A-Z) 65 to 90\n",
    "- bracket -91 to 96\n",
    "- (a-z) -97 to 122\n",
    "- { ~(123 to 126)"
   ]
  },
  {
   "cell_type": "markdown",
   "id": "dc574120-293d-441c-bf41-88db2962ff20",
   "metadata": {},
   "source": [
    "**ord-chr**\n",
    "\n",
    "- ord is the keyword which provides ASCII number of Charecters\n",
    "\n",
    "- char is the keyword which provides charecters for given ASCII number"
   ]
  },
  {
   "cell_type": "code",
   "execution_count": 29,
   "id": "54f1ce44-158d-429c-9ef1-e6fb3bc9d8db",
   "metadata": {},
   "outputs": [
    {
     "data": {
      "text/plain": [
       "(65, 97)"
      ]
     },
     "execution_count": 29,
     "metadata": {},
     "output_type": "execute_result"
    }
   ],
   "source": [
    "ord('A'), ord('a')"
   ]
  },
  {
   "cell_type": "code",
   "execution_count": 30,
   "id": "118e5f01-2e66-4322-9963-4cdb6ae22e68",
   "metadata": {},
   "outputs": [
    {
     "name": "stdout",
     "output_type": "stream",
     "text": [
      "A 65 B 66 C 67 D 68 E 69 F 70 G 71 H 72 I 73 J 74 K 75 L 76 M 77 N 78 O 79 P 80 Q 81 R 82 S 83 T 84 U 85 V 86 W 87 X 88 Y 89 Z 90 "
     ]
    }
   ],
   "source": [
    "for i in \"ABCDEFGHIJKLMNOPQRSTUVWXYZ\":\n",
    "    print(i,ord(i),end=\" \")"
   ]
  },
  {
   "cell_type": "code",
   "execution_count": 31,
   "id": "08db0c98-dd69-4cd0-bb88-b7660bbbbf60",
   "metadata": {},
   "outputs": [
    {
     "data": {
      "text/plain": [
       "['Formatter',\n",
       " 'Template',\n",
       " '_ChainMap',\n",
       " '__all__',\n",
       " '__builtins__',\n",
       " '__cached__',\n",
       " '__doc__',\n",
       " '__file__',\n",
       " '__loader__',\n",
       " '__name__',\n",
       " '__package__',\n",
       " '__spec__',\n",
       " '_re',\n",
       " '_sentinel_dict',\n",
       " '_string',\n",
       " 'ascii_letters',\n",
       " 'ascii_lowercase',\n",
       " 'ascii_uppercase',\n",
       " 'capwords',\n",
       " 'digits',\n",
       " 'hexdigits',\n",
       " 'octdigits',\n",
       " 'printable',\n",
       " 'punctuation',\n",
       " 'whitespace']"
      ]
     },
     "execution_count": 31,
     "metadata": {},
     "output_type": "execute_result"
    }
   ],
   "source": [
    "import string\n",
    "dir(string)"
   ]
  },
  {
   "cell_type": "code",
   "execution_count": 32,
   "id": "4ad03623-1f18-421f-86c5-9df550f50761",
   "metadata": {},
   "outputs": [
    {
     "data": {
      "text/plain": [
       "'abcdefghijklmnopqrstuvwxyzABCDEFGHIJKLMNOPQRSTUVWXYZ'"
      ]
     },
     "execution_count": 32,
     "metadata": {},
     "output_type": "execute_result"
    }
   ],
   "source": [
    "string.ascii_letters"
   ]
  },
  {
   "cell_type": "code",
   "execution_count": 34,
   "id": "fef3458b-6bbc-426c-98f5-203cc2ddcfe3",
   "metadata": {},
   "outputs": [
    {
     "name": "stdout",
     "output_type": "stream",
     "text": [
      "32   33 ! 34 \" 35 # 36 $ 37 % 38 & 39 ' 40 ( 41 ) 42 * 43 + 44 , 45 - 46 . 47 / 48 0 49 1 50 2 51 3 52 4 53 5 54 6 55 7 56 8 57 9 58 : 59 ; 60 < 61 = 62 > 63 ? 64 @ 65 A 66 B 67 C 68 D 69 E 70 F 71 G 72 H 73 I 74 J 75 K 76 L 77 M 78 N 79 O 80 P 81 Q 82 R 83 S 84 T 85 U 86 V 87 W 88 X 89 Y 90 Z 91 [ 92 \\ 93 ] 94 ^ 95 _ 96 ` 97 a 98 b 99 c 100 d 101 e 102 f 103 g 104 h 105 i 106 j 107 k 108 l 109 m 110 n 111 o 112 p 113 q 114 r 115 s 116 t 117 u 118 v 119 w 120 x 121 y 122 z 123 { 124 | 125 } 126 ~ "
     ]
    }
   ],
   "source": [
    "for i in range(32,127):\n",
    "    print(i,chr(i),end=\" \")"
   ]
  },
  {
   "cell_type": "markdown",
   "id": "75d19f1e-0f5b-42a5-8758-1983d90e892e",
   "metadata": {},
   "source": [
    "# while loop\n",
    "- If you want to appply unlimited iterations then we choose while loop\r\n",
    "\r\n",
    "- Any loop we required 3 things\r\n",
    "\r\n",
    "    - Intial point or start point\r\n",
    "\r\n",
    "    - Condition to stop\r\n",
    "\r\n",
    "    - Increment or decrement\r\n",
    "\r\n",
    "- In for loop we are using all these 3 in a single line\r\n",
    "\r\n",
    "- In while Loop we will use all these 3 in 3 lines\r\n",
    "\r\n"
   ]
  },
  {
   "cell_type": "code",
   "execution_count": 39,
   "id": "f140603d-bf73-45d5-9c1a-1d77b810e02d",
   "metadata": {},
   "outputs": [
    {
     "name": "stdout",
     "output_type": "stream",
     "text": [
      "1\n",
      "2\n",
      "3\n",
      "4\n",
      "5\n",
      "6\n",
      "7\n",
      "8\n",
      "9\n"
     ]
    }
   ],
   "source": [
    "i=1\n",
    "while i<10:\n",
    "    print(i)\n",
    "    i=i+1"
   ]
  },
  {
   "cell_type": "code",
   "execution_count": 40,
   "id": "6e74f3ca-6263-404a-8b28-a38a52727679",
   "metadata": {},
   "outputs": [
    {
     "name": "stdout",
     "output_type": "stream",
     "text": [
      "1\n",
      "2\n",
      "3\n",
      "4\n",
      "5\n",
      "6\n",
      "7\n",
      "8\n",
      "9\n"
     ]
    }
   ],
   "source": [
    "i=1\n",
    "while i!=0:\n",
    "    print(i)\n",
    "    i=i+1\n",
    "    if i==10:\n",
    "        break"
   ]
  },
  {
   "cell_type": "markdown",
   "id": "62b96ada-71a3-440b-8e95-4c11814b4479",
   "metadata": {},
   "source": [
    "# break\n",
    "- **True**\n",
    "\n",
    "- When we want to use infinite iterations will use True\n",
    "\n",
    "- If we want to stop the loop, inside we will apply a condition and break"
   ]
  },
  {
   "cell_type": "code",
   "execution_count": 42,
   "id": "8b0e58b0-ff63-4fb4-82ab-7253ae033c49",
   "metadata": {},
   "outputs": [
    {
     "name": "stdout",
     "output_type": "stream",
     "text": [
      "1\n",
      "2\n",
      "3\n",
      "4\n",
      "5\n",
      "6\n",
      "7\n",
      "8\n",
      "9\n"
     ]
    }
   ],
   "source": [
    "i=1\n",
    "while True:\n",
    "    print(i)\n",
    "    i=i+1\n",
    "    if i==10:\n",
    "        break"
   ]
  },
  {
   "cell_type": "code",
   "execution_count": 43,
   "id": "09a3cd9c-c5d9-4b2b-86c8-cf288f1e9843",
   "metadata": {},
   "outputs": [
    {
     "name": "stdout",
     "output_type": "stream",
     "text": [
      "-10 -9 -8 -7 -6 -5 -4 -3 -2 "
     ]
    }
   ],
   "source": [
    "for i in range(-10,-1):\n",
    "    print(i, end=\" \")"
   ]
  },
  {
   "cell_type": "code",
   "execution_count": 45,
   "id": "4bf2d8d4-9909-477f-887e-efe2656e84fa",
   "metadata": {},
   "outputs": [
    {
     "name": "stdout",
     "output_type": "stream",
     "text": [
      "-10-9-8-7-6-5-4-3-2-1"
     ]
    }
   ],
   "source": [
    "i=-10\n",
    "while True:\n",
    "    print(i, end=\"\")\n",
    "    i=i+1\n",
    "    if i==0:\n",
    "        break"
   ]
  },
  {
   "cell_type": "code",
   "execution_count": 46,
   "id": "d614fcda-eddd-4448-b2bd-d354530a3845",
   "metadata": {},
   "outputs": [
    {
     "name": "stdout",
     "output_type": "stream",
     "text": [
      "-10-9-8-7-6-5-4-3-2-1"
     ]
    }
   ],
   "source": [
    "i=-10\n",
    "while i<0:\n",
    "    print(i, end=\"\")\n",
    "    i=i+1"
   ]
  },
  {
   "cell_type": "code",
   "execution_count": 47,
   "id": "8c2c264d-9774-477c-9af5-2a9cf8184cb3",
   "metadata": {},
   "outputs": [
    {
     "name": "stdout",
     "output_type": "stream",
     "text": [
      "-1 -2 -3 -4 -5 -6 -7 -8 -9 "
     ]
    }
   ],
   "source": [
    "#wap to print -1 to -10\n",
    "# using for loop and while loop\n",
    "for i in range(-1,-10,-1):\n",
    "    print(i,end=' ')\n"
   ]
  },
  {
   "cell_type": "code",
   "execution_count": 49,
   "id": "abd0f5a9-ee64-4b3e-b2f9-2fba95da7200",
   "metadata": {},
   "outputs": [
    {
     "name": "stdout",
     "output_type": "stream",
     "text": [
      "-1-2-3-4-5-6-7-8-9-10"
     ]
    }
   ],
   "source": [
    "i=-1\n",
    "while i>=-10:\n",
    "    print(i,end=\"\")\n",
    "    i=i-1"
   ]
  },
  {
   "cell_type": "markdown",
   "id": "16faf7d9-757a-4c74-a444-8ff4da6c6bfe",
   "metadata": {},
   "source": [
    "# string\n",
    "- triple-doc stringstring\n",
    "- Values can not change using Index operations called as **immutable**\r\n",
    "\r\n",
    "- some thing can be change\r\n",
    "\r\n",
    "- here if we want to change a prticular letter at particular index\r\n",
    "\r\n",
    "- 'hello' :  3rd index is 'l', i want to change 'l' to 'L'\r\n",
    "\r\n",
    "- 'heLlo'\r\n",
    "\r\n",
    "- **by using index operation**\r\n",
    "\r\n",
    "- **STRINGS ARE IMMUTABLE**"
   ]
  },
  {
   "cell_type": "code",
   "execution_count": 51,
   "id": "18b97e71-c03b-442a-af16-e0b7b270fe01",
   "metadata": {},
   "outputs": [
    {
     "name": "stdout",
     "output_type": "stream",
     "text": [
      "Hello how are you\n",
      "       Im good\n"
     ]
    }
   ],
   "source": [
    "str7=\"\"\"Hello how are you\n",
    "       Im good\"\"\"\n",
    "print(str7)"
   ]
  },
  {
   "cell_type": "code",
   "execution_count": 52,
   "id": "a2a339fb-2e1e-4ba3-b33f-e1f2ad5e54f0",
   "metadata": {},
   "outputs": [
    {
     "data": {
      "text/plain": [
       "str"
      ]
     },
     "execution_count": 52,
     "metadata": {},
     "output_type": "execute_result"
    }
   ],
   "source": [
    "type(\"python\")"
   ]
  },
  {
   "cell_type": "code",
   "execution_count": 53,
   "id": "2c5509ee-ea15-40aa-89d4-ba691583d849",
   "metadata": {},
   "outputs": [
    {
     "name": "stdout",
     "output_type": "stream",
     "text": [
      "python\n"
     ]
    }
   ],
   "source": [
    "print(\"python\")"
   ]
  },
  {
   "cell_type": "code",
   "execution_count": 54,
   "id": "9a25a6ac-e900-4ed1-b73b-b5505633c98f",
   "metadata": {},
   "outputs": [
    {
     "data": {
      "text/plain": [
       "6"
      ]
     },
     "execution_count": 54,
     "metadata": {},
     "output_type": "execute_result"
    }
   ],
   "source": [
    "str1=\"python\"\n",
    "len(str1)"
   ]
  },
  {
   "cell_type": "code",
   "execution_count": 55,
   "id": "f8b19ba2-4af4-4b88-b2e8-9f2ad6a7b954",
   "metadata": {},
   "outputs": [
    {
     "data": {
      "text/plain": [
       "'y'"
      ]
     },
     "execution_count": 55,
     "metadata": {},
     "output_type": "execute_result"
    }
   ],
   "source": [
    "max(\"python\")"
   ]
  },
  {
   "cell_type": "code",
   "execution_count": 56,
   "id": "225c1f98-b66a-4b5f-978f-d03fc9dabb6a",
   "metadata": {},
   "outputs": [
    {
     "data": {
      "text/plain": [
       "'h'"
      ]
     },
     "execution_count": 56,
     "metadata": {},
     "output_type": "execute_result"
    }
   ],
   "source": [
    "min(\"python\")"
   ]
  },
  {
   "cell_type": "code",
   "execution_count": 61,
   "id": "baa58c91-cfc4-45ec-9971-181186f690d7",
   "metadata": {},
   "outputs": [
    {
     "name": "stdout",
     "output_type": "stream",
     "text": [
      "nohtyp"
     ]
    }
   ],
   "source": [
    "str1=reversed(\"python\")\n",
    "for i in str1:\n",
    "    print(i,end=\"\")"
   ]
  },
  {
   "cell_type": "code",
   "execution_count": 62,
   "id": "c3e11197-1db5-45e7-8879-8010cf6f1b33",
   "metadata": {},
   "outputs": [
    {
     "name": "stdout",
     "output_type": "stream",
     "text": [
      "hnopty"
     ]
    }
   ],
   "source": [
    "str1=sorted(\"python\")\n",
    "for i in str1:\n",
    "    print(i,end=\"\")"
   ]
  },
  {
   "cell_type": "code",
   "execution_count": 1,
   "id": "1a68e12a-f572-4c14-914e-6c7cf38f65ce",
   "metadata": {},
   "outputs": [
    {
     "name": "stdout",
     "output_type": "stream",
     "text": [
      "P\n"
     ]
    }
   ],
   "source": [
    "str1=\"Python\"\n",
    "for i in str1:\n",
    "    if i==\"P\":\n",
    "        print(i)"
   ]
  },
  {
   "cell_type": "code",
   "execution_count": 3,
   "id": "b27b474e-6cce-4f46-bc20-614759ac9ac9",
   "metadata": {},
   "outputs": [
    {
     "name": "stdout",
     "output_type": "stream",
     "text": [
      "ytponh"
     ]
    }
   ],
   "source": [
    "str1=sorted(\"python\",reverse=True)\n",
    "for i in str1:\n",
    "    print(i,end=\"\")"
   ]
  },
  {
   "cell_type": "code",
   "execution_count": 4,
   "id": "a5c35b88-fe82-408d-b9eb-d25b4fa914a3",
   "metadata": {},
   "outputs": [
    {
     "name": "stdout",
     "output_type": "stream",
     "text": [
      "k\n",
      "a\n"
     ]
    }
   ],
   "source": [
    "#index\n",
    "str1=\"krishna\"\n",
    "print(str1[0])\n",
    "print(str1[-1])"
   ]
  },
  {
   "cell_type": "markdown",
   "id": "f431ba36-421b-429d-86c6-e888af29bf17",
   "metadata": {},
   "source": [
    "**slice**\n",
    "\n",
    "- cut into pieces\n",
    "\n",
    "- which means we can extract some part of string\n",
    "\n",
    "- For that we need to undertsand the start , stop, step\n",
    "\n",
    "- s[start:stop:step]\n"
   ]
  },
  {
   "cell_type": "markdown",
   "id": "befb4646-cca1-4149-b04f-4eb34ab9a5a0",
   "metadata": {},
   "source": [
    "$pattern-1$\n",
    "\n",
    "**str1[:stop]**\n",
    "\n",
    "- Nothing mentioned at start place:  0\n",
    "\n",
    "- direction nothing mentioned means postive\n",
    "\n",
    "- step size also nothing mentioned means 1\n",
    "  \n",
    "- last=stop-1"
   ]
  },
  {
   "cell_type": "code",
   "execution_count": 7,
   "id": "a14c674d-b08f-45a7-ba2d-8b3a8df8304e",
   "metadata": {},
   "outputs": [
    {
     "data": {
      "text/plain": [
       "'hai '"
      ]
     },
     "execution_count": 7,
     "metadata": {},
     "output_type": "execute_result"
    }
   ],
   "source": [
    "str1=\"hai how are you\"\n",
    "# start=0\n",
    "# last =(stop)-1   stop:3\n",
    "#  range(0,3)  or  range(3)\n",
    "# str1[start:stop]\n",
    "\n",
    "str1[4]  # index\n",
    "str1[:4] #  <start>:<stop>\n",
    "# Nothing mentioned means '0'\n",
    "# 0  1  2  3\n",
    "# h  a  i  ''"
   ]
  },
  {
   "cell_type": "markdown",
   "id": "f7b2adb7-744b-401a-8b4e-a983f168410f",
   "metadata": {},
   "source": [
    "$pattern-2$\n",
    "\n",
    "**str1[start:]**"
   ]
  },
  {
   "cell_type": "code",
   "execution_count": 8,
   "id": "74a2804d-9900-4495-bd76-816196d349ed",
   "metadata": {},
   "outputs": [
    {
     "data": {
      "text/plain": [
       "'ow are you'"
      ]
     },
     "execution_count": 8,
     "metadata": {},
     "output_type": "execute_result"
    }
   ],
   "source": [
    "str1=\"hai how are you\"\n",
    "str1[5:]\n",
    "# start=5\n",
    "# nothing mentioned means till last\n",
    "# direction nothing mentioned is postive\n",
    "# step  size nothing mentioned means +1"
   ]
  },
  {
   "cell_type": "code",
   "execution_count": 9,
   "id": "d1bb6906-0970-42c4-9513-95b378d98c0b",
   "metadata": {},
   "outputs": [
    {
     "data": {
      "text/plain": [
       "'hai how are you'"
      ]
     },
     "execution_count": 9,
     "metadata": {},
     "output_type": "execute_result"
    }
   ],
   "source": [
    "str1=\"hai how are you\"\n",
    "str1[:]"
   ]
  },
  {
   "cell_type": "code",
   "execution_count": 10,
   "id": "19aea18a-8dd6-4684-acea-427e2ed9de08",
   "metadata": {},
   "outputs": [
    {
     "data": {
      "text/plain": [
       "'uoy era woh iah'"
      ]
     },
     "execution_count": 10,
     "metadata": {},
     "output_type": "execute_result"
    }
   ],
   "source": [
    "str1=\"hai how are you\"\n",
    "str1[::-1]"
   ]
  },
  {
   "cell_type": "markdown",
   "id": "10d3de88-40cf-4a6d-a46a-edbb8f56717a",
   "metadata": {},
   "source": [
    "**concatenation**"
   ]
  },
  {
   "cell_type": "code",
   "execution_count": 12,
   "id": "ad1b5101-db0c-45a4-9e1b-a4c278fa409e",
   "metadata": {},
   "outputs": [
    {
     "data": {
      "text/plain": [
       "'hello python'"
      ]
     },
     "execution_count": 12,
     "metadata": {},
     "output_type": "execute_result"
    }
   ],
   "source": [
    "str1='hello'\n",
    "str2='python'\n",
    "str1+str2\n",
    "str1+' '+str2"
   ]
  },
  {
   "cell_type": "code",
   "execution_count": 13,
   "id": "e5e54f59-fd15-4a20-8cd7-a9af4ad28c0c",
   "metadata": {},
   "outputs": [
    {
     "data": {
      "text/plain": [
       "'hello hello hello '"
      ]
     },
     "execution_count": 13,
     "metadata": {},
     "output_type": "execute_result"
    }
   ],
   "source": [
    "str1='hello '\n",
    "str1*3"
   ]
  },
  {
   "cell_type": "markdown",
   "id": "fc4825d1-59a3-4474-b8c7-3c56c5ba053b",
   "metadata": {},
   "source": [
    "# string-part2\n",
    "**String methods**\n",
    "- you need to treat strings is a package\n",
    "\n",
    "- so apply dir on any string we will get the methods"
   ]
  },
  {
   "cell_type": "code",
   "execution_count": 14,
   "id": "0a5d0d71-266c-48de-b4a7-ccd0a3c73ad4",
   "metadata": {},
   "outputs": [
    {
     "data": {
      "text/plain": [
       "['__add__',\n",
       " '__class__',\n",
       " '__contains__',\n",
       " '__delattr__',\n",
       " '__dir__',\n",
       " '__doc__',\n",
       " '__eq__',\n",
       " '__format__',\n",
       " '__ge__',\n",
       " '__getattribute__',\n",
       " '__getitem__',\n",
       " '__getnewargs__',\n",
       " '__getstate__',\n",
       " '__gt__',\n",
       " '__hash__',\n",
       " '__init__',\n",
       " '__init_subclass__',\n",
       " '__iter__',\n",
       " '__le__',\n",
       " '__len__',\n",
       " '__lt__',\n",
       " '__mod__',\n",
       " '__mul__',\n",
       " '__ne__',\n",
       " '__new__',\n",
       " '__reduce__',\n",
       " '__reduce_ex__',\n",
       " '__repr__',\n",
       " '__rmod__',\n",
       " '__rmul__',\n",
       " '__setattr__',\n",
       " '__sizeof__',\n",
       " '__str__',\n",
       " '__subclasshook__',\n",
       " 'capitalize',\n",
       " 'casefold',\n",
       " 'center',\n",
       " 'count',\n",
       " 'encode',\n",
       " 'endswith',\n",
       " 'expandtabs',\n",
       " 'find',\n",
       " 'format',\n",
       " 'format_map',\n",
       " 'index',\n",
       " 'isalnum',\n",
       " 'isalpha',\n",
       " 'isascii',\n",
       " 'isdecimal',\n",
       " 'isdigit',\n",
       " 'isidentifier',\n",
       " 'islower',\n",
       " 'isnumeric',\n",
       " 'isprintable',\n",
       " 'isspace',\n",
       " 'istitle',\n",
       " 'isupper',\n",
       " 'join',\n",
       " 'ljust',\n",
       " 'lower',\n",
       " 'lstrip',\n",
       " 'maketrans',\n",
       " 'partition',\n",
       " 'removeprefix',\n",
       " 'removesuffix',\n",
       " 'replace',\n",
       " 'rfind',\n",
       " 'rindex',\n",
       " 'rjust',\n",
       " 'rpartition',\n",
       " 'rsplit',\n",
       " 'rstrip',\n",
       " 'split',\n",
       " 'splitlines',\n",
       " 'startswith',\n",
       " 'strip',\n",
       " 'swapcase',\n",
       " 'title',\n",
       " 'translate',\n",
       " 'upper',\n",
       " 'zfill']"
      ]
     },
     "execution_count": 14,
     "metadata": {},
     "output_type": "execute_result"
    }
   ],
   "source": [
    "dir('')"
   ]
  },
  {
   "cell_type": "markdown",
   "id": "fad80ae1-f634-4810-b80b-ae486b26bfd7",
   "metadata": {},
   "source": [
    "$capitalize$\n",
    "\n",
    "Return a capitalized version of the string.\n",
    "\n",
    "More specifically, make the first character have upper case and the rest lower"
   ]
  },
  {
   "cell_type": "code",
   "execution_count": 16,
   "id": "b3b90fdd-6220-4bc9-9efa-1a6394134850",
   "metadata": {},
   "outputs": [
    {
     "data": {
      "text/plain": [
       "'Python'"
      ]
     },
     "execution_count": 16,
     "metadata": {},
     "output_type": "execute_result"
    }
   ],
   "source": [
    "str='python'\n",
    "str.capitalize()"
   ]
  },
  {
   "cell_type": "code",
   "execution_count": 17,
   "id": "562f16ef-87cc-47c3-bc47-e20bbe84b3c0",
   "metadata": {},
   "outputs": [
    {
     "data": {
      "text/plain": [
       "'PYTHON'"
      ]
     },
     "execution_count": 17,
     "metadata": {},
     "output_type": "execute_result"
    }
   ],
   "source": [
    "str.upper()"
   ]
  },
  {
   "cell_type": "code",
   "execution_count": 18,
   "id": "3753a82c-b6dd-4c25-b5ab-9831d01f9056",
   "metadata": {},
   "outputs": [
    {
     "data": {
      "text/plain": [
       "'python'"
      ]
     },
     "execution_count": 18,
     "metadata": {},
     "output_type": "execute_result"
    }
   ],
   "source": [
    "str.lower()"
   ]
  },
  {
   "cell_type": "markdown",
   "id": "6ade6097-38a0-4d3f-9c52-015283da30b7",
   "metadata": {},
   "source": [
    "$casefold$\n",
    "\n",
    "**Return a version of the string suitable for caseless comparisons**"
   ]
  },
  {
   "cell_type": "code",
   "execution_count": 20,
   "id": "13f3ab80-af4a-43ec-bff3-2610d0318b17",
   "metadata": {},
   "outputs": [
    {
     "data": {
      "text/plain": [
       "'python'"
      ]
     },
     "execution_count": 20,
     "metadata": {},
     "output_type": "execute_result"
    }
   ],
   "source": [
    "str.casefold()"
   ]
  },
  {
   "cell_type": "markdown",
   "id": "9981f6f7-6f25-4597-8ff7-d6b358b2ad6f",
   "metadata": {},
   "source": [
    "$center$"
   ]
  },
  {
   "cell_type": "code",
   "execution_count": 21,
   "id": "7404e99d-e916-4c34-a15d-63f2345822d7",
   "metadata": {},
   "outputs": [
    {
     "data": {
      "text/plain": [
       "'$$python$$'"
      ]
     },
     "execution_count": 21,
     "metadata": {},
     "output_type": "execute_result"
    }
   ],
   "source": [
    "str.center(10,'$')"
   ]
  },
  {
   "cell_type": "code",
   "execution_count": 22,
   "id": "a00a02f6-23db-496d-bda4-ce88d9a77de6",
   "metadata": {},
   "outputs": [
    {
     "data": {
      "text/plain": [
       "'$$python$$'"
      ]
     },
     "execution_count": 22,
     "metadata": {},
     "output_type": "execute_result"
    }
   ],
   "source": [
    "str.center(10,'$')\n",
    "# total new string width =10\n",
    "# already given string len=6\n",
    "# so extra 4 $ will add\n",
    "# string should be in center\n",
    "# 2$ are left side 2$ are right side"
   ]
  },
  {
   "cell_type": "code",
   "execution_count": 23,
   "id": "91dd4f91-fd9f-484b-b78b-ae7a8ab4053f",
   "metadata": {},
   "outputs": [
    {
     "data": {
      "text/plain": [
       "'python'"
      ]
     },
     "execution_count": 23,
     "metadata": {},
     "output_type": "execute_result"
    }
   ],
   "source": [
    "'python'.center(2,'$')"
   ]
  },
  {
   "cell_type": "markdown",
   "id": "77efc50d-ed5e-4708-ac11-62fbaaec42aa",
   "metadata": {},
   "source": [
    "**unique vowels or items**\n",
    "\n",
    "- always make an empty string\n",
    "\n",
    "- iterate the letters of original string through for loop\n",
    "\n",
    "- whenever vowel condition match keep that letter in empty string\n",
    "\n",
    "- now onwards do the two checks\n",
    "\n",
    "    - is that vowels\n",
    "\n",
    "    - is that present in that new string"
   ]
  },
  {
   "cell_type": "code",
   "execution_count": 27,
   "id": "2b230209-22f3-47cf-a72d-d51e65444f75",
   "metadata": {},
   "outputs": [
    {
     "data": {
      "text/plain": [
       "2"
      ]
     },
     "execution_count": 27,
     "metadata": {},
     "output_type": "execute_result"
    }
   ],
   "source": [
    "str1='aabbccddee'\n",
    "str2=\"\"\n",
    "for i in str1:\n",
    "    if i in \"aeiou\":\n",
    "        if i not in str2:\n",
    "            str2=str2+i\n",
    "len(str2)"
   ]
  },
  {
   "cell_type": "code",
   "execution_count": 29,
   "id": "1343ee67-916d-4407-9155-fec3195e3dee",
   "metadata": {},
   "outputs": [
    {
     "data": {
      "text/plain": [
       "'Krishna Is Good Girl'"
      ]
     },
     "execution_count": 29,
     "metadata": {},
     "output_type": "execute_result"
    }
   ],
   "source": [
    "str1=\"krishna is good girl\"\n",
    "str1.title()"
   ]
  },
  {
   "cell_type": "code",
   "execution_count": 30,
   "id": "dcd38f7a-c099-45ff-b215-20649598b13d",
   "metadata": {},
   "outputs": [
    {
     "data": {
      "text/plain": [
       "1"
      ]
     },
     "execution_count": 30,
     "metadata": {},
     "output_type": "execute_result"
    }
   ],
   "source": [
    "# You want count the number of 'a'  after 5th index\n",
    "# You want count the number of 'a'  between 5th and 10th index\n",
    "str1='ola ola ola' \n",
    "str1.count('a',7)"
   ]
  },
  {
   "cell_type": "code",
   "execution_count": 31,
   "id": "276b8dbc-6de8-4fa9-9f3a-fd5c344e6a23",
   "metadata": {},
   "outputs": [
    {
     "data": {
      "text/plain": [
       "2"
      ]
     },
     "execution_count": 31,
     "metadata": {},
     "output_type": "execute_result"
    }
   ],
   "source": [
    "str1='ola ola ola' \n",
    "str1.count('a',4,21)"
   ]
  },
  {
   "cell_type": "code",
   "execution_count": 32,
   "id": "dd9f50bc-14fe-41a5-bdf7-64f27ef7e4bb",
   "metadata": {},
   "outputs": [
    {
     "data": {
      "text/plain": [
       "'heLo'"
      ]
     },
     "execution_count": 32,
     "metadata": {},
     "output_type": "execute_result"
    }
   ],
   "source": [
    "str1='helo'\n",
    "str1.replace('l','L')"
   ]
  },
  {
   "cell_type": "code",
   "execution_count": 33,
   "id": "1aa35080-c7e0-4747-8eee-8d576757daf6",
   "metadata": {},
   "outputs": [
    {
     "data": {
      "text/plain": [
       "'heLLllo'"
      ]
     },
     "execution_count": 33,
     "metadata": {},
     "output_type": "execute_result"
    }
   ],
   "source": [
    "str1='hellllo'\n",
    "str1.replace('l','L',2)  # count=2"
   ]
  },
  {
   "cell_type": "code",
   "execution_count": 34,
   "id": "57fbdc7d-4a48-4174-939e-9c5ce90a9d02",
   "metadata": {},
   "outputs": [
    {
     "data": {
      "text/plain": [
       "'$esta$t'"
      ]
     },
     "execution_count": 34,
     "metadata": {},
     "output_type": "execute_result"
    }
   ],
   "source": [
    "str1='restart'\n",
    "str1.replace('r','$')"
   ]
  },
  {
   "cell_type": "markdown",
   "id": "db865fc3-8ab3-4e88-aa46-4310bdfda7ad",
   "metadata": {},
   "source": [
    "$index$\n",
    "\n",
    "- index will give the index of letter in a given string\n",
    "\n",
    "- By default It will provide the first occurence of letter only\n",
    "\n",
    "- If you want next occurence index of same letter you need to give start,stop\n",
    "\n",
    "- Like we given in count method"
   ]
  },
  {
   "cell_type": "code",
   "execution_count": 36,
   "id": "a31a0fcc-7969-4966-832e-fd9e2b1d74f9",
   "metadata": {},
   "outputs": [
    {
     "data": {
      "text/plain": [
       "1"
      ]
     },
     "execution_count": 36,
     "metadata": {},
     "output_type": "execute_result"
    }
   ],
   "source": [
    "str1='hai hai hai hai'\n",
    "str1.find('a')\n",
    "# index of 'a'\n",
    "# but so many 'a' are there\n",
    "# by defualt it will give first occurence index"
   ]
  },
  {
   "cell_type": "markdown",
   "id": "d6d17720-b1b2-46eb-ba0d-eb20d70329e6",
   "metadata": {},
   "source": [
    "**if substring not found**\n",
    "\n",
    "- do the shift+tab understand the docstring\n",
    "\n",
    "- if they mentioned any error or not\n",
    "\n",
    "- for count and replace they did not mention any error\n",
    "\n",
    "- for index error is mentioned \n",
    "\n",
    "- for find it is mentioned as -1\n",
    "\n",
    "- Count  will give zero\n",
    "\n",
    "- Replace will give same string\n",
    "\n",
    "- index will give error\n",
    "\n",
    "- find will give -1"
   ]
  },
  {
   "cell_type": "code",
   "execution_count": 38,
   "id": "bbd4259a-1722-49fd-a446-216d401c1642",
   "metadata": {},
   "outputs": [
    {
     "data": {
      "text/plain": [
       "True"
      ]
     },
     "execution_count": 38,
     "metadata": {},
     "output_type": "execute_result"
    }
   ],
   "source": [
    "'abc'.isalnum()"
   ]
  },
  {
   "cell_type": "code",
   "execution_count": 39,
   "id": "74d0e89d-5708-4496-b8f6-0662f8daa1fc",
   "metadata": {},
   "outputs": [
    {
     "data": {
      "text/plain": [
       "True"
      ]
     },
     "execution_count": 39,
     "metadata": {},
     "output_type": "execute_result"
    }
   ],
   "source": [
    "'ABC'.isupper()"
   ]
  },
  {
   "cell_type": "markdown",
   "id": "f92d408e-6c10-4e57-9b50-40a3b1cf425f",
   "metadata": {},
   "source": [
    "$strip$-$lstrip$-$rstrip$"
   ]
  },
  {
   "cell_type": "code",
   "execution_count": 42,
   "id": "b10d62c6-e845-441b-ae53-4566d7c13e07",
   "metadata": {},
   "outputs": [
    {
     "data": {
      "text/plain": [
       "('python', 'python ', ' python')"
      ]
     },
     "execution_count": 42,
     "metadata": {},
     "output_type": "execute_result"
    }
   ],
   "source": [
    "name1=' python '\n",
    "name2='python '\n",
    "name3=' python'\n",
    "name1.strip(),name1.lstrip(),name1.rstrip()"
   ]
  },
  {
   "cell_type": "code",
   "execution_count": 43,
   "id": "1874452c-3257-4574-8e7d-1c3773a816ce",
   "metadata": {},
   "outputs": [
    {
     "data": {
      "text/plain": [
       "('python', 'python ', 'python')"
      ]
     },
     "execution_count": 43,
     "metadata": {},
     "output_type": "execute_result"
    }
   ],
   "source": [
    "name2.strip(),name2.lstrip(),name2.rstrip()"
   ]
  },
  {
   "cell_type": "code",
   "execution_count": 44,
   "id": "e9b79b57-eccd-4f86-bce8-42432d167c69",
   "metadata": {},
   "outputs": [
    {
     "data": {
      "text/plain": [
       "('python', 'python', ' python')"
      ]
     },
     "execution_count": 44,
     "metadata": {},
     "output_type": "execute_result"
    }
   ],
   "source": [
    "name3.strip(),name3.lstrip(),name3.rstrip()"
   ]
  },
  {
   "cell_type": "code",
   "execution_count": 45,
   "id": "731d47e5-6a9a-4e90-b2b3-3b05e8d27129",
   "metadata": {},
   "outputs": [
    {
     "data": {
      "text/plain": [
       "'python'"
      ]
     },
     "execution_count": 45,
     "metadata": {},
     "output_type": "execute_result"
    }
   ],
   "source": [
    "name4=' python$$$'\n",
    "name4.lstrip().rstrip('$')"
   ]
  },
  {
   "cell_type": "code",
   "execution_count": 47,
   "id": "180078df-4240-444e-8e8a-76584a87b742",
   "metadata": {},
   "outputs": [
    {
     "data": {
      "text/plain": [
       "['hello', 'how', 'are', 'you']"
      ]
     },
     "execution_count": 47,
     "metadata": {},
     "output_type": "execute_result"
    }
   ],
   "source": [
    "#split()\n",
    "str='hello how are you'\n",
    "str.split()"
   ]
  },
  {
   "cell_type": "code",
   "execution_count": 48,
   "id": "c4280367-90f4-46c2-be10-0d9c6aae6cb5",
   "metadata": {},
   "outputs": [
    {
     "data": {
      "text/plain": [
       "['hello how', ' are you']"
      ]
     },
     "execution_count": 48,
     "metadata": {},
     "output_type": "execute_result"
    }
   ],
   "source": [
    "str1='hello how, are you'\n",
    "str1.split(',')"
   ]
  },
  {
   "cell_type": "code",
   "execution_count": 49,
   "id": "0dd64266-358d-4fb7-8fc3-8576ced16046",
   "metadata": {},
   "outputs": [
    {
     "data": {
      "text/plain": [
       "['hell', ' h', 'w, are y', 'u']"
      ]
     },
     "execution_count": 49,
     "metadata": {},
     "output_type": "execute_result"
    }
   ],
   "source": [
    "str2='hello how, are you'\n",
    "str2.split('o')"
   ]
  },
  {
   "cell_type": "markdown",
   "id": "5d1caac9-29ad-4dda-8cda-ad04e1ca61d2",
   "metadata": {},
   "source": [
    "$startswith$-$endswith$"
   ]
  },
  {
   "cell_type": "code",
   "execution_count": 53,
   "id": "fc49a35d-fdbc-4f3b-ac4e-104b578977ae",
   "metadata": {},
   "outputs": [
    {
     "name": "stdin",
     "output_type": "stream",
     "text": [
      " krishna@gmail.com\n"
     ]
    },
    {
     "name": "stdout",
     "output_type": "stream",
     "text": [
      "True\n"
     ]
    }
   ],
   "source": [
    "str=input()\n",
    "str2=str.endswith(\"@gmail.com\")\n",
    "print(str2)"
   ]
  },
  {
   "cell_type": "markdown",
   "id": "8a248f1c-b668-4b37-8219-a42174316f1b",
   "metadata": {},
   "source": [
    "# list\n",
    "- How to display\n",
    "\n",
    "- type\n",
    "\n",
    "- len\n",
    "\n",
    "- max\n",
    "\n",
    "- min\n",
    "\n",
    "- sum\n",
    "\n",
    "- reversed \n",
    "\n",
    "- sorted\n",
    "\n",
    "- in\n",
    "\n",
    "- not in\n",
    "\n",
    "- index\n",
    "\n",
    "- for loop\n",
    "\n",
    "- mutable\n",
    "\n",
    "- slice\n",
    "\n",
    "- concatenation\n",
    "\n",
    "- Methods\n",
    "\n",
    "- List items can be heterogeous\r\n",
    "\r\n",
    "    - Which means list items can be all data types\r\n",
    "\r\n",
    "- List items can be duplicate\r\n",
    "\r\n",
    "    - Which means list can have same value multiple times\r\n",
    "\r\n",
    "- List can have another list inside: List in list"
   ]
  },
  {
   "cell_type": "code",
   "execution_count": 54,
   "id": "af6eb1e1-ff1f-481c-a08a-90082ce65c6e",
   "metadata": {},
   "outputs": [
    {
     "data": {
      "text/plain": [
       "[1, 2, 3, 4]"
      ]
     },
     "execution_count": 54,
     "metadata": {},
     "output_type": "execute_result"
    }
   ],
   "source": [
    "list1=[1,2,3,4]  # array of elements\n",
    "list1"
   ]
  },
  {
   "cell_type": "code",
   "execution_count": 55,
   "id": "df28c91f-a035-42da-9127-605385748ac0",
   "metadata": {},
   "outputs": [
    {
     "data": {
      "text/plain": [
       "list"
      ]
     },
     "execution_count": 55,
     "metadata": {},
     "output_type": "execute_result"
    }
   ],
   "source": [
    "type(list1)"
   ]
  },
  {
   "cell_type": "code",
   "execution_count": 56,
   "id": "5a98579b-0bd5-4df1-b19e-767309ac2f6a",
   "metadata": {},
   "outputs": [
    {
     "data": {
      "text/plain": [
       "['Apple', 'Ball', 'Cat']"
      ]
     },
     "execution_count": 56,
     "metadata": {},
     "output_type": "execute_result"
    }
   ],
   "source": [
    "list2=['Apple','Ball','Cat']\n",
    "list2"
   ]
  },
  {
   "cell_type": "code",
   "execution_count": 57,
   "id": "863fbe31-917d-4a04-b928-3f25a5944cd6",
   "metadata": {},
   "outputs": [
    {
     "data": {
      "text/plain": [
       "[1, 2, 3, 'Apple', 'Ball', 'Cat']"
      ]
     },
     "execution_count": 57,
     "metadata": {},
     "output_type": "execute_result"
    }
   ],
   "source": [
    "list3=[1,2,3,'Apple','Ball','Cat']\n",
    "list3"
   ]
  },
  {
   "cell_type": "code",
   "execution_count": 58,
   "id": "ab6e0833-12b2-4446-ae4c-fbb54c51292f",
   "metadata": {},
   "outputs": [
    {
     "data": {
      "text/plain": [
       "['Apple', 'Ball', [1, 2, 3]]"
      ]
     },
     "execution_count": 58,
     "metadata": {},
     "output_type": "execute_result"
    }
   ],
   "source": [
    "list6=['Apple','Ball',[1,2,3]]\n",
    "list6"
   ]
  },
  {
   "cell_type": "code",
   "execution_count": 60,
   "id": "d43b2bd9-b868-4a27-ba25-728b0227f48b",
   "metadata": {},
   "outputs": [],
   "source": [
    "list1=[1,2,3,4]\n",
    "list2=['Apple','Ball','Cat']\n",
    "list3=[1,2,3,'Apple','Ball','Cat']\n",
    "list4=[1,'Apple',10.5,True]\n",
    "list5=[100,100,100]\n",
    "list6=['Apple','Ball',[1,2,3]]"
   ]
  },
  {
   "cell_type": "code",
   "execution_count": 61,
   "id": "dc29ba33-ca0c-4893-992e-5962839f4803",
   "metadata": {},
   "outputs": [
    {
     "data": {
      "text/plain": [
       "4"
      ]
     },
     "execution_count": 61,
     "metadata": {},
     "output_type": "execute_result"
    }
   ],
   "source": [
    "len(list1)"
   ]
  },
  {
   "cell_type": "code",
   "execution_count": 62,
   "id": "e4e67fd7-925e-433a-8a9d-d2866656fe78",
   "metadata": {},
   "outputs": [
    {
     "data": {
      "text/plain": [
       "4"
      ]
     },
     "execution_count": 62,
     "metadata": {},
     "output_type": "execute_result"
    }
   ],
   "source": [
    "max(list1)"
   ]
  },
  {
   "cell_type": "code",
   "execution_count": 63,
   "id": "1f91d84b-8524-431f-8422-7a1ab5dcdeb4",
   "metadata": {},
   "outputs": [
    {
     "data": {
      "text/plain": [
       "1"
      ]
     },
     "execution_count": 63,
     "metadata": {},
     "output_type": "execute_result"
    }
   ],
   "source": [
    "min(list1)"
   ]
  },
  {
   "cell_type": "code",
   "execution_count": 65,
   "id": "0eca72b3-da60-4b78-9467-ba8accaf3915",
   "metadata": {},
   "outputs": [
    {
     "name": "stdout",
     "output_type": "stream",
     "text": [
      "4\n",
      "3\n",
      "2\n",
      "1\n"
     ]
    }
   ],
   "source": [
    "val=reversed(list1)\n",
    "for i in val:\n",
    "    print(i)"
   ]
  },
  {
   "cell_type": "code",
   "execution_count": 66,
   "id": "34c3f190-ed9b-4a74-8dfc-d07267d09ef2",
   "metadata": {},
   "outputs": [
    {
     "data": {
      "text/plain": [
       "[4, 3, 2, 1]"
      ]
     },
     "execution_count": 66,
     "metadata": {},
     "output_type": "execute_result"
    }
   ],
   "source": [
    "sorted(list1,reverse=True)"
   ]
  },
  {
   "cell_type": "code",
   "execution_count": 67,
   "id": "aca49fc4-344c-479a-8a18-23572ad0efd0",
   "metadata": {},
   "outputs": [
    {
     "data": {
      "text/plain": [
       "True"
      ]
     },
     "execution_count": 67,
     "metadata": {},
     "output_type": "execute_result"
    }
   ],
   "source": [
    "33 not in list1"
   ]
  },
  {
   "cell_type": "code",
   "execution_count": 68,
   "id": "8e146862-b617-4dc9-a763-18d36f30a30c",
   "metadata": {},
   "outputs": [
    {
     "data": {
      "text/plain": [
       "True"
      ]
     },
     "execution_count": 68,
     "metadata": {},
     "output_type": "execute_result"
    }
   ],
   "source": [
    "3 in list1"
   ]
  },
  {
   "cell_type": "code",
   "execution_count": 69,
   "id": "b8c2aeed-df42-4910-a855-118b632e5426",
   "metadata": {},
   "outputs": [
    {
     "data": {
      "text/plain": [
       "(10, 20, 30)"
      ]
     },
     "execution_count": 69,
     "metadata": {},
     "output_type": "execute_result"
    }
   ],
   "source": [
    "list1=[10,20,30,40,50,60]\n",
    "list1[0],list1[1],list1[2]"
   ]
  },
  {
   "cell_type": "code",
   "execution_count": 70,
   "id": "a944bc20-8da7-440c-8024-4b73fcd7a30e",
   "metadata": {},
   "outputs": [
    {
     "name": "stdout",
     "output_type": "stream",
     "text": [
      "1\n",
      "2\n",
      "3\n",
      "4\n"
     ]
    }
   ],
   "source": [
    "list1=[1,2,3,4]\n",
    "for i in range(len(list1)):\n",
    "    print(list1[i])"
   ]
  },
  {
   "cell_type": "code",
   "execution_count": 71,
   "id": "2a392acc-2e4b-49b6-a611-ba01e4c82479",
   "metadata": {},
   "outputs": [
    {
     "data": {
      "text/plain": [
       "10"
      ]
     },
     "execution_count": 71,
     "metadata": {},
     "output_type": "execute_result"
    }
   ],
   "source": [
    "list1=[1,2,3,[10]]\n",
    "list1[3][0]"
   ]
  },
  {
   "cell_type": "code",
   "execution_count": 72,
   "id": "267a8289-f3a8-4e50-aee5-2f3549bfe7ae",
   "metadata": {},
   "outputs": [
    {
     "data": {
      "text/plain": [
       "4"
      ]
     },
     "execution_count": 72,
     "metadata": {},
     "output_type": "execute_result"
    }
   ],
   "source": [
    "list1=[1,2,3,['A',['B']]]\n",
    "len(list1)"
   ]
  },
  {
   "cell_type": "code",
   "execution_count": 73,
   "id": "2c8148cf-9cff-49fa-b500-bccca8dcfc29",
   "metadata": {},
   "outputs": [
    {
     "data": {
      "text/plain": [
       "'Cherry'"
      ]
     },
     "execution_count": 73,
     "metadata": {},
     "output_type": "execute_result"
    }
   ],
   "source": [
    "list1=[1,2,3,['Apple',['Fruites',['Cherry']]]]\n",
    "len(list1[3])\n",
    "list1[3][1][1][0]"
   ]
  },
  {
   "cell_type": "code",
   "execution_count": 75,
   "id": "58d5af6f-9cce-43a2-bca9-23fef7e5d553",
   "metadata": {},
   "outputs": [
    {
     "data": {
      "text/plain": [
       "4"
      ]
     },
     "execution_count": 75,
     "metadata": {},
     "output_type": "execute_result"
    }
   ],
   "source": [
    "list1=[1,2,3,['Apple',['Fruites',['Cherry']]]]\n",
    "len(list1)"
   ]
  },
  {
   "cell_type": "code",
   "execution_count": 76,
   "id": "bacd1cfd-340c-4840-9f02-bf245b6c46b9",
   "metadata": {},
   "outputs": [
    {
     "data": {
      "text/plain": [
       "1"
      ]
     },
     "execution_count": 76,
     "metadata": {},
     "output_type": "execute_result"
    }
   ],
   "source": [
    "list1=[[[1,2,3,['Apple',['Fruites',['Mango',['Cherry']]]]]]]\n",
    "len(list1)"
   ]
  },
  {
   "cell_type": "code",
   "execution_count": 77,
   "id": "3d5afc10-4016-4631-a692-a5af24037ce7",
   "metadata": {},
   "outputs": [
    {
     "name": "stdout",
     "output_type": "stream",
     "text": [
      "5\n",
      "6\n"
     ]
    }
   ],
   "source": [
    "for i in '5x*x+6x+c':\n",
    "    if i.isdigit():\n",
    "        print(i)"
   ]
  },
  {
   "cell_type": "markdown",
   "id": "c27195e0-bd78-48f9-8d4f-041a88cd8fcb",
   "metadata": {},
   "source": [
    "**Mutable - Immutable**\n",
    "- Python mutable concept always based on index\r\n",
    "\r\n",
    "- list are mutable means we can change the values using index"
   ]
  },
  {
   "cell_type": "code",
   "execution_count": 78,
   "id": "e4abc381-0cae-4caf-b46d-cabb7a14b34a",
   "metadata": {},
   "outputs": [
    {
     "data": {
      "text/plain": [
       "[100, 2, 3, 4]"
      ]
     },
     "execution_count": 78,
     "metadata": {},
     "output_type": "execute_result"
    }
   ],
   "source": [
    "l=[1,2,3,4]\n",
    "l[0]=100\n",
    "l"
   ]
  },
  {
   "cell_type": "code",
   "execution_count": 79,
   "id": "d706cffc-0e0b-4e5d-9406-4edf3a6d0016",
   "metadata": {},
   "outputs": [
    {
     "data": {
      "text/plain": [
       "[1, 2, 3, 4, 10, 20, 30, 40]"
      ]
     },
     "execution_count": 79,
     "metadata": {},
     "output_type": "execute_result"
    }
   ],
   "source": [
    "l1=[1,2,3,4]\n",
    "l2=[10,20,30,40]\n",
    "l1+l2"
   ]
  },
  {
   "cell_type": "code",
   "execution_count": 80,
   "id": "759b205e-b0a9-43d9-8d0b-803b5264f25b",
   "metadata": {},
   "outputs": [
    {
     "data": {
      "text/plain": [
       "[1, 2, 3, 4, 1, 2, 3, 4]"
      ]
     },
     "execution_count": 80,
     "metadata": {},
     "output_type": "execute_result"
    }
   ],
   "source": [
    "l1*2"
   ]
  },
  {
   "cell_type": "code",
   "execution_count": 81,
   "id": "e353fe87-6832-4e10-990b-546101509323",
   "metadata": {},
   "outputs": [
    {
     "data": {
      "text/plain": [
       "['__add__',\n",
       " '__class__',\n",
       " '__class_getitem__',\n",
       " '__contains__',\n",
       " '__delattr__',\n",
       " '__delitem__',\n",
       " '__dir__',\n",
       " '__doc__',\n",
       " '__eq__',\n",
       " '__format__',\n",
       " '__ge__',\n",
       " '__getattribute__',\n",
       " '__getitem__',\n",
       " '__getstate__',\n",
       " '__gt__',\n",
       " '__hash__',\n",
       " '__iadd__',\n",
       " '__imul__',\n",
       " '__init__',\n",
       " '__init_subclass__',\n",
       " '__iter__',\n",
       " '__le__',\n",
       " '__len__',\n",
       " '__lt__',\n",
       " '__mul__',\n",
       " '__ne__',\n",
       " '__new__',\n",
       " '__reduce__',\n",
       " '__reduce_ex__',\n",
       " '__repr__',\n",
       " '__reversed__',\n",
       " '__rmul__',\n",
       " '__setattr__',\n",
       " '__setitem__',\n",
       " '__sizeof__',\n",
       " '__str__',\n",
       " '__subclasshook__',\n",
       " 'append',\n",
       " 'clear',\n",
       " 'copy',\n",
       " 'count',\n",
       " 'extend',\n",
       " 'index',\n",
       " 'insert',\n",
       " 'pop',\n",
       " 'remove',\n",
       " 'reverse',\n",
       " 'sort']"
      ]
     },
     "execution_count": 81,
     "metadata": {},
     "output_type": "execute_result"
    }
   ],
   "source": [
    "dir([])"
   ]
  },
  {
   "cell_type": "markdown",
   "id": "c2e7dc44-eecb-4c4e-988b-165fe81028af",
   "metadata": {},
   "source": [
    "**append**\n",
    "\n",
    "- append means adding a number at the end of the list\n",
    "\n",
    "- append is a very basic method we will use many times in our code\n",
    "\n",
    "- append will use mainly to store the result\n"
   ]
  },
  {
   "cell_type": "code",
   "execution_count": 83,
   "id": "321cf890-ecc0-40f0-89da-8c217ec9ec82",
   "metadata": {},
   "outputs": [
    {
     "ename": "TypeError",
     "evalue": "list indices must be integers or slices, not str",
     "output_type": "error",
     "traceback": [
      "\u001b[1;31m---------------------------------------------------------------------------\u001b[0m",
      "\u001b[1;31mTypeError\u001b[0m                                 Traceback (most recent call last)",
      "Cell \u001b[1;32mIn[83], line 2\u001b[0m\n\u001b[0;32m      1\u001b[0m number\u001b[38;5;241m=\u001b[39m[\u001b[38;5;124m'\u001b[39m\u001b[38;5;124mone\u001b[39m\u001b[38;5;124m'\u001b[39m,\u001b[38;5;124m'\u001b[39m\u001b[38;5;124mtwo\u001b[39m\u001b[38;5;124m'\u001b[39m,\u001b[38;5;124m'\u001b[39m\u001b[38;5;124mthree\u001b[39m\u001b[38;5;124m'\u001b[39m,\u001b[38;5;124m'\u001b[39m\u001b[38;5;124mfour\u001b[39m\u001b[38;5;124m'\u001b[39m,\u001b[38;5;124m'\u001b[39m\u001b[38;5;124mfive\u001b[39m\u001b[38;5;124m'\u001b[39m]\n\u001b[1;32m----> 2\u001b[0m \u001b[43mnumber\u001b[49m\u001b[43m[\u001b[49m\u001b[38;5;124;43m'\u001b[39;49m\u001b[38;5;124;43mfour\u001b[39;49m\u001b[38;5;124;43m'\u001b[39;49m\u001b[43m]\u001b[49m\n",
      "\u001b[1;31mTypeError\u001b[0m: list indices must be integers or slices, not str"
     ]
    }
   ],
   "source": [
    "number=['one','two','three','four','five']\n",
    "number['four']"
   ]
  },
  {
   "cell_type": "code",
   "execution_count": 84,
   "id": "5583f2f1-1f17-4691-bb28-f9f1dc562666",
   "metadata": {},
   "outputs": [
    {
     "data": {
      "text/plain": [
       "[1, 2, 3, 4, 100]"
      ]
     },
     "execution_count": 84,
     "metadata": {},
     "output_type": "execute_result"
    }
   ],
   "source": [
    "l=[1,2,3,4]\n",
    "l.append(100)\n",
    "l"
   ]
  },
  {
   "cell_type": "code",
   "execution_count": 85,
   "id": "8f686dcc-18a1-49a8-a03d-227af8b6b3b9",
   "metadata": {},
   "outputs": [
    {
     "data": {
      "text/plain": [
       "[1, 2, 3, 4, 100, 100]"
      ]
     },
     "execution_count": 85,
     "metadata": {},
     "output_type": "execute_result"
    }
   ],
   "source": [
    "l.append(100)\n",
    "l"
   ]
  },
  {
   "cell_type": "code",
   "execution_count": 86,
   "id": "6b28dba7-5bcf-4b84-89b3-9c243e32085f",
   "metadata": {},
   "outputs": [
    {
     "data": {
      "text/plain": [
       "[10, 'apple']"
      ]
     },
     "execution_count": 86,
     "metadata": {},
     "output_type": "execute_result"
    }
   ],
   "source": [
    "l=[]\n",
    "l.append(10)\n",
    "l.append('apple')\n",
    "l"
   ]
  },
  {
   "cell_type": "code",
   "execution_count": 87,
   "id": "c9bfed81-e7aa-456a-8b47-047e38eb482e",
   "metadata": {},
   "outputs": [],
   "source": [
    "l=[]\n",
    "for i in range(1,6):\n",
    "    l.append(i*i)"
   ]
  },
  {
   "cell_type": "code",
   "execution_count": 88,
   "id": "ba6bfb98-dd96-4afb-b5ba-4a4eb2e7b5da",
   "metadata": {},
   "outputs": [
    {
     "data": {
      "text/plain": [
       "[1, 4, 9, 16, 25]"
      ]
     },
     "execution_count": 88,
     "metadata": {},
     "output_type": "execute_result"
    }
   ],
   "source": [
    "l"
   ]
  },
  {
   "cell_type": "code",
   "execution_count": 90,
   "id": "97db4366-984e-4ff4-a022-15757cc3407c",
   "metadata": {},
   "outputs": [
    {
     "data": {
      "text/plain": [
       "['Hyd', 'Chennai']"
      ]
     },
     "execution_count": 90,
     "metadata": {},
     "output_type": "execute_result"
    }
   ],
   "source": [
    "# Q2) l=['Hyd','blr','Chennai','pune']\n",
    "# out=['Hyd','Chennai']\n",
    "\n",
    "# is title\n",
    "# Step-1: make one empty list\n",
    "# Step-2: Iterate each word from list\n",
    "# Step-3: apply is title method if condition\n",
    "# Step-3: if that condition is satisfy\n",
    "# Step-5: then append the result in empty list\n",
    "l=['Hyd','blr','Chennai','pune']\n",
    "out=[]\n",
    "for i in l:\n",
    "    if i.istitle():\n",
    "        out.append(i)\n",
    "out"
   ]
  },
  {
   "cell_type": "code",
   "execution_count": 92,
   "id": "4fb95533-b78e-43c1-825a-822f0f483970",
   "metadata": {},
   "outputs": [
    {
     "data": {
      "text/plain": [
       "['HYD', 'PUNE']"
      ]
     },
     "execution_count": 92,
     "metadata": {},
     "output_type": "execute_result"
    }
   ],
   "source": [
    "#Q3) l=['HYD','blr','Chennai','PUNE']\n",
    "# out=['HYD','PUNE']\n",
    "l=['HYD','blr','Chennai','PUNE']\n",
    "out=[]\n",
    "for i in l:\n",
    "    if i.isupper():\n",
    "        out.append(i)\n",
    "\n",
    "out"
   ]
  },
  {
   "cell_type": "code",
   "execution_count": 102,
   "id": "86dc4669-859a-4b73-a082-ef59646e6cdb",
   "metadata": {},
   "outputs": [
    {
     "name": "stdout",
     "output_type": "stream",
     "text": [
      "can 1\n",
      "can 1\n",
      "can 2\n",
      "can 2\n",
      "can 2\n",
      "can 3\n",
      "can 3\n",
      "can 3\n",
      "can 4\n",
      "can 4\n",
      "can 4\n",
      "can 4\n",
      "can 5\n",
      "canner 0\n",
      "canner 1\n",
      "canner 1\n",
      "canner 1\n",
      "canner 1\n",
      "canner 1\n",
      "canner 1\n",
      "canner 2\n",
      "canner 2\n",
      "canner 2\n",
      "canner 2\n",
      "canner 2\n",
      "canner 2\n",
      "can 1\n",
      "can 1\n",
      "can 2\n",
      "can 2\n",
      "can 2\n",
      "can 3\n",
      "can 3\n",
      "can 3\n",
      "can 4\n",
      "can 4\n",
      "can 4\n",
      "can 4\n",
      "can 5\n",
      "not 0\n",
      "not 0\n",
      "not 0\n",
      "not 1\n",
      "not 1\n",
      "not 1\n",
      "not 1\n",
      "not 1\n",
      "not 1\n",
      "not 1\n",
      "not 1\n",
      "not 1\n",
      "not 1\n",
      "a 0\n",
      "a 0\n",
      "a 0\n",
      "a 0\n",
      "a 1\n",
      "a 1\n",
      "a 1\n",
      "a 1\n",
      "a 1\n",
      "a 1\n",
      "a 1\n",
      "a 2\n",
      "a 2\n",
      "can 1\n",
      "can 1\n",
      "can 2\n",
      "can 2\n",
      "can 2\n",
      "can 3\n",
      "can 3\n",
      "can 3\n",
      "can 4\n",
      "can 4\n",
      "can 4\n",
      "can 4\n",
      "can 5\n",
      "but 0\n",
      "but 0\n",
      "but 0\n",
      "but 0\n",
      "but 0\n",
      "but 0\n",
      "but 1\n",
      "but 1\n",
      "but 1\n",
      "but 1\n",
      "but 1\n",
      "but 1\n",
      "but 1\n",
      "canner 0\n",
      "canner 1\n",
      "canner 1\n",
      "canner 1\n",
      "canner 1\n",
      "canner 1\n",
      "canner 1\n",
      "canner 2\n",
      "canner 2\n",
      "canner 2\n",
      "canner 2\n",
      "canner 2\n",
      "canner 2\n",
      "can 1\n",
      "can 1\n",
      "can 2\n",
      "can 2\n",
      "can 2\n",
      "can 3\n",
      "can 3\n",
      "can 3\n",
      "can 4\n",
      "can 4\n",
      "can 4\n",
      "can 4\n",
      "can 5\n",
      "you 0\n",
      "you 0\n",
      "you 0\n",
      "you 0\n",
      "you 0\n",
      "you 0\n",
      "you 0\n",
      "you 0\n",
      "you 0\n",
      "you 1\n",
      "you 1\n",
      "you 1\n",
      "you 1\n",
      "make 0\n",
      "make 0\n",
      "make 0\n",
      "make 0\n",
      "make 0\n",
      "make 0\n",
      "make 0\n",
      "make 0\n",
      "make 0\n",
      "make 0\n",
      "make 1\n",
      "make 1\n",
      "make 1\n",
      "a 0\n",
      "a 0\n",
      "a 0\n",
      "a 0\n",
      "a 1\n",
      "a 1\n",
      "a 1\n",
      "a 1\n",
      "a 1\n",
      "a 1\n",
      "a 1\n",
      "a 2\n",
      "a 2\n",
      "can 1\n",
      "can 1\n",
      "can 2\n",
      "can 2\n",
      "can 2\n",
      "can 3\n",
      "can 3\n",
      "can 3\n",
      "can 4\n",
      "can 4\n",
      "can 4\n",
      "can 4\n",
      "can 5\n"
     ]
    }
   ],
   "source": [
    "s='can canner can not a can but canner can you make a can'\n",
    "s1=s.split()\n",
    "for i in s1:\n",
    "    count=0\n",
    "    for j in s1:\n",
    "        if i==j:\n",
    "            count=count+1\n",
    "        print(i,count)\n",
    "    "
   ]
  },
  {
   "cell_type": "code",
   "execution_count": 103,
   "id": "be2bd376-7dbc-45fd-a7a4-1e0bf74932bb",
   "metadata": {},
   "outputs": [
    {
     "name": "stdout",
     "output_type": "stream",
     "text": [
      "1 1\n",
      "1 2\n",
      "1 3\n",
      "2 1\n",
      "2 2\n",
      "2 3\n",
      "3 1\n",
      "3 2\n",
      "3 3\n"
     ]
    }
   ],
   "source": [
    "l=[1,2,3]\n",
    "for i in l:\n",
    "    for j in l:\n",
    "        print(i,j)"
   ]
  },
  {
   "cell_type": "code",
   "execution_count": 104,
   "id": "afd2f2ae-75d0-49d1-a74d-47e473b673b9",
   "metadata": {},
   "outputs": [
    {
     "data": {
      "text/plain": [
       "['hello', 'hello', 'hello', 'hello', 'hello']"
      ]
     },
     "execution_count": 104,
     "metadata": {},
     "output_type": "execute_result"
    }
   ],
   "source": [
    "# WAP ask the user say 5 times hello\n",
    "# save hello in a list \n",
    "# use list comprehension\n",
    "['hello' for i in range(5)]"
   ]
  },
  {
   "cell_type": "code",
   "execution_count": 112,
   "id": "20cd9bc4-20c8-42c4-9952-59b158d8d6aa",
   "metadata": {},
   "outputs": [
    {
     "data": {
      "text/plain": [
       "[11, 22, 33, 44]"
      ]
     },
     "execution_count": 112,
     "metadata": {},
     "output_type": "execute_result"
    }
   ],
   "source": [
    "l1=[1,2,3,4]\n",
    "l2=[10,20,30,40]\n",
    "out=[]\n",
    "for i in range(len(l1)):\n",
    "      out.append(l1[i]+l2[i])\n",
    "out"
   ]
  },
  {
   "cell_type": "markdown",
   "id": "e7134523-60b4-47d7-ba2a-48ae1302f759",
   "metadata": {},
   "source": [
    "**List comprehensions**\n",
    "- list comprehension will not use append\r\n",
    "\r\n",
    "- inside empty list only we are writing the co\n",
    "- list comprehension will not use append\r\n",
    "\r\n",
    "- inside empty list only we are writing the codede"
   ]
  },
  {
   "cell_type": "code",
   "execution_count": 114,
   "id": "2d7f8270-9595-4cf1-a785-906a7b602476",
   "metadata": {},
   "outputs": [
    {
     "data": {
      "text/plain": [
       "[1, 4, 9, 16, 25]"
      ]
     },
     "execution_count": 114,
     "metadata": {},
     "output_type": "execute_result"
    }
   ],
   "source": [
    "# q1) wap ask the user print 1,5 numbers square\n",
    "#    save the result in a list\n",
    "l=[]\n",
    "for i in range(1,6):\n",
    "    l.append(i*i)\n",
    "l"
   ]
  },
  {
   "cell_type": "code",
   "execution_count": 115,
   "id": "5834a5d6-2cb3-4a89-aea3-e2e266fd2aeb",
   "metadata": {},
   "outputs": [
    {
     "data": {
      "text/plain": [
       "['hello', 'hello', 'hello', 'hello', 'hello']"
      ]
     },
     "execution_count": 115,
     "metadata": {},
     "output_type": "execute_result"
    }
   ],
   "source": [
    "#pattern-1\n",
    "# WAP ask the user say 5 times hello\n",
    "# save hello in a list \n",
    "# use list comprehension\n",
    "['hello' for i in range(5)]"
   ]
  },
  {
   "cell_type": "code",
   "execution_count": 117,
   "id": "f2819c82-d075-4854-b223-66a76d658a49",
   "metadata": {},
   "outputs": [
    {
     "data": {
      "text/plain": [
       "['Hyd', 'Chennai']"
      ]
     },
     "execution_count": 117,
     "metadata": {},
     "output_type": "execute_result"
    }
   ],
   "source": [
    "l=['Hyd','blr','Chennai','pune']\n",
    "out=[i for i in l if i.istitle()]\n",
    "out"
   ]
  },
  {
   "cell_type": "code",
   "execution_count": 119,
   "id": "03950fdf-6019-4bcc-905e-888b8008ca59",
   "metadata": {},
   "outputs": [
    {
     "data": {
      "text/plain": [
       "['HYD', 'PUNE']"
      ]
     },
     "execution_count": 119,
     "metadata": {},
     "output_type": "execute_result"
    }
   ],
   "source": [
    "#pattern-2\n",
    "# Q3) l=['HYD','blr','Chennai','PUNE']\n",
    "# out=['HYD','PUNE']\n",
    "l=['HYD','blr','Chennai','PUNE']\n",
    "out=[i for i in l if i.isupper()]\n",
    "out"
   ]
  },
  {
   "cell_type": "markdown",
   "id": "37c179aa-a8d8-4d23-a059-c2b8d437205f",
   "metadata": {},
   "source": [
    "$pattern-3$\n",
    "\n",
    "**for-if-else**"
   ]
  },
  {
   "cell_type": "code",
   "execution_count": 120,
   "id": "f307b095-76c3-444f-bd9b-aee319b04399",
   "metadata": {},
   "outputs": [
    {
     "data": {
      "text/plain": [
       "['odd 1',\n",
       " 'even 2',\n",
       " 'odd 3',\n",
       " 'even 4',\n",
       " 'odd 5',\n",
       " 'even 6',\n",
       " 'odd 7',\n",
       " 'even 8',\n",
       " 'odd 9',\n",
       " 'even 10']"
      ]
     },
     "execution_count": 120,
     "metadata": {},
     "output_type": "execute_result"
    }
   ],
   "source": [
    "# **for-if-else**\n",
    "# [<output> <for loop> ]\n",
    "# [<output> <for loop>  <if condition>]\n",
    "# [<if_output> <if condition> <else> <else_output> <forloop>]\n",
    "\n",
    "# out=[]\n",
    "# for i in range(1,11):\n",
    "#     if i%2==0:\n",
    "#         out.append(f\"even {i}\")\n",
    "#     else:\n",
    "#         out.append(f\"odd {i}\")\n",
    "# out\n",
    "\n",
    "[f\"even {i}\" if i%2==0 else f\"odd {i}\" for i in range(1,11)]"
   ]
  },
  {
   "cell_type": "code",
   "execution_count": 121,
   "id": "a4856b3d-20a8-46a8-8c23-c6490907b012",
   "metadata": {},
   "outputs": [
    {
     "data": {
      "text/plain": [
       "3"
      ]
     },
     "execution_count": 121,
     "metadata": {},
     "output_type": "execute_result"
    }
   ],
   "source": [
    "l=[10,10,10,100,200,300]\n",
    "l.count(10)"
   ]
  },
  {
   "cell_type": "markdown",
   "id": "a7a0278e-77ef-40d0-a34a-5720da28f286",
   "metadata": {},
   "source": [
    "**unique vowels wrapper**"
   ]
  },
  {
   "cell_type": "code",
   "execution_count": 122,
   "id": "637318d5-8c4a-46ec-ac28-436a7d01231b",
   "metadata": {},
   "outputs": [
    {
     "name": "stdout",
     "output_type": "stream",
     "text": [
      "can 5\n",
      "canner 2\n",
      "not 1\n",
      "a 2\n",
      "but 1\n",
      "you 1\n",
      "make 1\n"
     ]
    }
   ],
   "source": [
    "s='can canner can not a can but canner can you make a can'\n",
    "l=s.split() # ['can','canner']\n",
    "l1=[]\n",
    "for i in l:\n",
    "    if i not in l1:\n",
    "        print(i,l.count(i))\n",
    "        l1.append(i)"
   ]
  },
  {
   "cell_type": "markdown",
   "id": "52e8bb87-98e4-4afb-9238-460609197cc3",
   "metadata": {},
   "source": [
    "**Extend**\n",
    "**difference between extend and concatenation**\r\n",
    "\r\n",
    "- extend will overwrite the output\r\n",
    "\r\n",
    "- concatenation will  same as it is"
   ]
  },
  {
   "cell_type": "code",
   "execution_count": 124,
   "id": "198e2e54-6592-4c00-94a0-58dee6f7ab5f",
   "metadata": {},
   "outputs": [
    {
     "data": {
      "text/plain": [
       "[1, 2, 3, 'a', 'b', 'c']"
      ]
     },
     "execution_count": 124,
     "metadata": {},
     "output_type": "execute_result"
    }
   ],
   "source": [
    "l1=[1,2,3]\n",
    "l2=['a','b','c']\n",
    "l1.extend(l2)\n",
    "l1"
   ]
  },
  {
   "cell_type": "code",
   "execution_count": 125,
   "id": "cc9dc54a-8456-42c5-ac91-d5c5d0f75300",
   "metadata": {},
   "outputs": [
    {
     "data": {
      "text/plain": [
       "[1, 2, 3, 'a', 'b', 'c', ['a', 'b', 'c'], 'a', 'b', 'c']"
      ]
     },
     "execution_count": 125,
     "metadata": {},
     "output_type": "execute_result"
    }
   ],
   "source": [
    "l1=[1,2,3]\n",
    "l2=['a','b','c']\n",
    "l1.extend(l2) # [1,2,3,a,b,c]\n",
    "l1.append(l2) # [1,2,3,[a,b,c]]\n",
    "l1+l2         # [1,2,3,a,b,c]"
   ]
  },
  {
   "cell_type": "code",
   "execution_count": 126,
   "id": "01810f53-cffe-4d55-befa-36a89b8adfe0",
   "metadata": {},
   "outputs": [
    {
     "data": {
      "text/plain": [
       "[1, 2, 3, 100, 4]"
      ]
     },
     "execution_count": 126,
     "metadata": {},
     "output_type": "execute_result"
    }
   ],
   "source": [
    "l=[1,2,3,4]\n",
    "l.insert(3,100)\n",
    "l\n",
    "\n",
    "# at second index i want insert 100"
   ]
  },
  {
   "cell_type": "code",
   "execution_count": 128,
   "id": "9ec1476e-3f3c-40d6-a1f0-6da022e73510",
   "metadata": {},
   "outputs": [],
   "source": [
    "#concatenation\n",
    "# extend\n",
    "# append\n",
    "# insert"
   ]
  },
  {
   "cell_type": "code",
   "execution_count": 129,
   "id": "3f7f0865-9997-4ce8-8772-d1fcd99cd835",
   "metadata": {},
   "outputs": [],
   "source": [
    "l=[i for i in range(1,20,3)]\n",
    "l.insert(4,'apple')"
   ]
  },
  {
   "cell_type": "markdown",
   "id": "e559fba1-781a-4b04-9a46-9a8eace4e27a",
   "metadata": {},
   "source": [
    "**pop-remove**\n",
    "- pop will remove the last value\n",
    "\n",
    "- inside pop we have index argument\n",
    "\n",
    "- by default index=-1  , -1 means last value\n",
    "\n",
    "- pop will remove the value , the output will overwrite\n",
    "\n",
    "- pop also return the item value, which it is removing\n",
    "- remove will take the direct item name\r\n",
    "\r\n",
    "- pop will take only the index\r\n",
    "\r\n",
    "- both raise the error"
   ]
  },
  {
   "cell_type": "code",
   "execution_count": 131,
   "id": "66767d86-bdee-44d4-9ad6-c038fc4b2cfa",
   "metadata": {},
   "outputs": [
    {
     "name": "stdout",
     "output_type": "stream",
     "text": [
      "2\n"
     ]
    },
    {
     "data": {
      "text/plain": [
       "[1, 2, 4]"
      ]
     },
     "execution_count": 131,
     "metadata": {},
     "output_type": "execute_result"
    }
   ],
   "source": [
    "l=[1,2,30,4]\n",
    "id=l.index(30)\n",
    "print(id)\n",
    "l.pop(2)\n",
    "l"
   ]
  },
  {
   "cell_type": "code",
   "execution_count": 132,
   "id": "d8485b9d-1dc2-4b52-8aea-c383e49230b4",
   "metadata": {},
   "outputs": [
    {
     "data": {
      "text/plain": [
       "['ball', 'cat', 10, 20, 'Dog', 'apple']"
      ]
     },
     "execution_count": 132,
     "metadata": {},
     "output_type": "execute_result"
    }
   ],
   "source": [
    "l=['apple','ball','cat',10,20,'Dog','apple']\n",
    "l.remove('apple')\n",
    "l"
   ]
  },
  {
   "cell_type": "markdown",
   "id": "79a91372-6164-4521-803d-382d998eaa45",
   "metadata": {},
   "source": [
    "- append\n",
    "\n",
    "- extend\n",
    "\n",
    "- insert\n",
    "\n",
    "- clear /copy\n",
    "\n",
    "- pop/remove\n",
    "\n",
    "- sort/reverse\n",
    "\n",
    "- index\n",
    "\n",
    "- count"
   ]
  },
  {
   "cell_type": "code",
   "execution_count": 134,
   "id": "b283c665-e1af-462a-8d10-89669b5ec0f3",
   "metadata": {},
   "outputs": [
    {
     "data": {
      "text/plain": [
       "[2, 3, 4, 10]"
      ]
     },
     "execution_count": 134,
     "metadata": {},
     "output_type": "execute_result"
    }
   ],
   "source": [
    "sorted([10,2,3,4])"
   ]
  },
  {
   "cell_type": "code",
   "execution_count": 135,
   "id": "1756a122-3031-42df-a49e-761b4b81c7dc",
   "metadata": {},
   "outputs": [],
   "source": [
    "[10,2,3,4].sort()"
   ]
  },
  {
   "cell_type": "code",
   "execution_count": 136,
   "id": "d54c0178-2b74-4a8d-9cd6-b42c4c1eee2a",
   "metadata": {},
   "outputs": [],
   "source": [
    "l=[1,2,3,4]\n",
    "del(l[0])"
   ]
  },
  {
   "cell_type": "markdown",
   "id": "eb6342fc-f8d8-47e3-980f-4ec55c06d78d",
   "metadata": {},
   "source": [
    "**zip**"
   ]
  },
  {
   "cell_type": "code",
   "execution_count": 138,
   "id": "630ecbf5-86f9-45fa-9672-c0edac2d2342",
   "metadata": {},
   "outputs": [
    {
     "data": {
      "text/plain": [
       "[11, 14, 16]"
      ]
     },
     "execution_count": 138,
     "metadata": {},
     "output_type": "execute_result"
    }
   ],
   "source": [
    "l1=[1,2,3]\n",
    "l2=[10,12,13]\n",
    "# apply the zip\n",
    "# zip is a iterator\n",
    "# get the for loop\n",
    "# two values we zipped\n",
    "# we need two varaibles\n",
    "# for i,j in zip(l1,l2):\n",
    "#     print(i+j)\n",
    "\n",
    "out=[i+j for i,j in zip(l1,l2)]\n",
    "out"
   ]
  },
  {
   "cell_type": "markdown",
   "id": "7218b72d-69d2-4b41-81d2-538520641de0",
   "metadata": {},
   "source": [
    "# Dictionary\n",
    "\n",
    "- Dictionary is represents with curly braces\n",
    "\n",
    "- strings using quotes\n",
    "\n",
    "- list using square brackets\n",
    "\n",
    "- type using parnathses\n",
    "\n",
    "- Dictionary is alway a pair key and value\n",
    "- **keys are important**\r\n",
    "\r\n",
    "- Keys have only latest value\r\n",
    "\r\n",
    "- No duplicate keys\r\n",
    "\r\n",
    "- Keys should be only one \r\n",
    "\r\n",
    "- Values can be duplicate \r\n",
    "\r\n",
    "- which means different keys can have same value\r\n",
    "\r\n",
    "- List can not be a key\r\n",
    "\r\n",
    "- tupl\n",
    "\n",
    "- min\n",
    "\n",
    "- max\n",
    "\n",
    "- len\n",
    "\n",
    "- sorted\n",
    "\n",
    "- reveresd\n",
    "- **Keys are important**\r\n",
    "\r\n",
    "- Dictionary is a **key-value** pair\r\n",
    "\r\n",
    "- There is no concept of index as numbers\r\n",
    "\r\n",
    "- If you want to retrive any value , we need to provide key as index\r\n",
    "\r\n",
    "- we can access values using only corresponding **keys**e can be a key"
   ]
  },
  {
   "cell_type": "code",
   "execution_count": 152,
   "id": "da813bbd-edcf-4927-ad7a-8cd1f1d989b2",
   "metadata": {},
   "outputs": [
    {
     "name": "stdout",
     "output_type": "stream",
     "text": [
      "the Manish age is 25\n",
      "the Shubam age is 20\n",
      "the Govindh age is 15\n"
     ]
    }
   ],
   "source": [
    "name=['Manish','Shubam','Govindh']\n",
    "age=[25,20,15]\n",
    "for i,j in zip(name,age):\n",
    "    print(f\"the {i} age is {j}\")"
   ]
  },
  {
   "cell_type": "code",
   "execution_count": 141,
   "id": "0265d83b-b600-4448-ae88-f7034c2cc4c4",
   "metadata": {},
   "outputs": [
    {
     "data": {
      "text/plain": [
       "{'Manish': 25, 'Shubam': 20, 'Govindh': 15}"
      ]
     },
     "execution_count": 141,
     "metadata": {},
     "output_type": "execute_result"
    }
   ],
   "source": [
    "dict1={'Manish':25,'Shubam':20,'Govindh':15}\n",
    "dict1"
   ]
  },
  {
   "cell_type": "code",
   "execution_count": 142,
   "id": "974173c1-054e-4b8d-993c-096487d2a68d",
   "metadata": {},
   "outputs": [
    {
     "data": {
      "text/plain": [
       "dict"
      ]
     },
     "execution_count": 142,
     "metadata": {},
     "output_type": "execute_result"
    }
   ],
   "source": [
    "type(dict1)"
   ]
  },
  {
   "cell_type": "code",
   "execution_count": 143,
   "id": "e7774d92-1e6f-497a-81cb-8b38d77729fb",
   "metadata": {},
   "outputs": [
    {
     "ename": "TypeError",
     "evalue": "unhashable type: 'list'",
     "output_type": "error",
     "traceback": [
      "\u001b[1;31m---------------------------------------------------------------------------\u001b[0m",
      "\u001b[1;31mTypeError\u001b[0m                                 Traceback (most recent call last)",
      "Cell \u001b[1;32mIn[143], line 6\u001b[0m\n\u001b[0;32m      4\u001b[0m d4\u001b[38;5;241m=\u001b[39m{\u001b[38;5;241m25\u001b[39m:\u001b[38;5;241m50\u001b[39m} \n\u001b[0;32m      5\u001b[0m d5\u001b[38;5;241m=\u001b[39m{\u001b[38;5;124m'\u001b[39m\u001b[38;5;124mFruites\u001b[39m\u001b[38;5;124m'\u001b[39m:[\u001b[38;5;124m'\u001b[39m\u001b[38;5;124mApple\u001b[39m\u001b[38;5;124m'\u001b[39m,\u001b[38;5;124m'\u001b[39m\u001b[38;5;124mCherry\u001b[39m\u001b[38;5;124m'\u001b[39m]} \n\u001b[1;32m----> 6\u001b[0m d6\u001b[38;5;241m=\u001b[39m{[\u001b[38;5;124m'\u001b[39m\u001b[38;5;124mApple\u001b[39m\u001b[38;5;124m'\u001b[39m,\u001b[38;5;124m'\u001b[39m\u001b[38;5;124mCherry\u001b[39m\u001b[38;5;124m'\u001b[39m]:\u001b[38;5;124m'\u001b[39m\u001b[38;5;124mFruites\u001b[39m\u001b[38;5;124m'\u001b[39m} \n\u001b[0;32m      7\u001b[0m d7\u001b[38;5;241m=\u001b[39m{\u001b[38;5;124m'\u001b[39m\u001b[38;5;124mAjay\u001b[39m\u001b[38;5;124m'\u001b[39m:\u001b[38;5;241m25\u001b[39m,\u001b[38;5;124m'\u001b[39m\u001b[38;5;124mAjay\u001b[39m\u001b[38;5;124m'\u001b[39m:\u001b[38;5;241m30\u001b[39m}\n\u001b[0;32m      8\u001b[0m d8\u001b[38;5;241m=\u001b[39m{\u001b[38;5;241m25\u001b[39m:\u001b[38;5;124m'\u001b[39m\u001b[38;5;124mAjay\u001b[39m\u001b[38;5;124m'\u001b[39m,\u001b[38;5;241m30\u001b[39m:\u001b[38;5;124m'\u001b[39m\u001b[38;5;124mAjay\u001b[39m\u001b[38;5;124m'\u001b[39m} \n",
      "\u001b[1;31mTypeError\u001b[0m: unhashable type: 'list'"
     ]
    }
   ],
   "source": [
    "d1={'Manish':25,'Shubam':20,'Govindh':15}\n",
    "d2={'Manish':'25','Shubam':'20','Govindh':'15'} \n",
    "d3={25:'Manish',20:'Shubam',15:'Govindh'} \n",
    "d4={25:50} \n",
    "d5={'Fruites':['Apple','Cherry']} \n",
    "d6={['Apple','Cherry']:'Fruites'} \n",
    "d7={'Ajay':25,'Ajay':30}\n",
    "d8={25:'Ajay',30:'Ajay'} "
   ]
  },
  {
   "cell_type": "code",
   "execution_count": 144,
   "id": "4cb72746-c7ad-4dfb-a2df-70c88d31e93f",
   "metadata": {},
   "outputs": [
    {
     "data": {
      "text/plain": [
       "{'Manish': 25, 'Shubam': 20, 'Govindh': 15}"
      ]
     },
     "execution_count": 144,
     "metadata": {},
     "output_type": "execute_result"
    }
   ],
   "source": [
    "d1={'Manish':25,'Shubam':20,'Govindh':15}\n",
    "d1"
   ]
  },
  {
   "cell_type": "code",
   "execution_count": 145,
   "id": "645d6ce6-18ef-4f1f-93fc-a9cb3f08cdb4",
   "metadata": {},
   "outputs": [
    {
     "data": {
      "text/plain": [
       "{'Manish': '25', 'Shubam': '20', 'Govindh': '15'}"
      ]
     },
     "execution_count": 145,
     "metadata": {},
     "output_type": "execute_result"
    }
   ],
   "source": [
    "d2={'Manish':'25','Shubam':'20','Govindh':'15'}\n",
    "d2"
   ]
  },
  {
   "cell_type": "code",
   "execution_count": 146,
   "id": "c0953f1e-cc87-441d-a3c8-0e6f89d0886d",
   "metadata": {},
   "outputs": [
    {
     "data": {
      "text/plain": [
       "{25: 'Manish', 20: 'Shubam', 15: 'Govindh'}"
      ]
     },
     "execution_count": 146,
     "metadata": {},
     "output_type": "execute_result"
    }
   ],
   "source": [
    "d3={25:'Manish',20:'Shubam',15:'Govindh'}\n",
    "d3"
   ]
  },
  {
   "cell_type": "code",
   "execution_count": 147,
   "id": "a0bbe068-9bb9-417d-9640-b28ef005b411",
   "metadata": {},
   "outputs": [
    {
     "data": {
      "text/plain": [
       "{25: 50}"
      ]
     },
     "execution_count": 147,
     "metadata": {},
     "output_type": "execute_result"
    }
   ],
   "source": [
    "d4={25:50} \n",
    "d4"
   ]
  },
  {
   "cell_type": "code",
   "execution_count": 148,
   "id": "898a2213-af0d-48d8-b851-e4b8ab203c49",
   "metadata": {},
   "outputs": [
    {
     "data": {
      "text/plain": [
       "{'Fruites': ['Apple', 'Cherry']}"
      ]
     },
     "execution_count": 148,
     "metadata": {},
     "output_type": "execute_result"
    }
   ],
   "source": [
    "d5={'Fruites':['Apple','Cherry']} \n",
    "d5"
   ]
  },
  {
   "cell_type": "code",
   "execution_count": 149,
   "id": "866ccdf6-8db2-4922-bbff-cf1e91ab64b4",
   "metadata": {},
   "outputs": [
    {
     "ename": "TypeError",
     "evalue": "unhashable type: 'list'",
     "output_type": "error",
     "traceback": [
      "\u001b[1;31m---------------------------------------------------------------------------\u001b[0m",
      "\u001b[1;31mTypeError\u001b[0m                                 Traceback (most recent call last)",
      "Cell \u001b[1;32mIn[149], line 1\u001b[0m\n\u001b[1;32m----> 1\u001b[0m d6\u001b[38;5;241m=\u001b[39m{[\u001b[38;5;124m'\u001b[39m\u001b[38;5;124mApple\u001b[39m\u001b[38;5;124m'\u001b[39m,\u001b[38;5;124m'\u001b[39m\u001b[38;5;124mCherry\u001b[39m\u001b[38;5;124m'\u001b[39m]:\u001b[38;5;124m'\u001b[39m\u001b[38;5;124mFruites\u001b[39m\u001b[38;5;124m'\u001b[39m}\n\u001b[0;32m      2\u001b[0m d6\n",
      "\u001b[1;31mTypeError\u001b[0m: unhashable type: 'list'"
     ]
    }
   ],
   "source": [
    "d6={['Apple','Cherry']:'Fruites'}\n",
    "d6"
   ]
  },
  {
   "cell_type": "code",
   "execution_count": 150,
   "id": "5525deb3-ed46-44f2-b204-b7d0902af4f7",
   "metadata": {},
   "outputs": [
    {
     "data": {
      "text/plain": [
       "{('Apple', 'Cherry'): 'Fruites'}"
      ]
     },
     "execution_count": 150,
     "metadata": {},
     "output_type": "execute_result"
    }
   ],
   "source": [
    "d7={('Apple','Cherry'):'Fruites'}\n",
    "d7"
   ]
  },
  {
   "cell_type": "code",
   "execution_count": 151,
   "id": "ec231a79-d469-4305-a2b7-ecf541bac011",
   "metadata": {},
   "outputs": [
    {
     "data": {
      "text/plain": [
       "{25: 'Ajay', 30: {'Fruites': ['Apple']}}"
      ]
     },
     "execution_count": 151,
     "metadata": {},
     "output_type": "execute_result"
    }
   ],
   "source": [
    "d9={25:'Ajay',30:\n",
    "    {'Fruites':['Apple']}\n",
    "   } \n",
    "d9"
   ]
  },
  {
   "cell_type": "code",
   "execution_count": 154,
   "id": "2c8e647a-5a77-4f72-af74-3b3e8f75f724",
   "metadata": {},
   "outputs": [
    {
     "data": {
      "text/plain": [
       "25"
      ]
     },
     "execution_count": 154,
     "metadata": {},
     "output_type": "execute_result"
    }
   ],
   "source": [
    "d1={'Manish':25,'Shubam':20,'Govindh':15}\n",
    "d1['Manish']"
   ]
  },
  {
   "cell_type": "code",
   "execution_count": 155,
   "id": "3ebeacf9-604d-4f0c-93ef-531a13b9b9fb",
   "metadata": {},
   "outputs": [
    {
     "name": "stdout",
     "output_type": "stream",
     "text": [
      "25\n",
      "20\n",
      "15\n",
      "15\n"
     ]
    }
   ],
   "source": [
    "d1={'Manish':25,'Shubam':20,'Govindh':15}\n",
    "print(d1['Manish'])\n",
    "print(d1['Shubam'])\n",
    "print(d1['Govindh'])\n",
    "\n",
    "print(d1[i])"
   ]
  },
  {
   "cell_type": "code",
   "execution_count": 156,
   "id": "1bd2e95d-50a5-45e2-b822-7481f2cabf30",
   "metadata": {},
   "outputs": [
    {
     "name": "stdout",
     "output_type": "stream",
     "text": [
      "Manish 25\n",
      "Shubam 20\n",
      "Govindh 15\n"
     ]
    }
   ],
   "source": [
    "for i in d1:\n",
    "    print(i,d1[i])"
   ]
  },
  {
   "cell_type": "code",
   "execution_count": 157,
   "id": "49ef5c9c-60d4-4d87-816c-f59f05dd874c",
   "metadata": {},
   "outputs": [
    {
     "data": {
      "text/plain": [
       "'Apple'"
      ]
     },
     "execution_count": 157,
     "metadata": {},
     "output_type": "execute_result"
    }
   ],
   "source": [
    "d1={'Fruites':['Apple']}\n",
    "d1['Fruites'][0]"
   ]
  },
  {
   "cell_type": "code",
   "execution_count": 158,
   "id": "5355a92e-c6bb-404e-9cec-cb5060b9ffd0",
   "metadata": {},
   "outputs": [
    {
     "data": {
      "text/plain": [
       "1"
      ]
     },
     "execution_count": 158,
     "metadata": {},
     "output_type": "execute_result"
    }
   ],
   "source": [
    "len(d1)"
   ]
  },
  {
   "cell_type": "code",
   "execution_count": 159,
   "id": "c4e073aa-e13c-4d37-a2f2-222322ed7d94",
   "metadata": {},
   "outputs": [
    {
     "data": {
      "text/plain": [
       "{'Fruites': {'Apple': ['Kashmir']}}"
      ]
     },
     "execution_count": 159,
     "metadata": {},
     "output_type": "execute_result"
    }
   ],
   "source": [
    "d1={'Fruites':{\"Apple\":['Kashmir']}}\n",
    "d1"
   ]
  },
  {
   "cell_type": "code",
   "execution_count": 160,
   "id": "181dfc09-bca1-4449-9e48-3dca507ff911",
   "metadata": {},
   "outputs": [
    {
     "data": {
      "text/plain": [
       "'Kashmir'"
      ]
     },
     "execution_count": 160,
     "metadata": {},
     "output_type": "execute_result"
    }
   ],
   "source": [
    "d1['Fruites']['Apple'][0]"
   ]
  },
  {
   "cell_type": "code",
   "execution_count": 162,
   "id": "47df82de-615a-4fbc-ad0e-7c957a18fb2e",
   "metadata": {},
   "outputs": [
    {
     "data": {
      "text/plain": [
       "{'Ramesh': 50, 'Suresh': 100, 'Sathish': 150, 'Manish': 200}"
      ]
     },
     "execution_count": 162,
     "metadata": {},
     "output_type": "execute_result"
    }
   ],
   "source": [
    "#empty dict\n",
    "d={}\n",
    "d['Ramesh']=50\n",
    "d['Suresh']=100\n",
    "d['Sathish']=150\n",
    "d['Manish']=200\n",
    "d"
   ]
  },
  {
   "cell_type": "markdown",
   "id": "a4d4ee55-eaf2-47b8-b53d-5b68c24f9058",
   "metadata": {},
   "source": [
    "**How to create empty dictionary**\r\n",
    "\r\n",
    "- it is very important to know how to make empty list\r\n",
    "\r\n",
    "- how to make empty string\r\n",
    "\r\n",
    "- how to make empty dictionary"
   ]
  },
  {
   "cell_type": "code",
   "execution_count": 163,
   "id": "5aec6277-4b24-4f90-be87-6ad6ea214ad3",
   "metadata": {},
   "outputs": [
    {
     "data": {
      "text/plain": [
       "'python'"
      ]
     },
     "execution_count": 163,
     "metadata": {},
     "output_type": "execute_result"
    }
   ],
   "source": [
    "str1='python'\n",
    "str2=''\n",
    "for i in str1:\n",
    "    str2=str2+i      # str2+=i\n",
    "str2"
   ]
  },
  {
   "cell_type": "code",
   "execution_count": 164,
   "id": "138a04f1-dd88-41b1-9685-d4b33ef521e9",
   "metadata": {},
   "outputs": [
    {
     "data": {
      "text/plain": [
       "[1, 2, 3, 4]"
      ]
     },
     "execution_count": 164,
     "metadata": {},
     "output_type": "execute_result"
    }
   ],
   "source": [
    "l1=[1,2,3,4]\n",
    "l2=[]\n",
    "for i in l1:\n",
    "    l2.append(i)\n",
    "\n",
    "l2"
   ]
  },
  {
   "cell_type": "code",
   "execution_count": 165,
   "id": "543afdbf-4a68-40a7-be55-c0dafa170f79",
   "metadata": {},
   "outputs": [
    {
     "data": {
      "text/plain": [
       "{'Ramesh': 50, 'Suresh': 100, 'Sathish': 150, 'Manish': 200}"
      ]
     },
     "execution_count": 165,
     "metadata": {},
     "output_type": "execute_result"
    }
   ],
   "source": [
    "d={}\n",
    "d['Ramesh']=50\n",
    "d['Suresh']=100\n",
    "d['Sathish']=150\n",
    "d['Manish']=200\n",
    "d"
   ]
  },
  {
   "cell_type": "markdown",
   "id": "72585899-29f0-40cc-a580-45960cc318e9",
   "metadata": {},
   "source": [
    "**Convert string to list**"
   ]
  },
  {
   "cell_type": "code",
   "execution_count": 167,
   "id": "6bf50efd-0489-447c-a201-c6a9a174f0ab",
   "metadata": {},
   "outputs": [
    {
     "data": {
      "text/plain": [
       "['hai', 'how', 'are', 'you']"
      ]
     },
     "execution_count": 167,
     "metadata": {},
     "output_type": "execute_result"
    }
   ],
   "source": [
    "# split: convert string to list\n",
    "str1='hai how are you'\n",
    "l=str1.split()\n",
    "l"
   ]
  },
  {
   "cell_type": "markdown",
   "id": "f3f6f519-edb8-4f2a-b8fe-8a3591d8e187",
   "metadata": {},
   "source": [
    "**join: convert list to string**"
   ]
  },
  {
   "cell_type": "code",
   "execution_count": 168,
   "id": "399ed301-b49b-4643-9d72-9e0865799a11",
   "metadata": {},
   "outputs": [
    {
     "data": {
      "text/plain": [
       "'hai how are you'"
      ]
     },
     "execution_count": 168,
     "metadata": {},
     "output_type": "execute_result"
    }
   ],
   "source": [
    "l=['hai', 'how', 'are', 'you']\n",
    "new_str=' '.join(l)\n",
    "new_str"
   ]
  },
  {
   "cell_type": "code",
   "execution_count": 169,
   "id": "0a6e0fad-ee1c-4ded-a4be-fb20c77f6e5f",
   "metadata": {},
   "outputs": [
    {
     "data": {
      "text/plain": [
       "{'Ramesh': 25, 'Suresh': 30, 'Manish': 35}"
      ]
     },
     "execution_count": 169,
     "metadata": {},
     "output_type": "execute_result"
    }
   ],
   "source": [
    "name=['Ramesh','Suresh','Manish']\n",
    "age=[25,30,35]\n",
    "d={}\n",
    "for i,j in zip(name,age):\n",
    "    d[i]=j\n",
    "\n",
    "d"
   ]
  },
  {
   "cell_type": "markdown",
   "id": "14034d96-9563-46c2-b179-83fb1125be3b",
   "metadata": {},
   "source": [
    "**items-keys-values**\n",
    "- items means both keys and values come together\n",
    "\n",
    "- keys means only dictionary keys\n",
    "\n",
    "- values means only dictionary values"
   ]
  },
  {
   "cell_type": "code",
   "execution_count": 171,
   "id": "66a315e7-4b04-4c06-a435-83fe5e8aa5a1",
   "metadata": {},
   "outputs": [
    {
     "data": {
      "text/plain": [
       "dict_items([('Ramesh', 50), ('Suresh', 100), ('Sathish', 150), ('Manish', 200)])"
      ]
     },
     "execution_count": 171,
     "metadata": {},
     "output_type": "execute_result"
    }
   ],
   "source": [
    "d={'Ramesh': 50, 'Suresh': 100, 'Sathish': 150, 'Manish': 200}\n",
    "it=d.items()\n",
    "it\n"
   ]
  },
  {
   "cell_type": "code",
   "execution_count": 172,
   "id": "8f687b4b-fd91-4691-b24f-d50c741e953d",
   "metadata": {},
   "outputs": [
    {
     "data": {
      "text/plain": [
       "['Ramesh', 'Suresh', 'Sathish', 'Manish']"
      ]
     },
     "execution_count": 172,
     "metadata": {},
     "output_type": "execute_result"
    }
   ],
   "source": [
    "d={'Ramesh': 50, 'Suresh': 100, 'Sathish': 150, 'Manish': 200}\n",
    "it=d.items() # items\n",
    "items_list=list(it) # list type\n",
    "name=[]\n",
    "age=[]\n",
    "for i in items_list:\n",
    "    name.append(i[0])\n",
    "    age.append(i[1])\n",
    "name"
   ]
  },
  {
   "cell_type": "markdown",
   "id": "34da0273-5666-4e7d-9931-ceff7bdec355",
   "metadata": {},
   "source": [
    "# Lambda function\n",
    "- Lambda function also a function \n",
    "\n",
    "- It is a kind of a single line function\n",
    "\n",
    "- we already seen list comprehension which means single line\n",
    "\n",
    "- lambda functions give a flexibility to stop writing many lines\n",
    "\n",
    "- on iterative execution it will save the timing"
   ]
  },
  {
   "cell_type": "code",
   "execution_count": 174,
   "id": "f5bf76be-a172-45a9-9bf2-5390c302016a",
   "metadata": {},
   "outputs": [
    {
     "data": {
      "text/plain": [
       "30"
      ]
     },
     "execution_count": 174,
     "metadata": {},
     "output_type": "execute_result"
    }
   ],
   "source": [
    "def summ(num):\n",
    "    return(num+10)\n",
    "\n",
    "summ(20)"
   ]
  },
  {
   "cell_type": "markdown",
   "id": "61b53ee7-ffcf-4a23-913b-6647e75b3388",
   "metadata": {},
   "source": [
    "$pattern-1$\n",
    "- function name\n",
    "\n",
    "- variable name\n",
    "\n",
    "- return output\n"
   ]
  },
  {
   "cell_type": "code",
   "execution_count": 175,
   "id": "d4109a38-d7ed-49a6-aa2f-003e278d616d",
   "metadata": {},
   "outputs": [],
   "source": [
    "#<function_name>= lambda <variable_name>: <return_output>"
   ]
  },
  {
   "cell_type": "code",
   "execution_count": 176,
   "id": "cf14ac96-6ff1-4359-a97c-0a515d3e2938",
   "metadata": {},
   "outputs": [
    {
     "data": {
      "text/plain": [
       "40"
      ]
     },
     "execution_count": 176,
     "metadata": {},
     "output_type": "execute_result"
    }
   ],
   "source": [
    "summ=lambda num : num+10\n",
    "summ(30)"
   ]
  },
  {
   "cell_type": "code",
   "execution_count": 177,
   "id": "afca5589-76db-4b51-bff0-6f486df0ccfd",
   "metadata": {},
   "outputs": [
    {
     "data": {
      "text/plain": [
       "1000"
      ]
     },
     "execution_count": 177,
     "metadata": {},
     "output_type": "execute_result"
    }
   ],
   "source": [
    "def cube(x):\n",
    "    return(x*x*x)\n",
    "cube(10)"
   ]
  },
  {
   "cell_type": "code",
   "execution_count": 178,
   "id": "e954d38e-98d0-4cd5-8c3c-5c4df2188294",
   "metadata": {},
   "outputs": [
    {
     "data": {
      "text/plain": [
       "8000"
      ]
     },
     "execution_count": 178,
     "metadata": {},
     "output_type": "execute_result"
    }
   ],
   "source": [
    "cube=lambda x:x*x*x\n",
    "cube(20)"
   ]
  },
  {
   "cell_type": "markdown",
   "id": "4a363aa7-166a-47ac-885f-d4c7615c19c8",
   "metadata": {},
   "source": [
    "$pattern-2$\n",
    "\n",
    "**Two arguments**"
   ]
  },
  {
   "cell_type": "code",
   "execution_count": 179,
   "id": "a476d67a-458c-4c2c-b73e-ca12bec84ad1",
   "metadata": {},
   "outputs": [
    {
     "data": {
      "text/plain": [
       "30"
      ]
     },
     "execution_count": 179,
     "metadata": {},
     "output_type": "execute_result"
    }
   ],
   "source": [
    "def add(n1,n2):\n",
    "    return(n1+n2)\n",
    "\n",
    "add(10,20)"
   ]
  },
  {
   "cell_type": "code",
   "execution_count": 180,
   "id": "3f04ddd9-96d6-414d-912b-ef20a878451b",
   "metadata": {},
   "outputs": [],
   "source": [
    "#<function name>=lambda <arg1>,<arg2>: <output>"
   ]
  },
  {
   "cell_type": "code",
   "execution_count": 181,
   "id": "e9414cda-fab2-4495-aa0d-1ca824afb7ca",
   "metadata": {},
   "outputs": [
    {
     "data": {
      "text/plain": [
       "30"
      ]
     },
     "execution_count": 181,
     "metadata": {},
     "output_type": "execute_result"
    }
   ],
   "source": [
    "add=lambda n1,n2:n1+n2\n",
    "add(10,20)"
   ]
  },
  {
   "cell_type": "markdown",
   "id": "f322d94a-d3a3-4ee9-b797-607ebf84e74d",
   "metadata": {},
   "source": [
    "$pattern-3$\n",
    "\n",
    "**Default arguments**"
   ]
  },
  {
   "cell_type": "code",
   "execution_count": 182,
   "id": "3cb757c1-ee90-4301-8bcb-e0f45f7080b1",
   "metadata": {},
   "outputs": [
    {
     "data": {
      "text/plain": [
       "43.33"
      ]
     },
     "execution_count": 182,
     "metadata": {},
     "output_type": "execute_result"
    }
   ],
   "source": [
    "avg=lambda n1,n2,n3=100 : round((n1+n2+n3)/3,2)\n",
    "avg(10,20)"
   ]
  },
  {
   "cell_type": "markdown",
   "id": "5a9910bd-cb0d-43ec-bf63-f9b43a80c442",
   "metadata": {},
   "source": [
    "$Patterns-4$\n",
    "\n",
    "**if**"
   ]
  },
  {
   "cell_type": "code",
   "execution_count": 183,
   "id": "b7d12c61-6404-4fdf-9cce-c975a28f5ec3",
   "metadata": {},
   "outputs": [
    {
     "data": {
      "text/plain": [
       "'hello'"
      ]
     },
     "execution_count": 183,
     "metadata": {},
     "output_type": "execute_result"
    }
   ],
   "source": [
    "def greet(n1):\n",
    "    if n1>10:\n",
    "        return(\"hello\")\n",
    "greet(20)"
   ]
  },
  {
   "cell_type": "code",
   "execution_count": 184,
   "id": "4a4e5c84-af26-4819-9a1e-1103116267fb",
   "metadata": {},
   "outputs": [
    {
     "data": {
      "text/plain": [
       "'bye'"
      ]
     },
     "execution_count": 184,
     "metadata": {},
     "output_type": "execute_result"
    }
   ],
   "source": [
    "greet= lambda n1 : 'hello' if n1>10 else 'bye'\n",
    "greet(10)"
   ]
  },
  {
   "cell_type": "code",
   "execution_count": 185,
   "id": "b323de8d-ac07-471e-88f0-efb51b08fc2d",
   "metadata": {},
   "outputs": [
    {
     "data": {
      "text/plain": [
       "'20 is greater'"
      ]
     },
     "execution_count": 185,
     "metadata": {},
     "output_type": "execute_result"
    }
   ],
   "source": [
    "# wap lambda function to identidy the greatet number between two numbers\n",
    "\n",
    "maxx=lambda n1,n2: f\"{n2} is greater\" if n2>n1 else f\"{n1} is greater\"\n",
    "maxx(10,20)"
   ]
  },
  {
   "cell_type": "markdown",
   "id": "21ec6c28-70d4-498b-b84c-3a1a2fdefd4f",
   "metadata": {},
   "source": [
    "$Pattern-5$\n",
    "\n",
    "**using list**"
   ]
  },
  {
   "cell_type": "code",
   "execution_count": 186,
   "id": "e9f929a7-7c62-4a77-94af-2838f73d88a9",
   "metadata": {},
   "outputs": [
    {
     "data": {
      "text/plain": [
       "['Hyd', 'Blr', 'Chennai']"
      ]
     },
     "execution_count": 186,
     "metadata": {},
     "output_type": "execute_result"
    }
   ],
   "source": [
    "list1=['hyd','blr','chennai']\n",
    "# op=list2=['Hyd','Blr','Chennai']\n",
    "list2=[]\n",
    "for i in list1:\n",
    "    list2.append(i.capitalize())\n",
    "\n",
    "list2"
   ]
  },
  {
   "cell_type": "code",
   "execution_count": 187,
   "id": "e1e74f3e-ffdf-4cdf-ba0d-0fdee855abcf",
   "metadata": {},
   "outputs": [
    {
     "data": {
      "text/plain": [
       "(<function __main__.<lambda>(i)>, ['hyd', 'blr', 'chennai'])"
      ]
     },
     "execution_count": 187,
     "metadata": {},
     "output_type": "execute_result"
    }
   ],
   "source": [
    "# lambda <variable name> : <output>,<iterable>\n",
    "lambda i : i.capitalize(),list1"
   ]
  },
  {
   "cell_type": "markdown",
   "id": "ce162bfa-c919-4c0b-a803-c56c1d73bed7",
   "metadata": {},
   "source": [
    "**map**"
   ]
  },
  {
   "cell_type": "code",
   "execution_count": 189,
   "id": "2a00e299-7933-4d5e-95e2-399abfbdcc3c",
   "metadata": {},
   "outputs": [
    {
     "data": {
      "text/plain": [
       "['Hyd', 'Blr', 'Chennai']"
      ]
     },
     "execution_count": 189,
     "metadata": {},
     "output_type": "execute_result"
    }
   ],
   "source": [
    "list(map(lambda i : i.capitalize(),list1))"
   ]
  },
  {
   "cell_type": "code",
   "execution_count": 190,
   "id": "6c83404e-a84d-4843-b73d-745567de11de",
   "metadata": {},
   "outputs": [
    {
     "name": "stdout",
     "output_type": "stream",
     "text": [
      "['Hyd', 'Blr', 'Chennai']\n",
      "['HYD', 'BLR', 'CHENNAI']\n",
      "['hyd', 'blr', 'chennai']\n",
      "['***hyd****', '***blr****', '*chennai**']\n"
     ]
    }
   ],
   "source": [
    "list1 = ['hyd','blr','chennai']\n",
    "print(list(map(lambda i: i.capitalize(), list1)))\n",
    "print(list(map(lambda i: i.upper(), list1)))\n",
    "print(list(map(lambda i: i.lower(), list1)))\n",
    "print(list(map(lambda i: i.center(10,\"*\"), list1)))"
   ]
  },
  {
   "cell_type": "code",
   "execution_count": 191,
   "id": "3b9b980a-3542-4459-bd40-08bdd6ae3d79",
   "metadata": {},
   "outputs": [
    {
     "data": {
      "text/plain": [
       "[False, False, False]"
      ]
     },
     "execution_count": 191,
     "metadata": {},
     "output_type": "execute_result"
    }
   ],
   "source": [
    "# step-1: whenever you are applying a condition on list\n",
    "#         write only condition with out using if\n",
    "lambda i: '#' in i,list1\n",
    "\n",
    "list(map(lambda i: '#' in i,list1))"
   ]
  },
  {
   "cell_type": "markdown",
   "id": "4cd436a7-73e6-4472-a35f-6b23895e16cc",
   "metadata": {},
   "source": [
    "**filter method**"
   ]
  },
  {
   "cell_type": "code",
   "execution_count": 192,
   "id": "7a35f66b-9673-45f1-a3d2-309704fd6160",
   "metadata": {},
   "outputs": [
    {
     "data": {
      "text/plain": [
       "[]"
      ]
     },
     "execution_count": 192,
     "metadata": {},
     "output_type": "execute_result"
    }
   ],
   "source": [
    "list(filter(lambda i: '#' in i,list1))"
   ]
  },
  {
   "cell_type": "code",
   "execution_count": 193,
   "id": "4dd8ca54-b688-4a35-92ac-360ce7d162a4",
   "metadata": {},
   "outputs": [
    {
     "data": {
      "text/plain": [
       "['hyd', 'blr']"
      ]
     },
     "execution_count": 193,
     "metadata": {},
     "output_type": "execute_result"
    }
   ],
   "source": [
    "list1 = ['hyd','blr','chennai','mumbai']\n",
    "#list2=['hyd','blr'] # len(i)<=3\n",
    "\n",
    "list(filter(lambda i: len(i)<=3,list1))"
   ]
  },
  {
   "cell_type": "markdown",
   "id": "ff1fd502-4b07-48b8-b790-f3352e02a70e",
   "metadata": {},
   "source": [
    "# Text book"
   ]
  },
  {
   "cell_type": "markdown",
   "id": "d108dda4-d163-47d3-af33-71faac12d598",
   "metadata": {},
   "source": [
    "**Def. of Module:**\n",
    "- A module is a collection Functions, Variables and Class names \r\n",
    "Examples: math, cmath, calendar, rand..e\n",
    "- that Garbage Collector \n",
    "Collects Un-used Memory space and Improves peformanace of python Real Time Applications\n",
    "- static Typed Programming Languages:declare variables mandatory:java,c#,c\n",
    "- Dynamically Typ:ed Programming Languages:not necessary to use Variable declration:python\n",
    "- In Python Programming, All Values are stored in the form of OBJECTS and Behind of object \n",
    "there exist CLASS\n",
    "- The process of converting Technical Error Messages into user-Friendly Error message is called Exception Handling\n",
    "Literal-value passing as input to the program : Int,float,string,boolean,date\n",
    "- all variables are called objects,literal stored in distinct names :variables\n",
    "- All class Name can be used as Variable Name bcoz class Names are not keywortc"
   ]
  },
  {
   "cell_type": "markdown",
   "id": "8073d06c-05a2-4671-b389-1ca0482222dd",
   "metadata": {},
   "source": [
    "**Datatypes**\n",
    "- 1.Fundamental Category Data types:store single value\n",
    "- int\n",
    "  - Decimal:0,1,2,3,4,5,6,7,8,9\n",
    "      - Base:10\n",
    "  - Binary:0,1\n",
    "      - Base:2\n",
    "      - 0b or 0B\n",
    "  - Octal:0,1,2,3,4,5,6,7\n",
    "      - Base:8\n",
    "      - 0o or 0O\n",
    "  - Hexa Decimal:0,1,2,3,4,5,6,7,8,9,A,B,C,D,E,F\n",
    "      - Base:8\n",
    "      - 0x or 0X\n",
    "- float:only allow decimal,not allow binary,octal,hexa\n",
    "  - example:a=2e3\n",
    "     - 2000.0\n",
    "  -a=10e-2\n",
    "     - 0.1\n",
    "- boolean:True or False\n",
    "- complex:a+bj:real+imginary\n",
    "  - the real and imginary parts are by default belogs to float\n",
    "- 2.Sequence Category Data types\n",
    "- str:pre-defined class:quotes\"\"\n",
    "  - multi_linedata:\"\"\"    \"\"\"\n",
    "  - operations\n",
    "      - 1.Indexing\n",
    "      - 2.Slicing     \n",
    "- bytes\n",
    "- bytearray\n",
    "- range"
   ]
  },
  {
   "cell_type": "code",
   "execution_count": null,
   "id": "596f1a19-ee9a-492f-a402-00b758bad720",
   "metadata": {},
   "outputs": [],
   "source": []
  }
 ],
 "metadata": {
  "kernelspec": {
   "display_name": "Python 3 (ipykernel)",
   "language": "python",
   "name": "python3"
  },
  "language_info": {
   "codemirror_mode": {
    "name": "ipython",
    "version": 3
   },
   "file_extension": ".py",
   "mimetype": "text/x-python",
   "name": "python",
   "nbconvert_exporter": "python",
   "pygments_lexer": "ipython3",
   "version": "3.12.1"
  }
 },
 "nbformat": 4,
 "nbformat_minor": 5
}
